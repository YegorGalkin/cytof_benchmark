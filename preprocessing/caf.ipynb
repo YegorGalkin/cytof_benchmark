{
 "cells": [
  {
   "cell_type": "code",
   "execution_count": 1,
   "metadata": {
    "collapsed": true
   },
   "outputs": [],
   "source": [
    "import pandas as pd"
   ]
  },
  {
   "cell_type": "code",
   "execution_count": 2,
   "outputs": [],
   "source": [
    "caf = pd.read_pickle('/data/PycharmProjects/cytof_benchmark/data/caf/Metadata_PDO_CAF_screening/Metadata_final_paper')"
   ],
   "metadata": {
    "collapsed": false
   }
  },
  {
   "cell_type": "code",
   "execution_count": 3,
   "outputs": [
    {
     "data": {
      "text/plain": "       pHH3       RFP   mCHERRY  Vimentin       EpCAM       CK18      Pan_CK  \\\n0  1.444846  0.000000  0.000000  4.498622   66.200089  91.111916  161.084412   \n1  5.783943  0.056214  0.434517  0.000000  190.450790   0.000000   17.851675   \n2  1.165297  2.312362  0.357034  0.000000  266.436646   0.000000   42.965565   \n3  0.000000  0.000000  0.000000  0.000000   84.960304  30.397985   56.991665   \n4  0.498328  5.136724  0.000000  3.886348   48.076462   0.416286   30.709440   \n\n          GFP        IdU      pPDK1  ...      Date  Patient  Culture  \\\n0  406.746246   4.811596  55.422546  ...  20211119        5      PDO   \n1    0.000000   5.958662   4.794238  ...  20211119        5      PDO   \n2    0.000000   0.000000   3.052261  ...  20211119        5      PDO   \n3    0.000000   0.000000  15.021135  ...  20211119        5      PDO   \n4    1.689452  28.263380  18.386526  ...  20211119        5      PDO   \n\n   Treatment  Concentration  Replicate  Cell_type  pPKCa  Plate  Batch  \n0          O              2          B       PDOs    NaN      O      2  \n1          O              2          B       PDOs    NaN      O      2  \n2          O              2          B       PDOs    NaN      O      2  \n3          O              2          B       PDOs    NaN      O      2  \n4          O              2          B       PDOs    NaN      O      2  \n\n[5 rows x 54 columns]",
      "text/html": "<div>\n<style scoped>\n    .dataframe tbody tr th:only-of-type {\n        vertical-align: middle;\n    }\n\n    .dataframe tbody tr th {\n        vertical-align: top;\n    }\n\n    .dataframe thead th {\n        text-align: right;\n    }\n</style>\n<table border=\"1\" class=\"dataframe\">\n  <thead>\n    <tr style=\"text-align: right;\">\n      <th></th>\n      <th>pHH3</th>\n      <th>RFP</th>\n      <th>mCHERRY</th>\n      <th>Vimentin</th>\n      <th>EpCAM</th>\n      <th>CK18</th>\n      <th>Pan_CK</th>\n      <th>GFP</th>\n      <th>IdU</th>\n      <th>pPDK1</th>\n      <th>...</th>\n      <th>Date</th>\n      <th>Patient</th>\n      <th>Culture</th>\n      <th>Treatment</th>\n      <th>Concentration</th>\n      <th>Replicate</th>\n      <th>Cell_type</th>\n      <th>pPKCa</th>\n      <th>Plate</th>\n      <th>Batch</th>\n    </tr>\n  </thead>\n  <tbody>\n    <tr>\n      <th>0</th>\n      <td>1.444846</td>\n      <td>0.000000</td>\n      <td>0.000000</td>\n      <td>4.498622</td>\n      <td>66.200089</td>\n      <td>91.111916</td>\n      <td>161.084412</td>\n      <td>406.746246</td>\n      <td>4.811596</td>\n      <td>55.422546</td>\n      <td>...</td>\n      <td>20211119</td>\n      <td>5</td>\n      <td>PDO</td>\n      <td>O</td>\n      <td>2</td>\n      <td>B</td>\n      <td>PDOs</td>\n      <td>NaN</td>\n      <td>O</td>\n      <td>2</td>\n    </tr>\n    <tr>\n      <th>1</th>\n      <td>5.783943</td>\n      <td>0.056214</td>\n      <td>0.434517</td>\n      <td>0.000000</td>\n      <td>190.450790</td>\n      <td>0.000000</td>\n      <td>17.851675</td>\n      <td>0.000000</td>\n      <td>5.958662</td>\n      <td>4.794238</td>\n      <td>...</td>\n      <td>20211119</td>\n      <td>5</td>\n      <td>PDO</td>\n      <td>O</td>\n      <td>2</td>\n      <td>B</td>\n      <td>PDOs</td>\n      <td>NaN</td>\n      <td>O</td>\n      <td>2</td>\n    </tr>\n    <tr>\n      <th>2</th>\n      <td>1.165297</td>\n      <td>2.312362</td>\n      <td>0.357034</td>\n      <td>0.000000</td>\n      <td>266.436646</td>\n      <td>0.000000</td>\n      <td>42.965565</td>\n      <td>0.000000</td>\n      <td>0.000000</td>\n      <td>3.052261</td>\n      <td>...</td>\n      <td>20211119</td>\n      <td>5</td>\n      <td>PDO</td>\n      <td>O</td>\n      <td>2</td>\n      <td>B</td>\n      <td>PDOs</td>\n      <td>NaN</td>\n      <td>O</td>\n      <td>2</td>\n    </tr>\n    <tr>\n      <th>3</th>\n      <td>0.000000</td>\n      <td>0.000000</td>\n      <td>0.000000</td>\n      <td>0.000000</td>\n      <td>84.960304</td>\n      <td>30.397985</td>\n      <td>56.991665</td>\n      <td>0.000000</td>\n      <td>0.000000</td>\n      <td>15.021135</td>\n      <td>...</td>\n      <td>20211119</td>\n      <td>5</td>\n      <td>PDO</td>\n      <td>O</td>\n      <td>2</td>\n      <td>B</td>\n      <td>PDOs</td>\n      <td>NaN</td>\n      <td>O</td>\n      <td>2</td>\n    </tr>\n    <tr>\n      <th>4</th>\n      <td>0.498328</td>\n      <td>5.136724</td>\n      <td>0.000000</td>\n      <td>3.886348</td>\n      <td>48.076462</td>\n      <td>0.416286</td>\n      <td>30.709440</td>\n      <td>1.689452</td>\n      <td>28.263380</td>\n      <td>18.386526</td>\n      <td>...</td>\n      <td>20211119</td>\n      <td>5</td>\n      <td>PDO</td>\n      <td>O</td>\n      <td>2</td>\n      <td>B</td>\n      <td>PDOs</td>\n      <td>NaN</td>\n      <td>O</td>\n      <td>2</td>\n    </tr>\n  </tbody>\n</table>\n<p>5 rows × 54 columns</p>\n</div>"
     },
     "execution_count": 3,
     "metadata": {},
     "output_type": "execute_result"
    }
   ],
   "source": [
    "caf.head()"
   ],
   "metadata": {
    "collapsed": false
   }
  },
  {
   "cell_type": "code",
   "execution_count": 4,
   "outputs": [
    {
     "data": {
      "text/plain": "               pHH3           RFP       mCHERRY      Vimentin         EpCAM  \\\ncount  2.475603e+07  2.475603e+07  2.475603e+07  2.475603e+07  2.475603e+07   \nmean   7.175667e+00  1.736297e+01  5.772795e+01  2.617937e+02  1.043641e+02   \nstd    1.043132e+02  5.829594e+01  1.717067e+02  4.561206e+02  2.724746e+02   \nmin    0.000000e+00  0.000000e+00  0.000000e+00  0.000000e+00  0.000000e+00   \n25%    0.000000e+00  0.000000e+00  0.000000e+00  6.962135e+00  4.749925e+00   \n50%    4.524968e-01  0.000000e+00  3.130657e+00  8.833874e+01  1.729570e+01   \n75%    3.107610e+00  3.353819e+00  1.077746e+01  3.074789e+02  8.274981e+01   \nmax    3.623342e+04  5.982388e+03  5.092597e+04  5.273977e+03  5.326213e+04   \n\n               CK18        Pan_CK           GFP           IdU         pPDK1  \\\ncount  2.475603e+07  2.475603e+07  2.475603e+07  2.475603e+07  2.475603e+07   \nmean   5.295413e+02  4.454270e+02  1.970079e+02  3.082118e+01  1.676158e+02   \nstd    1.370643e+03  9.819385e+02  3.276808e+02  1.394900e+02  2.022435e+02   \nmin    0.000000e+00  0.000000e+00  0.000000e+00  0.000000e+00  0.000000e+00   \n25%    6.056856e+00  9.040000e-01  1.511462e+01  0.000000e+00  4.258093e+01   \n50%    2.768588e+01  1.030588e+01  7.202448e+01  1.562075e-01  1.095550e+02   \n75%    3.607113e+02  4.316132e+02  2.438679e+02  4.090528e+00  2.226025e+02   \nmax    5.102944e+04  2.986173e+04  3.996925e+04  1.635291e+04  4.754298e+04   \n\n       ...           PLK          CHGA        pDNAPK           pS6  \\\ncount  ...  2.475603e+07  2.475603e+07  2.475603e+07  2.475603e+07   \nmean   ...  1.496439e+02  1.252705e+01  2.666056e+02  2.291064e+01   \nstd    ...  6.263057e+02  2.052503e+02  7.226072e+02  5.027700e+02   \nmin    ...  0.000000e+00  0.000000e+00  0.000000e+00  0.000000e+00   \n25%    ...  1.118893e+01  0.000000e+00  6.836710e+01  0.000000e+00   \n50%    ...  5.063707e+01  1.750320e+00  1.583163e+02  8.757224e+00   \n75%    ...  1.312105e+02  1.749919e+01  3.330176e+02  2.924749e+01   \nmax    ...  7.862975e+05  5.292731e+05  7.176411e+05  7.660700e+05   \n\n               CD90         cPARP         pCHK1     Cyclin_B1         pPKCa  \\\ncount  2.475603e+07  2.475603e+07  2.475603e+07  2.475603e+07  1.363873e+07   \nmean   2.446346e+02  9.107769e+01  3.688797e+02  1.174043e+02  3.093807e+01   \nstd    5.709194e+02  4.711745e+02  1.639062e+03  6.980861e+02  1.008334e+02   \nmin    0.000000e+00  0.000000e+00  0.000000e+00  0.000000e+00  0.000000e+00   \n25%    9.904604e+00  1.404075e+01  4.242817e+01  1.965570e+01  8.761494e+00   \n50%    7.523538e+01  4.491255e+01  1.360860e+02  5.909806e+01  2.262584e+01   \n75%    2.429940e+02  9.638440e+01  4.359887e+02  1.252899e+02  4.198783e+01   \nmax    5.243924e+05  7.258786e+05  5.095395e+05  5.514162e+05  9.443939e+04   \n\n              Batch  \ncount  2.475603e+07  \nmean   1.132230e+00  \nstd    3.387401e-01  \nmin    1.000000e+00  \n25%    1.000000e+00  \n50%    1.000000e+00  \n75%    1.000000e+00  \nmax    2.000000e+00  \n\n[8 rows x 46 columns]",
      "text/html": "<div>\n<style scoped>\n    .dataframe tbody tr th:only-of-type {\n        vertical-align: middle;\n    }\n\n    .dataframe tbody tr th {\n        vertical-align: top;\n    }\n\n    .dataframe thead th {\n        text-align: right;\n    }\n</style>\n<table border=\"1\" class=\"dataframe\">\n  <thead>\n    <tr style=\"text-align: right;\">\n      <th></th>\n      <th>pHH3</th>\n      <th>RFP</th>\n      <th>mCHERRY</th>\n      <th>Vimentin</th>\n      <th>EpCAM</th>\n      <th>CK18</th>\n      <th>Pan_CK</th>\n      <th>GFP</th>\n      <th>IdU</th>\n      <th>pPDK1</th>\n      <th>...</th>\n      <th>PLK</th>\n      <th>CHGA</th>\n      <th>pDNAPK</th>\n      <th>pS6</th>\n      <th>CD90</th>\n      <th>cPARP</th>\n      <th>pCHK1</th>\n      <th>Cyclin_B1</th>\n      <th>pPKCa</th>\n      <th>Batch</th>\n    </tr>\n  </thead>\n  <tbody>\n    <tr>\n      <th>count</th>\n      <td>2.475603e+07</td>\n      <td>2.475603e+07</td>\n      <td>2.475603e+07</td>\n      <td>2.475603e+07</td>\n      <td>2.475603e+07</td>\n      <td>2.475603e+07</td>\n      <td>2.475603e+07</td>\n      <td>2.475603e+07</td>\n      <td>2.475603e+07</td>\n      <td>2.475603e+07</td>\n      <td>...</td>\n      <td>2.475603e+07</td>\n      <td>2.475603e+07</td>\n      <td>2.475603e+07</td>\n      <td>2.475603e+07</td>\n      <td>2.475603e+07</td>\n      <td>2.475603e+07</td>\n      <td>2.475603e+07</td>\n      <td>2.475603e+07</td>\n      <td>1.363873e+07</td>\n      <td>2.475603e+07</td>\n    </tr>\n    <tr>\n      <th>mean</th>\n      <td>7.175667e+00</td>\n      <td>1.736297e+01</td>\n      <td>5.772795e+01</td>\n      <td>2.617937e+02</td>\n      <td>1.043641e+02</td>\n      <td>5.295413e+02</td>\n      <td>4.454270e+02</td>\n      <td>1.970079e+02</td>\n      <td>3.082118e+01</td>\n      <td>1.676158e+02</td>\n      <td>...</td>\n      <td>1.496439e+02</td>\n      <td>1.252705e+01</td>\n      <td>2.666056e+02</td>\n      <td>2.291064e+01</td>\n      <td>2.446346e+02</td>\n      <td>9.107769e+01</td>\n      <td>3.688797e+02</td>\n      <td>1.174043e+02</td>\n      <td>3.093807e+01</td>\n      <td>1.132230e+00</td>\n    </tr>\n    <tr>\n      <th>std</th>\n      <td>1.043132e+02</td>\n      <td>5.829594e+01</td>\n      <td>1.717067e+02</td>\n      <td>4.561206e+02</td>\n      <td>2.724746e+02</td>\n      <td>1.370643e+03</td>\n      <td>9.819385e+02</td>\n      <td>3.276808e+02</td>\n      <td>1.394900e+02</td>\n      <td>2.022435e+02</td>\n      <td>...</td>\n      <td>6.263057e+02</td>\n      <td>2.052503e+02</td>\n      <td>7.226072e+02</td>\n      <td>5.027700e+02</td>\n      <td>5.709194e+02</td>\n      <td>4.711745e+02</td>\n      <td>1.639062e+03</td>\n      <td>6.980861e+02</td>\n      <td>1.008334e+02</td>\n      <td>3.387401e-01</td>\n    </tr>\n    <tr>\n      <th>min</th>\n      <td>0.000000e+00</td>\n      <td>0.000000e+00</td>\n      <td>0.000000e+00</td>\n      <td>0.000000e+00</td>\n      <td>0.000000e+00</td>\n      <td>0.000000e+00</td>\n      <td>0.000000e+00</td>\n      <td>0.000000e+00</td>\n      <td>0.000000e+00</td>\n      <td>0.000000e+00</td>\n      <td>...</td>\n      <td>0.000000e+00</td>\n      <td>0.000000e+00</td>\n      <td>0.000000e+00</td>\n      <td>0.000000e+00</td>\n      <td>0.000000e+00</td>\n      <td>0.000000e+00</td>\n      <td>0.000000e+00</td>\n      <td>0.000000e+00</td>\n      <td>0.000000e+00</td>\n      <td>1.000000e+00</td>\n    </tr>\n    <tr>\n      <th>25%</th>\n      <td>0.000000e+00</td>\n      <td>0.000000e+00</td>\n      <td>0.000000e+00</td>\n      <td>6.962135e+00</td>\n      <td>4.749925e+00</td>\n      <td>6.056856e+00</td>\n      <td>9.040000e-01</td>\n      <td>1.511462e+01</td>\n      <td>0.000000e+00</td>\n      <td>4.258093e+01</td>\n      <td>...</td>\n      <td>1.118893e+01</td>\n      <td>0.000000e+00</td>\n      <td>6.836710e+01</td>\n      <td>0.000000e+00</td>\n      <td>9.904604e+00</td>\n      <td>1.404075e+01</td>\n      <td>4.242817e+01</td>\n      <td>1.965570e+01</td>\n      <td>8.761494e+00</td>\n      <td>1.000000e+00</td>\n    </tr>\n    <tr>\n      <th>50%</th>\n      <td>4.524968e-01</td>\n      <td>0.000000e+00</td>\n      <td>3.130657e+00</td>\n      <td>8.833874e+01</td>\n      <td>1.729570e+01</td>\n      <td>2.768588e+01</td>\n      <td>1.030588e+01</td>\n      <td>7.202448e+01</td>\n      <td>1.562075e-01</td>\n      <td>1.095550e+02</td>\n      <td>...</td>\n      <td>5.063707e+01</td>\n      <td>1.750320e+00</td>\n      <td>1.583163e+02</td>\n      <td>8.757224e+00</td>\n      <td>7.523538e+01</td>\n      <td>4.491255e+01</td>\n      <td>1.360860e+02</td>\n      <td>5.909806e+01</td>\n      <td>2.262584e+01</td>\n      <td>1.000000e+00</td>\n    </tr>\n    <tr>\n      <th>75%</th>\n      <td>3.107610e+00</td>\n      <td>3.353819e+00</td>\n      <td>1.077746e+01</td>\n      <td>3.074789e+02</td>\n      <td>8.274981e+01</td>\n      <td>3.607113e+02</td>\n      <td>4.316132e+02</td>\n      <td>2.438679e+02</td>\n      <td>4.090528e+00</td>\n      <td>2.226025e+02</td>\n      <td>...</td>\n      <td>1.312105e+02</td>\n      <td>1.749919e+01</td>\n      <td>3.330176e+02</td>\n      <td>2.924749e+01</td>\n      <td>2.429940e+02</td>\n      <td>9.638440e+01</td>\n      <td>4.359887e+02</td>\n      <td>1.252899e+02</td>\n      <td>4.198783e+01</td>\n      <td>1.000000e+00</td>\n    </tr>\n    <tr>\n      <th>max</th>\n      <td>3.623342e+04</td>\n      <td>5.982388e+03</td>\n      <td>5.092597e+04</td>\n      <td>5.273977e+03</td>\n      <td>5.326213e+04</td>\n      <td>5.102944e+04</td>\n      <td>2.986173e+04</td>\n      <td>3.996925e+04</td>\n      <td>1.635291e+04</td>\n      <td>4.754298e+04</td>\n      <td>...</td>\n      <td>7.862975e+05</td>\n      <td>5.292731e+05</td>\n      <td>7.176411e+05</td>\n      <td>7.660700e+05</td>\n      <td>5.243924e+05</td>\n      <td>7.258786e+05</td>\n      <td>5.095395e+05</td>\n      <td>5.514162e+05</td>\n      <td>9.443939e+04</td>\n      <td>2.000000e+00</td>\n    </tr>\n  </tbody>\n</table>\n<p>8 rows × 46 columns</p>\n</div>"
     },
     "execution_count": 4,
     "metadata": {},
     "output_type": "execute_result"
    }
   ],
   "source": [
    "caf.describe()"
   ],
   "metadata": {
    "collapsed": false
   }
  },
  {
   "cell_type": "code",
   "execution_count": 5,
   "outputs": [
    {
     "name": "stdout",
     "output_type": "stream",
     "text": [
      "<class 'pandas.core.frame.DataFrame'>\n",
      "Int64Index: 24756030 entries, 0 to 24756029\n",
      "Data columns (total 54 columns):\n",
      " #   Column               Dtype  \n",
      "---  ------               -----  \n",
      " 0   pHH3                 float64\n",
      " 1   RFP                  float64\n",
      " 2   mCHERRY              float64\n",
      " 3   Vimentin             float64\n",
      " 4   EpCAM                float64\n",
      " 5   CK18                 float64\n",
      " 6   Pan_CK               float64\n",
      " 7   GFP                  float64\n",
      " 8   IdU                  float64\n",
      " 9   pPDK1                float64\n",
      " 10  cCaspase_3           float64\n",
      " 11  Geminin              float64\n",
      " 12  pMEK1_2              float64\n",
      " 13  pNDRG                float64\n",
      " 14  pMKK4_SEK1           float64\n",
      " 15  pBTK                 float64\n",
      " 16  pSRC                 float64\n",
      " 17  p4EBP1               float64\n",
      " 18  pRB                  float64\n",
      " 19  pAKT308              float64\n",
      " 20  pCREB                float64\n",
      " 21  pSMAD1_5_9           float64\n",
      " 22  pAKT473              float64\n",
      " 23  pNF_kB               float64\n",
      " 24  pMKK3_MKK6           float64\n",
      " 25  pP38                 float64\n",
      " 26  pMAPKAPK             float64\n",
      " 27  pAMPKa               float64\n",
      " 28  pBAD                 float64\n",
      " 29  pHistone_H2A         float64\n",
      " 30  p90RSK               float64\n",
      " 31  pP120_catenin        float64\n",
      " 32  Beta_catenin_active  float64\n",
      " 33  pGSK                 float64\n",
      " 34  pERK1_2              float64\n",
      " 35  pSMAD2_3             float64\n",
      " 36  PLK                  float64\n",
      " 37  CHGA                 float64\n",
      " 38  pDNAPK               float64\n",
      " 39  pS6                  float64\n",
      " 40  CD90                 float64\n",
      " 41  cPARP                float64\n",
      " 42  pCHK1                float64\n",
      " 43  Cyclin_B1            float64\n",
      " 44  Date                 object \n",
      " 45  Patient              object \n",
      " 46  Culture              object \n",
      " 47  Treatment            object \n",
      " 48  Concentration        object \n",
      " 49  Replicate            object \n",
      " 50  Cell_type            object \n",
      " 51  pPKCa                float64\n",
      " 52  Plate                object \n",
      " 53  Batch                int64  \n",
      "dtypes: float64(45), int64(1), object(8)\n",
      "memory usage: 10.1+ GB\n"
     ]
    }
   ],
   "source": [
    "caf.info(verbose=True)"
   ],
   "metadata": {
    "collapsed": false
   }
  },
  {
   "cell_type": "code",
   "execution_count": 50,
   "outputs": [
    {
     "data": {
      "text/plain": "20210524    3173236\n20210518    3149842\n20210427    1927367\n20210330    1889317\n20210525    1521593\n20210608    1461054\n20210413    1453888\n20210420    1435208\n20210602    1431783\n20210610    1341461\n20211116    1078112\n20210607    1006433\n20210317     847076\n20210713     844294\n20211125     705647\n20220328     553327\n20211123     498652\n20211119     290172\n20211122     147568\nName: Date, dtype: int64"
     },
     "execution_count": 50,
     "metadata": {},
     "output_type": "execute_result"
    }
   ],
   "source": [
    "caf.Date.value_counts(dropna=False)"
   ],
   "metadata": {
    "collapsed": false
   }
  },
  {
   "cell_type": "code",
   "execution_count": 51,
   "outputs": [
    {
     "data": {
      "text/plain": "109    3878883\n216    3097425\n11     2962184\n23     2850873\n5      2656273\n141    2263855\n27     2036885\n99     1696064\n75     1682135\n21     1631453\nName: Patient, dtype: int64"
     },
     "execution_count": 51,
     "metadata": {},
     "output_type": "execute_result"
    }
   ],
   "source": [
    "caf.Patient.value_counts(dropna=False)"
   ],
   "metadata": {
    "collapsed": false
   }
  },
  {
   "cell_type": "code",
   "execution_count": 52,
   "outputs": [
    {
     "data": {
      "text/plain": "PDOF    10632363\nF        8687150\nPDO      5436517\nName: Culture, dtype: int64"
     },
     "execution_count": 52,
     "metadata": {},
     "output_type": "execute_result"
    }
   ],
   "source": [
    "caf.Culture.value_counts(dropna=False)"
   ],
   "metadata": {
    "collapsed": false
   }
  },
  {
   "cell_type": "code",
   "execution_count": 53,
   "outputs": [
    {
     "data": {
      "text/plain": "F       3648153\nL       3633069\nS       3324671\nVS      2623935\nO       2502245\nDMSO    1898460\nV        997932\nC        983864\nAH       964236\nCS       888937\nCF       851161\nCSF      844524\nSF       823610\nH2O      771233\nName: Treatment, dtype: int64"
     },
     "execution_count": 53,
     "metadata": {},
     "output_type": "execute_result"
    }
   ],
   "source": [
    "caf.Treatment.value_counts(dropna=False)"
   ],
   "metadata": {
    "collapsed": false
   }
  },
  {
   "cell_type": "code",
   "execution_count": 54,
   "outputs": [
    {
     "data": {
      "text/plain": "3    6995326\n2    5291096\n1    4626912\n4    4208767\n0    3633929\nName: Concentration, dtype: int64"
     },
     "execution_count": 54,
     "metadata": {},
     "output_type": "execute_result"
    }
   ],
   "source": [
    "caf.Concentration.value_counts(dropna=False)"
   ],
   "metadata": {
    "collapsed": false
   }
  },
  {
   "cell_type": "code",
   "execution_count": 55,
   "outputs": [
    {
     "data": {
      "text/plain": "C     7958813\nA     7929712\nB     7897789\nCC     346862\nAA     313715\nBB     309139\nName: Replicate, dtype: int64"
     },
     "execution_count": 55,
     "metadata": {},
     "output_type": "execute_result"
    }
   ],
   "source": [
    "caf.Replicate.value_counts(dropna=False)"
   ],
   "metadata": {
    "collapsed": false
   }
  },
  {
   "cell_type": "code",
   "execution_count": 56,
   "outputs": [
    {
     "data": {
      "text/plain": "Fibs    14989899\nPDOs     9766131\nName: Cell_type, dtype: int64"
     },
     "execution_count": 56,
     "metadata": {},
     "output_type": "execute_result"
    }
   ],
   "source": [
    "caf.Cell_type.value_counts(dropna=False)"
   ],
   "metadata": {
    "collapsed": false
   }
  },
  {
   "cell_type": "code",
   "execution_count": 57,
   "outputs": [
    {
     "data": {
      "text/plain": "SLV    12478067\nCSF     9004485\nO       3273478\nName: Plate, dtype: int64"
     },
     "execution_count": 57,
     "metadata": {},
     "output_type": "execute_result"
    }
   ],
   "source": [
    "caf.Plate.value_counts(dropna=False)"
   ],
   "metadata": {
    "collapsed": false
   }
  },
  {
   "cell_type": "code",
   "execution_count": 58,
   "outputs": [
    {
     "data": {
      "text/plain": "1    21482552\n2     3273478\nName: Batch, dtype: int64"
     },
     "execution_count": 58,
     "metadata": {},
     "output_type": "execute_result"
    }
   ],
   "source": [
    "caf.Batch.value_counts(dropna=False)"
   ],
   "metadata": {
    "collapsed": false
   }
  },
  {
   "cell_type": "code",
   "execution_count": 60,
   "outputs": [
    {
     "name": "stdout",
     "output_type": "stream",
     "text": [
      "pHH3                          0\n",
      "RFP                           0\n",
      "mCHERRY                       0\n",
      "Vimentin                      0\n",
      "EpCAM                         0\n",
      "CK18                          0\n",
      "Pan_CK                        0\n",
      "GFP                           0\n",
      "IdU                           0\n",
      "pPDK1                         0\n",
      "cCaspase_3                    0\n",
      "Geminin                       0\n",
      "pMEK1_2                       0\n",
      "pNDRG                         0\n",
      "pMKK4_SEK1                    0\n",
      "pBTK                          0\n",
      "pSRC                          0\n",
      "p4EBP1                        0\n",
      "pRB                           0\n",
      "pAKT308                       0\n",
      "pCREB                         0\n",
      "pSMAD1_5_9                    0\n",
      "pAKT473                       0\n",
      "pNF_kB                        0\n",
      "pMKK3_MKK6                    0\n",
      "pP38                          0\n",
      "pMAPKAPK                      0\n",
      "pAMPKa                        0\n",
      "pBAD                          0\n",
      "pHistone_H2A                  0\n",
      "p90RSK                        0\n",
      "pP120_catenin                 0\n",
      "Beta_catenin_active           0\n",
      "pGSK                          0\n",
      "pERK1_2                       0\n",
      "pSMAD2_3                      0\n",
      "PLK                           0\n",
      "CHGA                          0\n",
      "pDNAPK                        0\n",
      "pS6                           0\n",
      "CD90                          0\n",
      "cPARP                         0\n",
      "pCHK1                         0\n",
      "Cyclin_B1                     0\n",
      "Date                          0\n",
      "Patient                       0\n",
      "Culture                       0\n",
      "Treatment                     0\n",
      "Concentration                 0\n",
      "Replicate                     0\n",
      "Cell_type                     0\n",
      "pPKCa                  11117301\n",
      "Plate                         0\n",
      "Batch                         0\n",
      "dtype: int64\n"
     ]
    }
   ],
   "source": [
    "print(caf.isna().sum())"
   ],
   "metadata": {
    "collapsed": false
   }
  },
  {
   "cell_type": "code",
   "execution_count": 61,
   "outputs": [
    {
     "data": {
      "text/plain": "(24756030, 54)"
     },
     "execution_count": 61,
     "metadata": {},
     "output_type": "execute_result"
    }
   ],
   "source": [
    "caf.shape"
   ],
   "metadata": {
    "collapsed": false
   }
  },
  {
   "cell_type": "code",
   "execution_count": null,
   "outputs": [],
   "source": [],
   "metadata": {
    "collapsed": false
   }
  }
 ],
 "metadata": {
  "kernelspec": {
   "display_name": "Python 3",
   "language": "python",
   "name": "python3"
  },
  "language_info": {
   "codemirror_mode": {
    "name": "ipython",
    "version": 2
   },
   "file_extension": ".py",
   "mimetype": "text/x-python",
   "name": "python",
   "nbconvert_exporter": "python",
   "pygments_lexer": "ipython2",
   "version": "2.7.6"
  }
 },
 "nbformat": 4,
 "nbformat_minor": 0
}
