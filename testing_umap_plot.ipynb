{
 "cells": [
  {
   "cell_type": "code",
   "execution_count": 2,
   "metadata": {
    "collapsed": true
   },
   "outputs": [],
   "source": [
    "import pandas as pd\n",
    "import numpy as np"
   ]
  },
  {
   "cell_type": "code",
   "execution_count": 3,
   "outputs": [
    {
     "name": "stdout",
     "output_type": "stream",
     "text": [
      "(234495, 10)\n"
     ]
    },
    {
     "data": {
      "text/plain": "       VAE1      VAE2      VAE3      VAE4      VAE5      VAE6      VAE7  \\\n0 -0.344833 -1.494627  1.034643 -0.326984  1.503837 -0.717773 -0.443013   \n1  0.620251  0.397831 -0.626848  0.362306  2.828413  0.937865 -1.626067   \n2 -0.831970  0.626644  0.473098  0.775851 -1.387124 -1.280095 -0.875954   \n3 -0.008117 -0.120596  1.585242  0.762530 -0.676581 -1.570875  1.377573   \n4  1.227726  0.005922  0.495157 -0.630099  0.166950  0.640570 -1.255820   \n\n       VAE8      VAE9     VAE10  \n0 -1.285798  0.412601 -0.030241  \n1  0.152094  0.592201 -2.004997  \n2 -1.228348 -1.081888 -0.423769  \n3 -0.468702  0.206304  0.873441  \n4 -0.464986  0.358401  0.269876  ",
      "text/html": "<div>\n<style scoped>\n    .dataframe tbody tr th:only-of-type {\n        vertical-align: middle;\n    }\n\n    .dataframe tbody tr th {\n        vertical-align: top;\n    }\n\n    .dataframe thead th {\n        text-align: right;\n    }\n</style>\n<table border=\"1\" class=\"dataframe\">\n  <thead>\n    <tr style=\"text-align: right;\">\n      <th></th>\n      <th>VAE1</th>\n      <th>VAE2</th>\n      <th>VAE3</th>\n      <th>VAE4</th>\n      <th>VAE5</th>\n      <th>VAE6</th>\n      <th>VAE7</th>\n      <th>VAE8</th>\n      <th>VAE9</th>\n      <th>VAE10</th>\n    </tr>\n  </thead>\n  <tbody>\n    <tr>\n      <th>0</th>\n      <td>-0.344833</td>\n      <td>-1.494627</td>\n      <td>1.034643</td>\n      <td>-0.326984</td>\n      <td>1.503837</td>\n      <td>-0.717773</td>\n      <td>-0.443013</td>\n      <td>-1.285798</td>\n      <td>0.412601</td>\n      <td>-0.030241</td>\n    </tr>\n    <tr>\n      <th>1</th>\n      <td>0.620251</td>\n      <td>0.397831</td>\n      <td>-0.626848</td>\n      <td>0.362306</td>\n      <td>2.828413</td>\n      <td>0.937865</td>\n      <td>-1.626067</td>\n      <td>0.152094</td>\n      <td>0.592201</td>\n      <td>-2.004997</td>\n    </tr>\n    <tr>\n      <th>2</th>\n      <td>-0.831970</td>\n      <td>0.626644</td>\n      <td>0.473098</td>\n      <td>0.775851</td>\n      <td>-1.387124</td>\n      <td>-1.280095</td>\n      <td>-0.875954</td>\n      <td>-1.228348</td>\n      <td>-1.081888</td>\n      <td>-0.423769</td>\n    </tr>\n    <tr>\n      <th>3</th>\n      <td>-0.008117</td>\n      <td>-0.120596</td>\n      <td>1.585242</td>\n      <td>0.762530</td>\n      <td>-0.676581</td>\n      <td>-1.570875</td>\n      <td>1.377573</td>\n      <td>-0.468702</td>\n      <td>0.206304</td>\n      <td>0.873441</td>\n    </tr>\n    <tr>\n      <th>4</th>\n      <td>1.227726</td>\n      <td>0.005922</td>\n      <td>0.495157</td>\n      <td>-0.630099</td>\n      <td>0.166950</td>\n      <td>0.640570</td>\n      <td>-1.255820</td>\n      <td>-0.464986</td>\n      <td>0.358401</td>\n      <td>0.269876</td>\n    </tr>\n  </tbody>\n</table>\n</div>"
     },
     "execution_count": 3,
     "metadata": {},
     "output_type": "execute_result"
    }
   ],
   "source": [
    "example_file = '/home/egor/PycharmProjects/deep_dr/logs/BetaVAE/grid/latent10/run_7/latent.csv.gz'\n",
    "latent_df = pd.read_csv(example_file)\n",
    "print(latent_df.shape)\n",
    "latent_df.head()"
   ],
   "metadata": {
    "collapsed": false
   }
  },
  {
   "cell_type": "code",
   "execution_count": 4,
   "outputs": [
    {
     "data": {
      "text/plain": "    Cell type  Day\n0  Enterocyte  2.0\n1  Enterocyte  7.0\n2        Tuft  5.0\n3        Tuft  2.0\n4        Stem  7.0",
      "text/html": "<div>\n<style scoped>\n    .dataframe tbody tr th:only-of-type {\n        vertical-align: middle;\n    }\n\n    .dataframe tbody tr th {\n        vertical-align: top;\n    }\n\n    .dataframe thead th {\n        text-align: right;\n    }\n</style>\n<table border=\"1\" class=\"dataframe\">\n  <thead>\n    <tr style=\"text-align: right;\">\n      <th></th>\n      <th>Cell type</th>\n      <th>Day</th>\n    </tr>\n  </thead>\n  <tbody>\n    <tr>\n      <th>0</th>\n      <td>Enterocyte</td>\n      <td>2.0</td>\n    </tr>\n    <tr>\n      <th>1</th>\n      <td>Enterocyte</td>\n      <td>7.0</td>\n    </tr>\n    <tr>\n      <th>2</th>\n      <td>Tuft</td>\n      <td>5.0</td>\n    </tr>\n    <tr>\n      <th>3</th>\n      <td>Tuft</td>\n      <td>2.0</td>\n    </tr>\n    <tr>\n      <th>4</th>\n      <td>Stem</td>\n      <td>7.0</td>\n    </tr>\n  </tbody>\n</table>\n</div>"
     },
     "execution_count": 4,
     "metadata": {},
     "output_type": "execute_result"
    }
   ],
   "source": [
    "from datasets import OrganoidDataset,CellType\n",
    "data = OrganoidDataset(device = 'cpu')\n",
    "X_val,y_val = data.val\n",
    "metadata = pd.DataFrame(y_val.cpu()).rename({0: \"Cell type\", 1: \"Day\"}, axis=1)\n",
    "metadata['Cell type']=metadata['Cell type'].replace({i.value: i.name for i in CellType}).astype(str)\n",
    "metadata.head()"
   ],
   "metadata": {
    "collapsed": false
   }
  },
  {
   "cell_type": "code",
   "execution_count": 6,
   "outputs": [],
   "source": [
    "import umap\n",
    "import umap.plot\n",
    "mapper = umap.UMAP().fit(latent_df)"
   ],
   "metadata": {
    "collapsed": false
   }
  },
  {
   "cell_type": "code",
   "execution_count": 7,
   "outputs": [
    {
     "name": "stderr",
     "output_type": "stream",
     "text": [
      "/home/egor/PycharmProjects/deep_dr/venv/lib/python3.10/site-packages/bokeh/io/saving.py:142: UserWarning: save() called but no resources were supplied and output_file(...) was never called, defaulting to resources.CDN\n",
      "  warn(\"save() called but no resources were supplied and output_file(...) was never called, defaulting to resources.CDN\")\n",
      "/home/egor/PycharmProjects/deep_dr/venv/lib/python3.10/site-packages/bokeh/io/saving.py:154: UserWarning: save() called but no title was supplied and output_file(...) was never called, using default title 'Bokeh Plot'\n",
      "  warn(\"save() called but no title was supplied and output_file(...) was never called, using default title 'Bokeh Plot'\")\n"
     ]
    },
    {
     "data": {
      "text/plain": "'/home/egor/PycharmProjects/deep_dr/test.html'"
     },
     "execution_count": 7,
     "metadata": {},
     "output_type": "execute_result"
    }
   ],
   "source": [
    "from bokeh.io import save\n",
    "n = 50000\n",
    "mapper.embedding_ = mapper.embedding_[:n]\n",
    "\n",
    "p = umap.plot.interactive(mapper,\n",
    "                          labels=metadata['Cell type'].head(n),\n",
    "                          hover_data=metadata.head(n),\n",
    "                          point_size=2,\n",
    "                          interactive_text_search=True,\n",
    "                          interactive_text_search_columns=['Cell type', \"Day\"])\n",
    "save(p,filename=\"test.html\")"
   ],
   "metadata": {
    "collapsed": false
   }
  },
  {
   "cell_type": "code",
   "execution_count": 8,
   "outputs": [
    {
     "name": "stdout",
     "output_type": "stream",
     "text": [
      "/home/egor/PycharmProjects/deep_dr/logs/BetaVAE/grid_clip/latent10/run_7/umap_plot.html\n",
      "/home/egor/PycharmProjects/deep_dr/logs/BetaVAE/grid_clip/latent10/run_9/umap_plot.html\n",
      "/home/egor/PycharmProjects/deep_dr/logs/BetaVAE/grid_clip/latent10/run_8/umap_plot.html\n",
      "/home/egor/PycharmProjects/deep_dr/logs/BetaVAE/grid_clip/latent10/run_6/umap_plot.html\n",
      "/home/egor/PycharmProjects/deep_dr/logs/BetaVAE/grid_clip/latent10/run_3/umap_plot.html\n",
      "/home/egor/PycharmProjects/deep_dr/logs/BetaVAE/grid_clip/latent10/run_1/umap_plot.html\n",
      "/home/egor/PycharmProjects/deep_dr/logs/BetaVAE/grid_clip/latent10/run_5/umap_plot.html\n",
      "/home/egor/PycharmProjects/deep_dr/logs/BetaVAE/grid_clip/latent10/run_4/umap_plot.html\n",
      "/home/egor/PycharmProjects/deep_dr/logs/BetaVAE/grid_clip/latent10/run_2/umap_plot.html\n",
      "/home/egor/PycharmProjects/deep_dr/logs/BetaVAE/grid_clip/latent5/run_7/umap_plot.html\n",
      "/home/egor/PycharmProjects/deep_dr/logs/BetaVAE/grid_clip/latent5/run_9/umap_plot.html\n",
      "/home/egor/PycharmProjects/deep_dr/logs/BetaVAE/grid_clip/latent5/run_8/umap_plot.html\n",
      "/home/egor/PycharmProjects/deep_dr/logs/BetaVAE/grid_clip/latent5/run_6/umap_plot.html\n",
      "/home/egor/PycharmProjects/deep_dr/logs/BetaVAE/grid_clip/latent5/run_3/umap_plot.html\n",
      "/home/egor/PycharmProjects/deep_dr/logs/BetaVAE/grid_clip/latent5/run_1/umap_plot.html\n",
      "/home/egor/PycharmProjects/deep_dr/logs/BetaVAE/grid_clip/latent5/run_5/umap_plot.html\n",
      "/home/egor/PycharmProjects/deep_dr/logs/BetaVAE/grid_clip/latent5/run_4/umap_plot.html\n",
      "/home/egor/PycharmProjects/deep_dr/logs/BetaVAE/grid_clip/latent5/run_2/umap_plot.html\n"
     ]
    }
   ],
   "source": [
    "root_dir = '/home/egor/PycharmProjects/deep_dr/logs/BetaVAE/grid_clip'\n",
    "n = 50000\n",
    "from pathlib import Path\n",
    "\n",
    "for path in Path(root_dir).rglob('latent.csv.gz'):\n",
    "    if 'latent2' not in str(path):\n",
    "        latent_df = pd.read_csv(str(path))\n",
    "        mapper = umap.UMAP().fit(latent_df)\n",
    "        mapper.embedding_ = mapper.embedding_[:n]\n",
    "        umap.plot.output_file(path.parent.joinpath('umap_plot.html'))\n",
    "        p = umap.plot.interactive(mapper,\n",
    "                                  labels=metadata['Cell type'].head(n),\n",
    "                                  hover_data=metadata.head(n),\n",
    "                                  point_size=2,\n",
    "                                  interactive_text_search=True,\n",
    "                                  interactive_text_search_columns=['Cell type', \"Day\"])\n",
    "        save(p,resources=\"cdn\", filename=str(path.parent.joinpath('umap_plot.html')))\n",
    "        print(path.parent.joinpath('umap_plot.html'))"
   ],
   "metadata": {
    "collapsed": false
   }
  },
  {
   "cell_type": "code",
   "execution_count": null,
   "outputs": [],
   "source": [],
   "metadata": {
    "collapsed": false
   }
  }
 ],
 "metadata": {
  "kernelspec": {
   "display_name": "Python 3",
   "language": "python",
   "name": "python3"
  },
  "language_info": {
   "codemirror_mode": {
    "name": "ipython",
    "version": 2
   },
   "file_extension": ".py",
   "mimetype": "text/x-python",
   "name": "python",
   "nbconvert_exporter": "python",
   "pygments_lexer": "ipython2",
   "version": "2.7.6"
  }
 },
 "nbformat": 4,
 "nbformat_minor": 0
}
