{
 "cells": [
  {
   "cell_type": "code",
   "execution_count": 1,
   "metadata": {
    "collapsed": true
   },
   "outputs": [],
   "source": [
    "import xgboost as xgb\n",
    "import pandas as pd\n",
    "import sklearn\n",
    "from datasets import OrganoidDataset\n",
    "data = OrganoidDataset(device='cpu')\n",
    "\n",
    "X_train,y_train = data.train\n",
    "X_val,y_val = data.val"
   ]
  },
  {
   "cell_type": "code",
   "execution_count": 2,
   "outputs": [],
   "source": [
    "X_train_xgb,y_train_xgb = pd.DataFrame(X_train), pd.DataFrame(y_train)[1].astype('int')-1\n",
    "X_val_xgb,y_val_xgb = pd.DataFrame(X_val), pd.DataFrame(y_val)[1].astype('int')-1"
   ],
   "metadata": {
    "collapsed": false
   }
  },
  {
   "cell_type": "code",
   "execution_count": 3,
   "outputs": [
    {
     "name": "stdout",
     "output_type": "stream",
     "text": [
      "Accuracy score 0.4340263118616602\n"
     ]
    }
   ],
   "source": [
    "reg = xgb.XGBRegressor(tree_method=\"gpu_hist\", objective='multi:softmax',num_class=7)\n",
    "reg.fit(X_train_xgb, y_train_xgb)\n",
    "y_pred = reg.predict(X_val_xgb)\n",
    "print(\"Accuracy score\", sklearn.metrics.accuracy_score(y_val_xgb, y_pred))"
   ],
   "metadata": {
    "collapsed": false
   }
  },
  {
   "cell_type": "code",
   "execution_count": 4,
   "outputs": [],
   "source": [
    "model_2_path = '/data/PycharmProjects/cytof_benchmark/logs/BetaVAE/grid/latent2/run_9/model.pth'\n",
    "model_5_path = '/data/PycharmProjects/cytof_benchmark/logs/BetaVAE/grid/latent5/run_9/model.pth'\n",
    "model_10_path = '/data/PycharmProjects/cytof_benchmark/logs/BetaVAE/grid/latent10/run_9/model.pth'"
   ],
   "metadata": {
    "collapsed": false
   }
  },
  {
   "cell_type": "code",
   "execution_count": 5,
   "outputs": [],
   "source": [
    "import ml_collections\n",
    "from ml_collections import config_dict\n",
    "from configs import beta_vae\n",
    "config_2 = beta_vae.get_config()"
   ],
   "metadata": {
    "collapsed": false
   }
  },
  {
   "cell_type": "code",
   "execution_count": 6,
   "outputs": [],
   "source": [
    "config_2.batch_size = 16384\n",
    "config_2.epochs = 3000\n",
    "config_2.learning_rate = 0.005\n",
    "config_2.hidden_dims = (128,128,128,128,128)\n",
    "config_5 = config_dict.ConfigDict(config_2)\n",
    "config_10 = config_dict.ConfigDict(config_2)\n",
    "config_5.latent_dim = 5\n",
    "config_10.latent_dim = 10"
   ],
   "metadata": {
    "collapsed": false
   }
  },
  {
   "cell_type": "code",
   "execution_count": 7,
   "outputs": [
    {
     "data": {
      "text/plain": "<All keys matched successfully>"
     },
     "execution_count": 7,
     "metadata": {},
     "output_type": "execute_result"
    }
   ],
   "source": [
    "from models.beta_vae import BetaVAE\n",
    "import torch\n",
    "model_2,model_5,model_10 = BetaVAE(config_2),BetaVAE(config_5),BetaVAE(config_10)\n",
    "model_2.load_state_dict(torch.load(model_2_path))\n",
    "model_5.load_state_dict(torch.load(model_5_path))\n",
    "model_10.load_state_dict(torch.load(model_10_path))"
   ],
   "metadata": {
    "collapsed": false
   }
  },
  {
   "cell_type": "code",
   "execution_count": 8,
   "outputs": [],
   "source": [
    "X_train_batches = torch.split(X_train, split_size_or_sections=config_2.batch_size)\n",
    "X_val_batches = torch.split(X_val, split_size_or_sections=config_2.batch_size)"
   ],
   "metadata": {
    "collapsed": false
   }
  },
  {
   "cell_type": "code",
   "execution_count": 9,
   "outputs": [],
   "source": [
    "def get_latents(batches, model):\n",
    "    latents = []\n",
    "    with torch.no_grad():\n",
    "        for X_batch in batches:\n",
    "            latent_batch = model.latent(X_batch).to('cpu')\n",
    "            latents.append(latent_batch)\n",
    "    latent = torch.cat(latents)\n",
    "    return latent"
   ],
   "metadata": {
    "collapsed": false
   }
  },
  {
   "cell_type": "code",
   "execution_count": 10,
   "outputs": [],
   "source": [
    "latent_train_2 = get_latents(X_train_batches,model_2)\n",
    "latent_train_5 =get_latents(X_train_batches,model_5)\n",
    "latent_train_10 =get_latents(X_train_batches,model_10)\n",
    "latent_val_2 = get_latents(X_val_batches,model_2)\n",
    "latent_val_5 =get_latents(X_val_batches,model_5)\n",
    "latent_val_10 =get_latents(X_val_batches,model_10)"
   ],
   "metadata": {
    "collapsed": false
   }
  },
  {
   "cell_type": "code",
   "execution_count": 11,
   "outputs": [
    {
     "name": "stdout",
     "output_type": "stream",
     "text": [
      "Accuracy score 0.31770826670078256\n",
      "Accuracy score 0.34182818396980746\n",
      "Accuracy score 0.36614000298513827\n"
     ]
    }
   ],
   "source": [
    "for latent_train,latent_val in [(latent_train_2,latent_val_2),(latent_train_5,latent_val_5),(latent_train_10,latent_val_10)]:\n",
    "    reg = xgb.XGBRegressor(tree_method=\"gpu_hist\", objective='multi:softmax',num_class=7)\n",
    "    reg.fit(pd.DataFrame(latent_train), y_train_xgb)\n",
    "    y_pred = reg.predict(pd.DataFrame(latent_val))\n",
    "    print(\"Accuracy score\", sklearn.metrics.accuracy_score(y_val_xgb, y_pred))"
   ],
   "metadata": {
    "collapsed": false
   }
  },
  {
   "cell_type": "code",
   "execution_count": 12,
   "outputs": [
    {
     "name": "stdout",
     "output_type": "stream",
     "text": [
      "Accuracy score 0.43543359133457005\n",
      "Accuracy score 0.43546770720058\n",
      "Accuracy score 0.4355828482483635\n"
     ]
    }
   ],
   "source": [
    "for latent_train,latent_val in [(latent_train_2,latent_val_2),(latent_train_5,latent_val_5),(latent_train_10,latent_val_10)]:\n",
    "    reg = xgb.XGBRegressor(tree_method=\"gpu_hist\", objective='multi:softmax',num_class=7)\n",
    "    reg.fit(pd.concat([pd.DataFrame(latent_train),X_train_xgb],axis=1).to_numpy(), y_train_xgb)\n",
    "    y_pred = reg.predict(pd.concat([pd.DataFrame(latent_val),X_val_xgb],axis=1).to_numpy())\n",
    "    print(\"Accuracy score\", sklearn.metrics.accuracy_score(y_val_xgb, y_pred))"
   ],
   "metadata": {
    "collapsed": false
   }
  },
  {
   "cell_type": "code",
   "execution_count": 13,
   "outputs": [
    {
     "data": {
      "text/plain": "(PCA(n_components=2),\n PCA(n_components=5),\n PCA(n_components=10),\n PCA(n_components=41))"
     },
     "execution_count": 13,
     "metadata": {},
     "output_type": "execute_result"
    }
   ],
   "source": [
    "from sklearn.decomposition import PCA\n",
    "pca_2,pca_5,pca_10,pca_41 = PCA(n_components=2), PCA(n_components=5), PCA(n_components=10), PCA(n_components=41)\n",
    "pca_2.fit(X_train), pca_5.fit(X_train), pca_10.fit(X_train), pca_41.fit(X_train)"
   ],
   "metadata": {
    "collapsed": false
   }
  },
  {
   "cell_type": "code",
   "execution_count": 14,
   "outputs": [
    {
     "name": "stdout",
     "output_type": "stream",
     "text": [
      "Accuracy score 0.29515341478496343\n",
      "Accuracy score 0.330032623296872\n",
      "Accuracy score 0.3578626409944775\n",
      "Accuracy score 0.4083498582059319\n"
     ]
    }
   ],
   "source": [
    "for pca in [pca_2,pca_5,pca_10,pca_41]:\n",
    "    reg = xgb.XGBRegressor(tree_method=\"gpu_hist\", objective='multi:softmax',num_class=7)\n",
    "    reg.fit(pca.transform(X_train), y_train_xgb)\n",
    "    y_pred = reg.predict(pca.transform(X_val))\n",
    "    print(\"Accuracy score\", sklearn.metrics.accuracy_score(y_val_xgb, y_pred))"
   ],
   "metadata": {
    "collapsed": false
   }
  },
  {
   "cell_type": "code",
   "execution_count": null,
   "outputs": [],
   "source": [],
   "metadata": {
    "collapsed": false
   }
  }
 ],
 "metadata": {
  "kernelspec": {
   "display_name": "Python 3",
   "language": "python",
   "name": "python3"
  },
  "language_info": {
   "codemirror_mode": {
    "name": "ipython",
    "version": 2
   },
   "file_extension": ".py",
   "mimetype": "text/x-python",
   "name": "python",
   "nbconvert_exporter": "python",
   "pygments_lexer": "ipython2",
   "version": "2.7.6"
  }
 },
 "nbformat": 4,
 "nbformat_minor": 0
}
