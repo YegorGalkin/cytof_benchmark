{
 "cells": [
  {
   "cell_type": "code",
   "execution_count": 1,
   "metadata": {
    "collapsed": true
   },
   "outputs": [],
   "source": [
    "import pandas as pd\n",
    "\n",
    "from datasets import OrganoidDataset\n",
    "data = OrganoidDataset(device='cpu')\n",
    "\n",
    "X_train,y_train = data.train\n",
    "X_val,y_val = data.val"
   ]
  },
  {
   "cell_type": "code",
   "execution_count": 2,
   "outputs": [
    {
     "data": {
      "text/plain": "    0         1         2         3         4         5         6         7   \\\n0  0.0  4.104063  3.523024  0.000000  2.884238  1.979633  1.542526  0.212547   \n1  0.0  3.274515  1.723781  0.000000  2.100114  1.738910  0.264208  0.000000   \n2  0.0  4.236786  2.920661  5.548401  3.327828  2.842368  0.666156  0.064384   \n3  0.0  2.040163  1.193689  0.581164  1.106615  3.375133  0.743914  0.609816   \n4  0.0  4.462672  2.702669  0.000000  3.339822  2.529976  1.317120  0.333156   \n\n         8         9   ...        31        32        33        34        35  \\\n0  5.108574  2.037716  ...  3.453124  0.000000  2.963743  0.000000  2.736963   \n1  0.000000  1.393973  ...  0.062207  0.000000  1.898939  0.760424  2.055149   \n2  0.325768  1.424314  ...  2.246653  0.000000  0.788886  1.303132  1.696276   \n3  1.490160  0.571727  ...  4.076644  1.290857  2.295444  0.000000  3.184021   \n4  4.391684  0.959896  ...  3.148971  0.000000  3.031583  0.312538  2.357087   \n\n         36        37        38        39        40  \n0  1.784802  0.149795  0.000000  3.888179  6.389593  \n1  0.000000  0.000000  2.686204  0.908232  5.908281  \n2  0.000000  1.821231  5.536674  3.148032  6.711488  \n3  0.000000  1.870471  0.000000  3.661324  2.551270  \n4  2.227266  1.847686  0.000000  3.799577  5.340704  \n\n[5 rows x 41 columns]",
      "text/html": "<div>\n<style scoped>\n    .dataframe tbody tr th:only-of-type {\n        vertical-align: middle;\n    }\n\n    .dataframe tbody tr th {\n        vertical-align: top;\n    }\n\n    .dataframe thead th {\n        text-align: right;\n    }\n</style>\n<table border=\"1\" class=\"dataframe\">\n  <thead>\n    <tr style=\"text-align: right;\">\n      <th></th>\n      <th>0</th>\n      <th>1</th>\n      <th>2</th>\n      <th>3</th>\n      <th>4</th>\n      <th>5</th>\n      <th>6</th>\n      <th>7</th>\n      <th>8</th>\n      <th>9</th>\n      <th>...</th>\n      <th>31</th>\n      <th>32</th>\n      <th>33</th>\n      <th>34</th>\n      <th>35</th>\n      <th>36</th>\n      <th>37</th>\n      <th>38</th>\n      <th>39</th>\n      <th>40</th>\n    </tr>\n  </thead>\n  <tbody>\n    <tr>\n      <th>0</th>\n      <td>0.0</td>\n      <td>4.104063</td>\n      <td>3.523024</td>\n      <td>0.000000</td>\n      <td>2.884238</td>\n      <td>1.979633</td>\n      <td>1.542526</td>\n      <td>0.212547</td>\n      <td>5.108574</td>\n      <td>2.037716</td>\n      <td>...</td>\n      <td>3.453124</td>\n      <td>0.000000</td>\n      <td>2.963743</td>\n      <td>0.000000</td>\n      <td>2.736963</td>\n      <td>1.784802</td>\n      <td>0.149795</td>\n      <td>0.000000</td>\n      <td>3.888179</td>\n      <td>6.389593</td>\n    </tr>\n    <tr>\n      <th>1</th>\n      <td>0.0</td>\n      <td>3.274515</td>\n      <td>1.723781</td>\n      <td>0.000000</td>\n      <td>2.100114</td>\n      <td>1.738910</td>\n      <td>0.264208</td>\n      <td>0.000000</td>\n      <td>0.000000</td>\n      <td>1.393973</td>\n      <td>...</td>\n      <td>0.062207</td>\n      <td>0.000000</td>\n      <td>1.898939</td>\n      <td>0.760424</td>\n      <td>2.055149</td>\n      <td>0.000000</td>\n      <td>0.000000</td>\n      <td>2.686204</td>\n      <td>0.908232</td>\n      <td>5.908281</td>\n    </tr>\n    <tr>\n      <th>2</th>\n      <td>0.0</td>\n      <td>4.236786</td>\n      <td>2.920661</td>\n      <td>5.548401</td>\n      <td>3.327828</td>\n      <td>2.842368</td>\n      <td>0.666156</td>\n      <td>0.064384</td>\n      <td>0.325768</td>\n      <td>1.424314</td>\n      <td>...</td>\n      <td>2.246653</td>\n      <td>0.000000</td>\n      <td>0.788886</td>\n      <td>1.303132</td>\n      <td>1.696276</td>\n      <td>0.000000</td>\n      <td>1.821231</td>\n      <td>5.536674</td>\n      <td>3.148032</td>\n      <td>6.711488</td>\n    </tr>\n    <tr>\n      <th>3</th>\n      <td>0.0</td>\n      <td>2.040163</td>\n      <td>1.193689</td>\n      <td>0.581164</td>\n      <td>1.106615</td>\n      <td>3.375133</td>\n      <td>0.743914</td>\n      <td>0.609816</td>\n      <td>1.490160</td>\n      <td>0.571727</td>\n      <td>...</td>\n      <td>4.076644</td>\n      <td>1.290857</td>\n      <td>2.295444</td>\n      <td>0.000000</td>\n      <td>3.184021</td>\n      <td>0.000000</td>\n      <td>1.870471</td>\n      <td>0.000000</td>\n      <td>3.661324</td>\n      <td>2.551270</td>\n    </tr>\n    <tr>\n      <th>4</th>\n      <td>0.0</td>\n      <td>4.462672</td>\n      <td>2.702669</td>\n      <td>0.000000</td>\n      <td>3.339822</td>\n      <td>2.529976</td>\n      <td>1.317120</td>\n      <td>0.333156</td>\n      <td>4.391684</td>\n      <td>0.959896</td>\n      <td>...</td>\n      <td>3.148971</td>\n      <td>0.000000</td>\n      <td>3.031583</td>\n      <td>0.312538</td>\n      <td>2.357087</td>\n      <td>2.227266</td>\n      <td>1.847686</td>\n      <td>0.000000</td>\n      <td>3.799577</td>\n      <td>5.340704</td>\n    </tr>\n  </tbody>\n</table>\n<p>5 rows × 41 columns</p>\n</div>"
     },
     "execution_count": 2,
     "metadata": {},
     "output_type": "execute_result"
    }
   ],
   "source": [
    "pd.DataFrame(X_train).head()"
   ],
   "metadata": {
    "collapsed": false
   }
  },
  {
   "cell_type": "code",
   "execution_count": 3,
   "outputs": [
    {
     "data": {
      "text/plain": "0    0.0\n1    5.0\n2    1.0\n3    2.0\n4    0.0\nName: 0, dtype: float32"
     },
     "execution_count": 3,
     "metadata": {},
     "output_type": "execute_result"
    }
   ],
   "source": [
    "pd.DataFrame(y_train)[0].head()"
   ],
   "metadata": {
    "collapsed": false
   }
  },
  {
   "cell_type": "code",
   "execution_count": 4,
   "outputs": [],
   "source": [
    "from autosklearn.experimental.askl2 import AutoSklearn2Classifier\n",
    "automl = AutoSklearn2Classifier(memory_limit=4096,n_jobs=3)"
   ],
   "metadata": {
    "collapsed": false
   }
  },
  {
   "cell_type": "code",
   "execution_count": 5,
   "outputs": [
    {
     "name": "stderr",
     "output_type": "stream",
     "text": [
      "/home/egor/PycharmProjects/deep_dr/venv/lib/python3.10/site-packages/autosklearn/experimental/selector.py:26: FutureWarning: iteritems is deprecated and will be removed in a future version. Use .items instead.\n",
      "  for col, series in prediction.iteritems():\n",
      "/home/egor/PycharmProjects/deep_dr/venv/lib/python3.10/site-packages/autosklearn/experimental/selector.py:26: FutureWarning: iteritems is deprecated and will be removed in a future version. Use .items instead.\n",
      "  for col, series in prediction.iteritems():\n"
     ]
    },
    {
     "data": {
      "text/plain": "AutoSklearn2Classifier(memory_limit=4096, metric=accuracy, n_jobs=3,\n                       per_run_time_limit=1080)"
     },
     "execution_count": 5,
     "metadata": {},
     "output_type": "execute_result"
    }
   ],
   "source": [
    "automl.fit(pd.DataFrame(X_train), pd.DataFrame(y_train)[0])"
   ],
   "metadata": {
    "collapsed": false
   }
  },
  {
   "cell_type": "code",
   "execution_count": 6,
   "outputs": [
    {
     "name": "stdout",
     "output_type": "stream",
     "text": [
      "Accuracy score 0.8814303076824666\n"
     ]
    }
   ],
   "source": [
    "import sklearn\n",
    "\n",
    "y_hat = automl.predict(pd.DataFrame(X_val))\n",
    "print(\"Accuracy score\", sklearn.metrics.accuracy_score(pd.DataFrame(y_val)[0], y_hat))"
   ],
   "metadata": {
    "collapsed": false
   }
  },
  {
   "cell_type": "code",
   "execution_count": 7,
   "outputs": [
    {
     "data": {
      "text/plain": "          rank  ensemble_weight                type      cost    duration\nmodel_id                                                                 \n4            1             0.20                 mlp  0.121344  624.350916\n17           2             0.06   gradient_boosting  0.128540  104.203969\n10           3             0.12  passive_aggressive  0.169106   65.173185\n25           4             0.02                 sgd  0.176339   22.603479\n8            5             0.04   gradient_boosting  0.245590   72.994283\n15           6             0.22         extra_trees  0.289571   26.848407",
      "text/html": "<div>\n<style scoped>\n    .dataframe tbody tr th:only-of-type {\n        vertical-align: middle;\n    }\n\n    .dataframe tbody tr th {\n        vertical-align: top;\n    }\n\n    .dataframe thead th {\n        text-align: right;\n    }\n</style>\n<table border=\"1\" class=\"dataframe\">\n  <thead>\n    <tr style=\"text-align: right;\">\n      <th></th>\n      <th>rank</th>\n      <th>ensemble_weight</th>\n      <th>type</th>\n      <th>cost</th>\n      <th>duration</th>\n    </tr>\n    <tr>\n      <th>model_id</th>\n      <th></th>\n      <th></th>\n      <th></th>\n      <th></th>\n      <th></th>\n    </tr>\n  </thead>\n  <tbody>\n    <tr>\n      <th>4</th>\n      <td>1</td>\n      <td>0.20</td>\n      <td>mlp</td>\n      <td>0.121344</td>\n      <td>624.350916</td>\n    </tr>\n    <tr>\n      <th>17</th>\n      <td>2</td>\n      <td>0.06</td>\n      <td>gradient_boosting</td>\n      <td>0.128540</td>\n      <td>104.203969</td>\n    </tr>\n    <tr>\n      <th>10</th>\n      <td>3</td>\n      <td>0.12</td>\n      <td>passive_aggressive</td>\n      <td>0.169106</td>\n      <td>65.173185</td>\n    </tr>\n    <tr>\n      <th>25</th>\n      <td>4</td>\n      <td>0.02</td>\n      <td>sgd</td>\n      <td>0.176339</td>\n      <td>22.603479</td>\n    </tr>\n    <tr>\n      <th>8</th>\n      <td>5</td>\n      <td>0.04</td>\n      <td>gradient_boosting</td>\n      <td>0.245590</td>\n      <td>72.994283</td>\n    </tr>\n    <tr>\n      <th>15</th>\n      <td>6</td>\n      <td>0.22</td>\n      <td>extra_trees</td>\n      <td>0.289571</td>\n      <td>26.848407</td>\n    </tr>\n  </tbody>\n</table>\n</div>"
     },
     "execution_count": 7,
     "metadata": {},
     "output_type": "execute_result"
    }
   ],
   "source": [
    "automl.leaderboard()"
   ],
   "metadata": {
    "collapsed": false
   }
  },
  {
   "cell_type": "code",
   "execution_count": null,
   "outputs": [],
   "source": [],
   "metadata": {
    "collapsed": false
   }
  }
 ],
 "metadata": {
  "kernelspec": {
   "display_name": "Python 3",
   "language": "python",
   "name": "python3"
  },
  "language_info": {
   "codemirror_mode": {
    "name": "ipython",
    "version": 2
   },
   "file_extension": ".py",
   "mimetype": "text/x-python",
   "name": "python",
   "nbconvert_exporter": "python",
   "pygments_lexer": "ipython2",
   "version": "2.7.6"
  }
 },
 "nbformat": 4,
 "nbformat_minor": 0
}
