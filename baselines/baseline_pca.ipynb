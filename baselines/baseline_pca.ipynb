{
 "cells": [
  {
   "cell_type": "code",
   "execution_count": 1,
   "metadata": {
    "collapsed": true
   },
   "outputs": [
    {
     "name": "stderr",
     "output_type": "stream",
     "text": [
      "/home/egor/PycharmProjects/deep_dr/venv/lib/python3.10/site-packages/torchvision/io/image.py:13: UserWarning: Failed to load image Python extension: libtorch_cuda_cu.so: cannot open shared object file: No such file or directory\n",
      "  warn(f\"Failed to load image Python extension: {e}\")\n"
     ]
    }
   ],
   "source": [
    "from datasets import OrganoidDataset\n",
    "data = OrganoidDataset(device='cpu')\n",
    "X_train,y_train = data.train\n",
    "X_val,y_val = data.val"
   ]
  },
  {
   "cell_type": "code",
   "execution_count": 6,
   "outputs": [
    {
     "data": {
      "text/plain": "array([4016.83391857, 2900.22864727, 1631.77281833, 1453.1489101 ,\n       1180.22991813, 1117.22008742, 1038.5007746 ,  975.09200091,\n        924.97633661,  888.3189539 ,  837.00696837,  821.18841104,\n        798.5864352 ,  784.84955287,  756.7588344 ,  739.96582703,\n        724.45973982,  698.91690709,  646.56897628,  634.51777384,\n        608.83572719,  552.83887982,  546.25836983,  527.13630821,\n        497.33003203,  489.93083956,  478.30039399,  469.99107165,\n        462.21112411,  452.45185965,  442.451303  ,  432.27875179,\n        424.97438164,  421.46488258,  417.78623225,  393.50336161,\n        374.67083741,  369.87259781,  349.451937  ,  338.13250631,\n        316.84362665])"
     },
     "execution_count": 6,
     "metadata": {},
     "output_type": "execute_result"
    }
   ],
   "source": [
    "from sklearn.decomposition import PCA\n",
    "import numpy as np\n",
    "pca = PCA(n_components=41)\n",
    "pca.fit(X_train)\n",
    "pca.singular_values_"
   ],
   "metadata": {
    "collapsed": false
   }
  },
  {
   "cell_type": "code",
   "execution_count": 24,
   "outputs": [
    {
     "name": "stdout",
     "output_type": "stream",
     "text": [
      "Components: 0, MSE:1.3534091070398027\n",
      "Components: 1, MSE:0.8742205681680011\n",
      "Components: 2, MSE:0.6241996179403656\n",
      "Components: 3, MSE:0.5448696982699932\n",
      "Components: 4, MSE:0.48213736912791155\n",
      "Components: 5, MSE:0.4407109988359521\n",
      "Components: 6, MSE:0.4035925440524936\n",
      "Components: 7, MSE:0.37159963458265155\n",
      "Components: 8, MSE:0.3433167767174395\n",
      "Components: 9, MSE:0.31781336369003815\n",
      "Components: 10, MSE:0.2941713658236005\n",
      "Components: 11, MSE:0.2733737155973865\n",
      "Components: 12, MSE:0.25328771939011835\n",
      "Components: 13, MSE:0.23423279107156517\n",
      "Components: 14, MSE:0.21594383071086085\n",
      "Components: 15, MSE:0.19876837079506549\n",
      "Components: 16, MSE:0.18238216478572516\n",
      "Components: 17, MSE:0.1666925200018777\n",
      "Components: 18, MSE:0.15212095765613814\n",
      "Components: 19, MSE:0.1397030598215791\n",
      "Components: 20, MSE:0.1277308667978653\n",
      "Components: 21, MSE:0.11674789356275649\n",
      "Components: 22, MSE:0.10764614411218067\n",
      "Components: 23, MSE:0.09872408977275896\n",
      "Components: 24, MSE:0.09047309627193215\n",
      "Components: 25, MSE:0.08312943127976678\n",
      "Components: 26, MSE:0.07596713527965708\n",
      "Components: 27, MSE:0.06915287306064741\n",
      "Components: 28, MSE:0.06259175512731763\n",
      "Components: 29, MSE:0.056234182849102206\n",
      "Components: 30, MSE:0.05011927817469671\n",
      "Components: 31, MSE:0.044273673884281044\n",
      "Components: 32, MSE:0.0387106819115052\n",
      "Components: 33, MSE:0.033367616343504145\n",
      "Components: 34, MSE:0.028097982569954414\n",
      "Components: 35, MSE:0.022909395059905555\n",
      "Components: 36, MSE:0.018291138122005383\n",
      "Components: 37, MSE:0.014130421299819307\n",
      "Components: 38, MSE:0.010051346112488405\n",
      "Components: 39, MSE:0.0063942011138099055\n",
      "Components: 40, MSE:0.0029795966864094472\n"
     ]
    }
   ],
   "source": [
    "from torch.nn import functional as F\n",
    "import torch\n",
    "\n",
    "res = []\n",
    "for i in range(41):\n",
    "    reduced_dim = np.pad(pca.transform(X_val)[:,:i],((0,0),(0,41-i)))\n",
    "    loss = F.mse_loss(X_val, torch.from_numpy(pca.inverse_transform(reduced_dim)))\n",
    "    print(f\"Components: {i}, MSE:{loss}\")\n",
    "    res.append({\"Components\":i,'MSE':loss.item()})"
   ],
   "metadata": {
    "collapsed": false
   }
  },
  {
   "cell_type": "code",
   "execution_count": 25,
   "outputs": [
    {
     "data": {
      "text/plain": "   Components       MSE\n0           0  1.353409\n1           1  0.874221\n2           2  0.624200\n3           3  0.544870\n4           4  0.482137",
      "text/html": "<div>\n<style scoped>\n    .dataframe tbody tr th:only-of-type {\n        vertical-align: middle;\n    }\n\n    .dataframe tbody tr th {\n        vertical-align: top;\n    }\n\n    .dataframe thead th {\n        text-align: right;\n    }\n</style>\n<table border=\"1\" class=\"dataframe\">\n  <thead>\n    <tr style=\"text-align: right;\">\n      <th></th>\n      <th>Components</th>\n      <th>MSE</th>\n    </tr>\n  </thead>\n  <tbody>\n    <tr>\n      <th>0</th>\n      <td>0</td>\n      <td>1.353409</td>\n    </tr>\n    <tr>\n      <th>1</th>\n      <td>1</td>\n      <td>0.874221</td>\n    </tr>\n    <tr>\n      <th>2</th>\n      <td>2</td>\n      <td>0.624200</td>\n    </tr>\n    <tr>\n      <th>3</th>\n      <td>3</td>\n      <td>0.544870</td>\n    </tr>\n    <tr>\n      <th>4</th>\n      <td>4</td>\n      <td>0.482137</td>\n    </tr>\n  </tbody>\n</table>\n</div>"
     },
     "execution_count": 25,
     "metadata": {},
     "output_type": "execute_result"
    }
   ],
   "source": [
    "import altair as alt\n",
    "import pandas as pd\n",
    "pd.DataFrame(res).head()"
   ],
   "metadata": {
    "collapsed": false
   }
  },
  {
   "cell_type": "code",
   "execution_count": 26,
   "outputs": [
    {
     "name": "stderr",
     "output_type": "stream",
     "text": [
      "/home/egor/PycharmProjects/deep_dr/venv/lib/python3.10/site-packages/altair/utils/core.py:317: FutureWarning: iteritems is deprecated and will be removed in a future version. Use .items instead.\n",
      "  for col_name, dtype in df.dtypes.iteritems():\n"
     ]
    },
    {
     "data": {
      "text/html": "\n<div id=\"altair-viz-07ace5dd4eff4362b6bcb37404378fea\"></div>\n<script type=\"text/javascript\">\n  var VEGA_DEBUG = (typeof VEGA_DEBUG == \"undefined\") ? {} : VEGA_DEBUG;\n  (function(spec, embedOpt){\n    let outputDiv = document.currentScript.previousElementSibling;\n    if (outputDiv.id !== \"altair-viz-07ace5dd4eff4362b6bcb37404378fea\") {\n      outputDiv = document.getElementById(\"altair-viz-07ace5dd4eff4362b6bcb37404378fea\");\n    }\n    const paths = {\n      \"vega\": \"https://cdn.jsdelivr.net/npm//vega@5?noext\",\n      \"vega-lib\": \"https://cdn.jsdelivr.net/npm//vega-lib?noext\",\n      \"vega-lite\": \"https://cdn.jsdelivr.net/npm//vega-lite@4.17.0?noext\",\n      \"vega-embed\": \"https://cdn.jsdelivr.net/npm//vega-embed@6?noext\",\n    };\n\n    function maybeLoadScript(lib, version) {\n      var key = `${lib.replace(\"-\", \"\")}_version`;\n      return (VEGA_DEBUG[key] == version) ?\n        Promise.resolve(paths[lib]) :\n        new Promise(function(resolve, reject) {\n          var s = document.createElement('script');\n          document.getElementsByTagName(\"head\")[0].appendChild(s);\n          s.async = true;\n          s.onload = () => {\n            VEGA_DEBUG[key] = version;\n            return resolve(paths[lib]);\n          };\n          s.onerror = () => reject(`Error loading script: ${paths[lib]}`);\n          s.src = paths[lib];\n        });\n    }\n\n    function showError(err) {\n      outputDiv.innerHTML = `<div class=\"error\" style=\"color:red;\">${err}</div>`;\n      throw err;\n    }\n\n    function displayChart(vegaEmbed) {\n      vegaEmbed(outputDiv, spec, embedOpt)\n        .catch(err => showError(`Javascript Error: ${err.message}<br>This usually means there's a typo in your chart specification. See the javascript console for the full traceback.`));\n    }\n\n    if(typeof define === \"function\" && define.amd) {\n      requirejs.config({paths});\n      require([\"vega-embed\"], displayChart, err => showError(`Error loading script: ${err.message}`));\n    } else {\n      maybeLoadScript(\"vega\", \"5\")\n        .then(() => maybeLoadScript(\"vega-lite\", \"4.17.0\"))\n        .then(() => maybeLoadScript(\"vega-embed\", \"6\"))\n        .catch(showError)\n        .then(() => displayChart(vegaEmbed));\n    }\n  })({\"config\": {\"view\": {\"continuousWidth\": 400, \"continuousHeight\": 300}}, \"data\": {\"name\": \"data-d1cd4dc5b7c5d37beeee55dcfcdd4293\"}, \"mark\": \"bar\", \"encoding\": {\"x\": {\"field\": \"Components\", \"type\": \"ordinal\"}, \"y\": {\"field\": \"MSE\", \"scale\": {\"type\": \"log\"}, \"type\": \"quantitative\"}}, \"width\": 600, \"$schema\": \"https://vega.github.io/schema/vega-lite/v4.17.0.json\", \"datasets\": {\"data-d1cd4dc5b7c5d37beeee55dcfcdd4293\": [{\"Components\": 0, \"MSE\": 1.3534091070398027}, {\"Components\": 1, \"MSE\": 0.8742205681680011}, {\"Components\": 2, \"MSE\": 0.6241996179403656}, {\"Components\": 3, \"MSE\": 0.5448696982699932}, {\"Components\": 4, \"MSE\": 0.48213736912791155}, {\"Components\": 5, \"MSE\": 0.4407109988359521}, {\"Components\": 6, \"MSE\": 0.4035925440524936}, {\"Components\": 7, \"MSE\": 0.37159963458265155}, {\"Components\": 8, \"MSE\": 0.3433167767174395}, {\"Components\": 9, \"MSE\": 0.31781336369003815}, {\"Components\": 10, \"MSE\": 0.2941713658236005}, {\"Components\": 11, \"MSE\": 0.2733737155973865}, {\"Components\": 12, \"MSE\": 0.25328771939011835}, {\"Components\": 13, \"MSE\": 0.23423279107156517}, {\"Components\": 14, \"MSE\": 0.21594383071086085}, {\"Components\": 15, \"MSE\": 0.19876837079506549}, {\"Components\": 16, \"MSE\": 0.18238216478572516}, {\"Components\": 17, \"MSE\": 0.1666925200018777}, {\"Components\": 18, \"MSE\": 0.15212095765613814}, {\"Components\": 19, \"MSE\": 0.1397030598215791}, {\"Components\": 20, \"MSE\": 0.1277308667978653}, {\"Components\": 21, \"MSE\": 0.11674789356275649}, {\"Components\": 22, \"MSE\": 0.10764614411218067}, {\"Components\": 23, \"MSE\": 0.09872408977275896}, {\"Components\": 24, \"MSE\": 0.09047309627193215}, {\"Components\": 25, \"MSE\": 0.08312943127976678}, {\"Components\": 26, \"MSE\": 0.07596713527965708}, {\"Components\": 27, \"MSE\": 0.06915287306064741}, {\"Components\": 28, \"MSE\": 0.06259175512731763}, {\"Components\": 29, \"MSE\": 0.056234182849102206}, {\"Components\": 30, \"MSE\": 0.05011927817469671}, {\"Components\": 31, \"MSE\": 0.044273673884281044}, {\"Components\": 32, \"MSE\": 0.0387106819115052}, {\"Components\": 33, \"MSE\": 0.033367616343504145}, {\"Components\": 34, \"MSE\": 0.028097982569954414}, {\"Components\": 35, \"MSE\": 0.022909395059905555}, {\"Components\": 36, \"MSE\": 0.018291138122005383}, {\"Components\": 37, \"MSE\": 0.014130421299819307}, {\"Components\": 38, \"MSE\": 0.010051346112488405}, {\"Components\": 39, \"MSE\": 0.0063942011138099055}, {\"Components\": 40, \"MSE\": 0.0029795966864094472}]}}, {\"mode\": \"vega-lite\"});\n</script>",
      "text/plain": "alt.Chart(...)"
     },
     "execution_count": 26,
     "metadata": {},
     "output_type": "execute_result"
    }
   ],
   "source": [
    "alt.Chart(pd.DataFrame(res)).mark_bar().encode(\n",
    "    x='Components:O',\n",
    "    y=alt.Y(\n",
    "        \"MSE:Q\",\n",
    "        scale=alt.Scale(type=\"log\"),\n",
    "    )\n",
    ").properties(width=600)"
   ],
   "metadata": {
    "collapsed": false
   }
  },
  {
   "cell_type": "code",
   "execution_count": 27,
   "outputs": [
    {
     "name": "stderr",
     "output_type": "stream",
     "text": [
      "/home/egor/PycharmProjects/deep_dr/venv/lib/python3.10/site-packages/altair/utils/core.py:317: FutureWarning: iteritems is deprecated and will be removed in a future version. Use .items instead.\n",
      "  for col_name, dtype in df.dtypes.iteritems():\n"
     ]
    },
    {
     "data": {
      "text/html": "\n<div id=\"altair-viz-3c9c67da52984876b81f93f85714e08b\"></div>\n<script type=\"text/javascript\">\n  var VEGA_DEBUG = (typeof VEGA_DEBUG == \"undefined\") ? {} : VEGA_DEBUG;\n  (function(spec, embedOpt){\n    let outputDiv = document.currentScript.previousElementSibling;\n    if (outputDiv.id !== \"altair-viz-3c9c67da52984876b81f93f85714e08b\") {\n      outputDiv = document.getElementById(\"altair-viz-3c9c67da52984876b81f93f85714e08b\");\n    }\n    const paths = {\n      \"vega\": \"https://cdn.jsdelivr.net/npm//vega@5?noext\",\n      \"vega-lib\": \"https://cdn.jsdelivr.net/npm//vega-lib?noext\",\n      \"vega-lite\": \"https://cdn.jsdelivr.net/npm//vega-lite@4.17.0?noext\",\n      \"vega-embed\": \"https://cdn.jsdelivr.net/npm//vega-embed@6?noext\",\n    };\n\n    function maybeLoadScript(lib, version) {\n      var key = `${lib.replace(\"-\", \"\")}_version`;\n      return (VEGA_DEBUG[key] == version) ?\n        Promise.resolve(paths[lib]) :\n        new Promise(function(resolve, reject) {\n          var s = document.createElement('script');\n          document.getElementsByTagName(\"head\")[0].appendChild(s);\n          s.async = true;\n          s.onload = () => {\n            VEGA_DEBUG[key] = version;\n            return resolve(paths[lib]);\n          };\n          s.onerror = () => reject(`Error loading script: ${paths[lib]}`);\n          s.src = paths[lib];\n        });\n    }\n\n    function showError(err) {\n      outputDiv.innerHTML = `<div class=\"error\" style=\"color:red;\">${err}</div>`;\n      throw err;\n    }\n\n    function displayChart(vegaEmbed) {\n      vegaEmbed(outputDiv, spec, embedOpt)\n        .catch(err => showError(`Javascript Error: ${err.message}<br>This usually means there's a typo in your chart specification. See the javascript console for the full traceback.`));\n    }\n\n    if(typeof define === \"function\" && define.amd) {\n      requirejs.config({paths});\n      require([\"vega-embed\"], displayChart, err => showError(`Error loading script: ${err.message}`));\n    } else {\n      maybeLoadScript(\"vega\", \"5\")\n        .then(() => maybeLoadScript(\"vega-lite\", \"4.17.0\"))\n        .then(() => maybeLoadScript(\"vega-embed\", \"6\"))\n        .catch(showError)\n        .then(() => displayChart(vegaEmbed));\n    }\n  })({\"config\": {\"view\": {\"continuousWidth\": 400, \"continuousHeight\": 300}}, \"data\": {\"name\": \"data-d1cd4dc5b7c5d37beeee55dcfcdd4293\"}, \"mark\": \"bar\", \"encoding\": {\"x\": {\"field\": \"Components\", \"type\": \"ordinal\"}, \"y\": {\"field\": \"MSE\", \"type\": \"quantitative\"}}, \"width\": 600, \"$schema\": \"https://vega.github.io/schema/vega-lite/v4.17.0.json\", \"datasets\": {\"data-d1cd4dc5b7c5d37beeee55dcfcdd4293\": [{\"Components\": 0, \"MSE\": 1.3534091070398027}, {\"Components\": 1, \"MSE\": 0.8742205681680011}, {\"Components\": 2, \"MSE\": 0.6241996179403656}, {\"Components\": 3, \"MSE\": 0.5448696982699932}, {\"Components\": 4, \"MSE\": 0.48213736912791155}, {\"Components\": 5, \"MSE\": 0.4407109988359521}, {\"Components\": 6, \"MSE\": 0.4035925440524936}, {\"Components\": 7, \"MSE\": 0.37159963458265155}, {\"Components\": 8, \"MSE\": 0.3433167767174395}, {\"Components\": 9, \"MSE\": 0.31781336369003815}, {\"Components\": 10, \"MSE\": 0.2941713658236005}, {\"Components\": 11, \"MSE\": 0.2733737155973865}, {\"Components\": 12, \"MSE\": 0.25328771939011835}, {\"Components\": 13, \"MSE\": 0.23423279107156517}, {\"Components\": 14, \"MSE\": 0.21594383071086085}, {\"Components\": 15, \"MSE\": 0.19876837079506549}, {\"Components\": 16, \"MSE\": 0.18238216478572516}, {\"Components\": 17, \"MSE\": 0.1666925200018777}, {\"Components\": 18, \"MSE\": 0.15212095765613814}, {\"Components\": 19, \"MSE\": 0.1397030598215791}, {\"Components\": 20, \"MSE\": 0.1277308667978653}, {\"Components\": 21, \"MSE\": 0.11674789356275649}, {\"Components\": 22, \"MSE\": 0.10764614411218067}, {\"Components\": 23, \"MSE\": 0.09872408977275896}, {\"Components\": 24, \"MSE\": 0.09047309627193215}, {\"Components\": 25, \"MSE\": 0.08312943127976678}, {\"Components\": 26, \"MSE\": 0.07596713527965708}, {\"Components\": 27, \"MSE\": 0.06915287306064741}, {\"Components\": 28, \"MSE\": 0.06259175512731763}, {\"Components\": 29, \"MSE\": 0.056234182849102206}, {\"Components\": 30, \"MSE\": 0.05011927817469671}, {\"Components\": 31, \"MSE\": 0.044273673884281044}, {\"Components\": 32, \"MSE\": 0.0387106819115052}, {\"Components\": 33, \"MSE\": 0.033367616343504145}, {\"Components\": 34, \"MSE\": 0.028097982569954414}, {\"Components\": 35, \"MSE\": 0.022909395059905555}, {\"Components\": 36, \"MSE\": 0.018291138122005383}, {\"Components\": 37, \"MSE\": 0.014130421299819307}, {\"Components\": 38, \"MSE\": 0.010051346112488405}, {\"Components\": 39, \"MSE\": 0.0063942011138099055}, {\"Components\": 40, \"MSE\": 0.0029795966864094472}]}}, {\"mode\": \"vega-lite\"});\n</script>",
      "text/plain": "alt.Chart(...)"
     },
     "execution_count": 27,
     "metadata": {},
     "output_type": "execute_result"
    }
   ],
   "source": [
    "alt.Chart(pd.DataFrame(res)).mark_bar().encode(\n",
    "    x='Components:O',\n",
    "    y=alt.Y(\n",
    "        \"MSE:Q\",\n",
    "    )\n",
    ").properties(width=600)"
   ],
   "metadata": {
    "collapsed": false
   }
  },
  {
   "cell_type": "code",
   "execution_count": 4,
   "outputs": [],
   "source": [
    "import sys\n",
    "if \"..\" not in sys.path:\n",
    "    sys.path.insert(0, \"..\")\n",
    "\n",
    "from datasets import CafDataset\n",
    "data = CafDataset(data_dir='../data/caf/')\n",
    "X_train,y_train = data.train\n",
    "X_val,y_val = data.val"
   ],
   "metadata": {
    "collapsed": false
   }
  },
  {
   "cell_type": "code",
   "execution_count": 5,
   "outputs": [
    {
     "data": {
      "text/plain": "array([20259.254 , 16604.53  ,  9124.931 ,  7975.14  ,  7125.786 ,\n        6335.76  ,  6199.879 ,  5768.3047,  5380.271 ,  5286.507 ,\n        5165.567 ,  5072.233 ,  4957.979 ,  4933.247 ,  4783.9487,\n        4550.519 ,  4485.4194,  4197.748 ,  4076.226 ,  3918.9438,\n        3724.5315,  3444.5537,  3359.0325,  3104.1387,  3021.807 ,\n        2959.9167,  2913.94  ,  2795.4778,  2720.2344,  2699.0483,\n        2619.7495,  2572.1458,  2521.712 ,  2481.8972,  2441.5217,\n        2392.0176,  2334.9666,  2281.1448,  2195.7217,  2168.2996,\n        2116.6824,  1991.6777,  1703.83  ,  1685.267 ], dtype=float32)"
     },
     "execution_count": 5,
     "metadata": {},
     "output_type": "execute_result"
    }
   ],
   "source": [
    "from sklearn.decomposition import PCA\n",
    "import numpy as np\n",
    "pca = PCA(n_components=44)\n",
    "pca.fit(X_train)\n",
    "pca.singular_values_"
   ],
   "metadata": {
    "collapsed": false
   }
  },
  {
   "cell_type": "code",
   "execution_count": 7,
   "outputs": [
    {
     "name": "stdout",
     "output_type": "stream",
     "text": [
      "Components: 0, MSE:1.8818624019622803\n",
      "Components: 1, MSE:1.343815565109253\n",
      "Components: 2, MSE:0.9819348454475403\n",
      "Components: 3, MSE:0.8728591203689575\n",
      "Components: 4, MSE:0.789380669593811\n",
      "Components: 5, MSE:0.7227479219436646\n",
      "Components: 6, MSE:0.6700727939605713\n",
      "Components: 7, MSE:0.6196869611740112\n",
      "Components: 8, MSE:0.5760135054588318\n",
      "Components: 9, MSE:0.5380264520645142\n",
      "Components: 10, MSE:0.5013865232467651\n",
      "Components: 11, MSE:0.4663931131362915\n",
      "Components: 12, MSE:0.43259817361831665\n",
      "Components: 13, MSE:0.4003489911556244\n",
      "Components: 14, MSE:0.3684535026550293\n",
      "Components: 15, MSE:0.3384431302547455\n",
      "Components: 16, MSE:0.31126919388771057\n",
      "Components: 17, MSE:0.2848964035511017\n",
      "Components: 18, MSE:0.26180410385131836\n",
      "Components: 19, MSE:0.23999106884002686\n",
      "Components: 20, MSE:0.2198437601327896\n",
      "Components: 21, MSE:0.20165282487869263\n",
      "Components: 22, MSE:0.18609344959259033\n",
      "Components: 23, MSE:0.1713021844625473\n",
      "Components: 24, MSE:0.15865914523601532\n",
      "Components: 25, MSE:0.1466801017522812\n",
      "Components: 26, MSE:0.13519302010536194\n",
      "Components: 27, MSE:0.12405753880739212\n",
      "Components: 28, MSE:0.11380185186862946\n",
      "Components: 29, MSE:0.10408878326416016\n",
      "Components: 30, MSE:0.09452611207962036\n",
      "Components: 31, MSE:0.08550203591585159\n",
      "Components: 32, MSE:0.07683351635932922\n",
      "Components: 33, MSE:0.06848271191120148\n",
      "Components: 34, MSE:0.06041014567017555\n",
      "Components: 35, MSE:0.052589915692806244\n",
      "Components: 36, MSE:0.04508022964000702\n",
      "Components: 37, MSE:0.037927258759737015\n",
      "Components: 38, MSE:0.031096449121832848\n",
      "Components: 39, MSE:0.024774957448244095\n",
      "Components: 40, MSE:0.018609819933772087\n",
      "Components: 41, MSE:0.012738896533846855\n",
      "Components: 42, MSE:0.007526835892349482\n",
      "Components: 43, MSE:0.0037193919997662306\n"
     ]
    }
   ],
   "source": [
    "from torch.nn import functional as F\n",
    "import torch\n",
    "\n",
    "res = []\n",
    "for i in range(44):\n",
    "    reduced_dim = np.pad(pca.transform(X_val)[:,:i],((0,0),(0,44-i)))\n",
    "    loss = F.mse_loss(torch.from_numpy(X_val), torch.from_numpy(pca.inverse_transform(reduced_dim)))\n",
    "    print(f\"Components: {i}, MSE:{loss}\")\n",
    "    res.append({\"Components\":i,'MSE':loss.item()})"
   ],
   "metadata": {
    "collapsed": false
   }
  },
  {
   "cell_type": "code",
   "execution_count": 8,
   "outputs": [],
   "source": [
    "from datasets import ChallengeDataset\n",
    "data = ChallengeDataset(data_dir='../data/breast_cancer_challenge/')\n",
    "X_train,y_train = data.train\n",
    "X_val,y_val = data.val"
   ],
   "metadata": {
    "collapsed": false
   }
  },
  {
   "cell_type": "code",
   "execution_count": 9,
   "outputs": [
    {
     "data": {
      "text/plain": "array([10828.17  ,  7165.361 ,  5013.435 ,  3885.605 ,  3584.163 ,\n        3396.6348,  3154.4314,  2975.5515,  2901.534 ,  2725.0376,\n        2516.2737,  2426.4995,  2363.5513,  2327.261 ,  2188.9778,\n        2133.354 ,  2060.583 ,  1953.6179,  1869.5284,  1826.6351,\n        1803.9641,  1742.966 ,  1714.7451,  1684.3162,  1660.2667,\n        1619.6733,  1607.3462,  1586.5559,  1552.2286,  1513.2927,\n        1456.4614,  1427.4927,  1384.9562,  1362.1127,  1327.2257,\n        1252.7627,  1072.9457], dtype=float32)"
     },
     "execution_count": 9,
     "metadata": {},
     "output_type": "execute_result"
    }
   ],
   "source": [
    "from sklearn.decomposition import PCA\n",
    "import numpy as np\n",
    "pca = PCA(n_components=37)\n",
    "pca.fit(X_train)\n",
    "pca.singular_values_"
   ],
   "metadata": {
    "collapsed": false
   }
  },
  {
   "cell_type": "code",
   "execution_count": 10,
   "outputs": [
    {
     "name": "stdout",
     "output_type": "stream",
     "text": [
      "Components: 0, MSE:1.24342679977417\n",
      "Components: 1, MSE:0.8327886462211609\n",
      "Components: 2, MSE:0.6527276635169983\n",
      "Components: 3, MSE:0.5648074150085449\n",
      "Components: 4, MSE:0.511974573135376\n",
      "Components: 5, MSE:0.46691030263900757\n",
      "Components: 6, MSE:0.4266059994697571\n",
      "Components: 7, MSE:0.39171257615089417\n",
      "Components: 8, MSE:0.3607211410999298\n",
      "Components: 9, MSE:0.3312135934829712\n",
      "Components: 10, MSE:0.30524471402168274\n",
      "Components: 11, MSE:0.2830720841884613\n",
      "Components: 12, MSE:0.26243868470191956\n",
      "Components: 13, MSE:0.24285125732421875\n",
      "Components: 14, MSE:0.22392109036445618\n",
      "Components: 15, MSE:0.20713099837303162\n",
      "Components: 16, MSE:0.19115370512008667\n",
      "Components: 17, MSE:0.17627164721488953\n",
      "Components: 18, MSE:0.16289520263671875\n",
      "Components: 19, MSE:0.15064789354801178\n",
      "Components: 20, MSE:0.13893915712833405\n",
      "Components: 21, MSE:0.1275463104248047\n",
      "Components: 22, MSE:0.11687116324901581\n",
      "Components: 23, MSE:0.10654953122138977\n",
      "Components: 24, MSE:0.09661940485239029\n",
      "Components: 25, MSE:0.0869738757610321\n",
      "Components: 26, MSE:0.07779482752084732\n",
      "Components: 27, MSE:0.06872623413801193\n",
      "Components: 28, MSE:0.05990263447165489\n",
      "Components: 29, MSE:0.05146140977740288\n",
      "Components: 30, MSE:0.04345940053462982\n",
      "Components: 31, MSE:0.036026906222105026\n",
      "Components: 32, MSE:0.02890034392476082\n",
      "Components: 33, MSE:0.02217724174261093\n",
      "Components: 34, MSE:0.015670226886868477\n",
      "Components: 35, MSE:0.009514163248240948\n",
      "Components: 36, MSE:0.004023441579192877\n"
     ]
    }
   ],
   "source": [
    "from torch.nn import functional as F\n",
    "import torch\n",
    "\n",
    "res = []\n",
    "for i in range(37):\n",
    "    reduced_dim = np.pad(pca.transform(X_val)[:,:i],((0,0),(0,37-i)))\n",
    "    loss = F.mse_loss(torch.from_numpy(X_val), torch.from_numpy(pca.inverse_transform(reduced_dim)))\n",
    "    print(f\"Components: {i}, MSE:{loss}\")\n",
    "    res.append({\"Components\":i,'MSE':loss.item()})"
   ],
   "metadata": {
    "collapsed": false
   }
  },
  {
   "cell_type": "code",
   "execution_count": null,
   "outputs": [],
   "source": [],
   "metadata": {
    "collapsed": false
   }
  }
 ],
 "metadata": {
  "kernelspec": {
   "display_name": "Python 3",
   "language": "python",
   "name": "python3"
  },
  "language_info": {
   "codemirror_mode": {
    "name": "ipython",
    "version": 2
   },
   "file_extension": ".py",
   "mimetype": "text/x-python",
   "name": "python",
   "nbconvert_exporter": "python",
   "pygments_lexer": "ipython2",
   "version": "2.7.6"
  }
 },
 "nbformat": 4,
 "nbformat_minor": 0
}
