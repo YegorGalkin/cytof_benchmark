{
 "cells": [
  {
   "cell_type": "code",
   "execution_count": 1,
   "metadata": {
    "collapsed": true
   },
   "outputs": [
    {
     "data": {
      "text/plain": "batch_size: 1000000\ndataset: Organoid\ndevice: cuda\nepochs: 10000\nhidden_dims: !!python/tuple\n- 32\n- 32\n- 32\nin_features: 41\nkld_weight: 0.0025\nlatent_dim: 2\nlearning_rate: 0.05\nloss_type: beta\nmodel: VAE\noutput_dir: ./logs/VanillaVAE/\nsave_loss_every_n_epochs: 25\nseed: 12345\nweight_decay: 0.0"
     },
     "execution_count": 1,
     "metadata": {},
     "output_type": "execute_result"
    }
   ],
   "source": [
    "from configs import beta_vae\n",
    "config = beta_vae.get_config()\n",
    "config"
   ]
  },
  {
   "cell_type": "code",
   "execution_count": 2,
   "outputs": [],
   "source": [
    "from models import BetaVAE\n",
    "config.hidden_dims = [32,16,8]\n",
    "model = BetaVAE(config).to(config.device)"
   ],
   "metadata": {
    "collapsed": false
   }
  },
  {
   "cell_type": "code",
   "execution_count": 3,
   "outputs": [
    {
     "data": {
      "text/plain": "BetaVAE(\n  (encoder): Sequential(\n    (0): Sequential(\n      (0): Linear(in_features=41, out_features=32, bias=True)\n      (1): BatchNorm1d(32, eps=1e-05, momentum=0.1, affine=True, track_running_stats=True)\n      (2): LeakyReLU(negative_slope=0.01)\n    )\n    (1): Sequential(\n      (0): Linear(in_features=32, out_features=16, bias=True)\n      (1): BatchNorm1d(16, eps=1e-05, momentum=0.1, affine=True, track_running_stats=True)\n      (2): LeakyReLU(negative_slope=0.01)\n    )\n    (2): Sequential(\n      (0): Linear(in_features=16, out_features=8, bias=True)\n      (1): BatchNorm1d(8, eps=1e-05, momentum=0.1, affine=True, track_running_stats=True)\n      (2): LeakyReLU(negative_slope=0.01)\n    )\n  )\n  (fc_mu): Linear(in_features=8, out_features=2, bias=True)\n  (fc_var): Linear(in_features=8, out_features=2, bias=True)\n  (decoder): Sequential(\n    (0): Sequential(\n      (0): Linear(in_features=2, out_features=8, bias=True)\n      (1): BatchNorm1d(8, eps=1e-05, momentum=0.1, affine=True, track_running_stats=True)\n      (2): LeakyReLU(negative_slope=0.01)\n    )\n    (1): Sequential(\n      (0): Linear(in_features=8, out_features=16, bias=True)\n      (1): BatchNorm1d(16, eps=1e-05, momentum=0.1, affine=True, track_running_stats=True)\n      (2): LeakyReLU(negative_slope=0.01)\n    )\n    (2): Sequential(\n      (0): Linear(in_features=16, out_features=32, bias=True)\n      (1): BatchNorm1d(32, eps=1e-05, momentum=0.1, affine=True, track_running_stats=True)\n      (2): LeakyReLU(negative_slope=0.01)\n    )\n    (3): Sequential(\n      (0): Linear(in_features=32, out_features=41, bias=True)\n      (1): BatchNorm1d(41, eps=1e-05, momentum=0.1, affine=True, track_running_stats=True)\n      (2): LeakyReLU(negative_slope=0.01)\n    )\n  )\n  (final_layer): Linear(in_features=41, out_features=41, bias=True)\n)"
     },
     "execution_count": 3,
     "metadata": {},
     "output_type": "execute_result"
    }
   ],
   "source": [
    "model"
   ],
   "metadata": {
    "collapsed": false
   }
  },
  {
   "cell_type": "code",
   "execution_count": 5,
   "outputs": [],
   "source": [
    "from datasets import OrganoidDataset\n",
    "data = OrganoidDataset()\n",
    "\n",
    "X_train,y_train = data.train\n",
    "X_val,y_val = data.val"
   ],
   "metadata": {
    "collapsed": false
   }
  },
  {
   "cell_type": "code",
   "execution_count": 6,
   "outputs": [
    {
     "name": "stdout",
     "output_type": "stream",
     "text": [
      "Memory allocated:201714688\n",
      "Max memory allocated:201718272\n"
     ]
    }
   ],
   "source": [
    "import torch\n",
    "print(f'Memory allocated:{torch.cuda.memory_allocated()}')\n",
    "print(f'Max memory allocated:{torch.cuda.max_memory_allocated()}')"
   ],
   "metadata": {
    "collapsed": false
   }
  },
  {
   "cell_type": "code",
   "execution_count": 9,
   "outputs": [],
   "source": [
    "from torch import optim\n",
    "\n",
    "optimizer = optim.Adam(model.parameters(),\n",
    "                       lr=0.005,\n",
    "                       weight_decay=0.0,\n",
    "                       )\n",
    "optimizer.zero_grad()\n",
    "outputs = model.forward(X_train)\n",
    "loss = model.loss_function(*outputs, config=config)['loss']\n",
    "loss.backward()\n",
    "optimizer.step()"
   ],
   "metadata": {
    "collapsed": false
   }
  },
  {
   "cell_type": "code",
   "execution_count": 15,
   "outputs": [
    {
     "name": "stderr",
     "output_type": "stream",
     "text": [
      "/home/egor/PycharmProjects/deep_dr/venv/lib/python3.10/site-packages/torchvision/io/image.py:13: UserWarning: Failed to load image Python extension: libtorch_cuda_cu.so: cannot open shared object file: No such file or directory\n",
      "  warn(f\"Failed to load image Python extension: {e}\")\n",
      "Global seed set to 12345\n"
     ]
    },
    {
     "name": "stdout",
     "output_type": "stream",
     "text": [
      "CUDA available:True\n"
     ]
    },
    {
     "name": "stderr",
     "output_type": "stream",
     "text": [
      "100%|██████████| 10000/10000 [14:01<00:00, 11.88it/s]\n"
     ]
    },
    {
     "name": "stdout",
     "output_type": "stream",
     "text": [
      "Finished Training\n"
     ]
    },
    {
     "data": {
      "text/plain": "0"
     },
     "execution_count": 15,
     "metadata": {},
     "output_type": "execute_result"
    }
   ],
   "source": [
    "import os\n",
    "os.system('python3 /home/egor/PycharmProjects/deep_dr/experiment.py --config=configs/vanilla_vae.py --config.epochs=10000')"
   ],
   "metadata": {
    "collapsed": false
   }
  },
  {
   "cell_type": "code",
   "execution_count": 1,
   "outputs": [
    {
     "data": {
      "text/plain": "batch_size: 4096\ndataset: Organoid\ndevice: cuda\nepochs: 10000\nhidden_dims:\n- 32\n- 32\n- 32\nin_features: 41\nkernel_type: imq\nlatent_dim: 2\nlatent_var: 1\nlearning_rate: 0.005\nmodel: WAE_MMD\nreg_weight: 1\nsave_loss_every_n_epochs: 10\nseed: 12345\nweight_decay: 0.0"
     },
     "execution_count": 1,
     "metadata": {},
     "output_type": "execute_result"
    }
   ],
   "source": [
    "from configs import wae_mmd\n",
    "config = wae_mmd.get_config()\n",
    "config"
   ],
   "metadata": {
    "collapsed": false
   }
  },
  {
   "cell_type": "code",
   "execution_count": 2,
   "outputs": [
    {
     "data": {
      "text/plain": "WAE_MMD(\n  (encoder): Sequential(\n    (0): Sequential(\n      (0): Linear(in_features=41, out_features=32, bias=True)\n      (1): BatchNorm1d(32, eps=1e-05, momentum=0.1, affine=True, track_running_stats=True)\n      (2): LeakyReLU(negative_slope=0.01)\n    )\n    (1): Sequential(\n      (0): Linear(in_features=32, out_features=16, bias=True)\n      (1): BatchNorm1d(16, eps=1e-05, momentum=0.1, affine=True, track_running_stats=True)\n      (2): LeakyReLU(negative_slope=0.01)\n    )\n    (2): Sequential(\n      (0): Linear(in_features=16, out_features=8, bias=True)\n      (1): BatchNorm1d(8, eps=1e-05, momentum=0.1, affine=True, track_running_stats=True)\n      (2): LeakyReLU(negative_slope=0.01)\n    )\n  )\n  (fc_z): Linear(in_features=8, out_features=2, bias=True)\n  (decoder): Sequential(\n    (0): Sequential(\n      (0): Linear(in_features=2, out_features=8, bias=True)\n      (1): BatchNorm1d(8, eps=1e-05, momentum=0.1, affine=True, track_running_stats=True)\n      (2): LeakyReLU(negative_slope=0.01)\n    )\n    (1): Sequential(\n      (0): Linear(in_features=8, out_features=16, bias=True)\n      (1): BatchNorm1d(16, eps=1e-05, momentum=0.1, affine=True, track_running_stats=True)\n      (2): LeakyReLU(negative_slope=0.01)\n    )\n    (2): Sequential(\n      (0): Linear(in_features=16, out_features=32, bias=True)\n      (1): BatchNorm1d(32, eps=1e-05, momentum=0.1, affine=True, track_running_stats=True)\n      (2): LeakyReLU(negative_slope=0.01)\n    )\n    (3): Sequential(\n      (0): Linear(in_features=32, out_features=41, bias=True)\n      (1): BatchNorm1d(41, eps=1e-05, momentum=0.1, affine=True, track_running_stats=True)\n      (2): LeakyReLU(negative_slope=0.01)\n    )\n  )\n  (final_layer): Linear(in_features=41, out_features=41, bias=True)\n)"
     },
     "execution_count": 2,
     "metadata": {},
     "output_type": "execute_result"
    }
   ],
   "source": [
    "from models import WAE_MMD\n",
    "config.hidden_dims = [32,16,8]\n",
    "model = WAE_MMD(config).to(config.device)\n",
    "model"
   ],
   "metadata": {
    "collapsed": false
   }
  },
  {
   "cell_type": "code",
   "execution_count": 3,
   "outputs": [
    {
     "name": "stderr",
     "output_type": "stream",
     "text": [
      "/home/egor/PycharmProjects/deep_dr/venv/lib/python3.10/site-packages/torchvision/io/image.py:13: UserWarning: Failed to load image Python extension: libtorch_cuda_cu.so: cannot open shared object file: No such file or directory\n",
      "  warn(f\"Failed to load image Python extension: {e}\")\n"
     ]
    }
   ],
   "source": [
    "from datasets import OrganoidDataset\n",
    "\n",
    "data = OrganoidDataset()\n",
    "\n",
    "X_train, y_train = data.train\n",
    "X_val, y_val = data.val"
   ],
   "metadata": {
    "collapsed": false
   }
  },
  {
   "cell_type": "code",
   "execution_count": 4,
   "outputs": [],
   "source": [
    "import torch\n",
    "\n",
    "X_train_batches = torch.split(X_train,split_size_or_sections=config.batch_size)\n",
    "X_val_batches = torch.split(X_train,split_size_or_sections=config.batch_size)"
   ],
   "metadata": {
    "collapsed": false
   }
  },
  {
   "cell_type": "code",
   "execution_count": 5,
   "outputs": [],
   "source": [
    "from torch import optim\n",
    "\n",
    "optimizer = optim.Adam(model.parameters(),\n",
    "                       lr=0.005,\n",
    "                       weight_decay=0.0,\n",
    "                       )\n",
    "optimizer.zero_grad()\n",
    "outputs = model.forward(X_train_batches[0])\n",
    "loss = model.loss_function(*outputs, config=config)['loss']\n",
    "loss.backward()\n",
    "optimizer.step()"
   ],
   "metadata": {
    "collapsed": false
   }
  },
  {
   "cell_type": "code",
   "execution_count": 21,
   "outputs": [
    {
     "name": "stderr",
     "output_type": "stream",
     "text": [
      "/home/egor/PycharmProjects/deep_dr/venv/lib/python3.10/site-packages/torchvision/io/image.py:13: UserWarning: Failed to load image Python extension: libtorch_cuda_cu.so: cannot open shared object file: No such file or directory\n",
      "  warn(f\"Failed to load image Python extension: {e}\")\n",
      "Global seed set to 12345\n"
     ]
    },
    {
     "name": "stdout",
     "output_type": "stream",
     "text": [
      "CUDA available:True\n"
     ]
    },
    {
     "name": "stderr",
     "output_type": "stream",
     "text": [
      "100%|██████████| 200/200 [17:26<00:00,  5.23s/it]\n"
     ]
    },
    {
     "name": "stdout",
     "output_type": "stream",
     "text": [
      "Finished Training\n"
     ]
    },
    {
     "data": {
      "text/plain": "0"
     },
     "execution_count": 21,
     "metadata": {},
     "output_type": "execute_result"
    }
   ],
   "source": [
    "import os\n",
    "os.system('python3 /home/egor/PycharmProjects/deep_dr/experiment.py --config=configs/wae_mmd.py --config.epochs=200')"
   ],
   "metadata": {
    "collapsed": false
   }
  },
  {
   "cell_type": "code",
   "execution_count": 10,
   "outputs": [
    {
     "name": "stderr",
     "output_type": "stream",
     "text": [
      "/home/egor/PycharmProjects/deep_dr/venv/lib/python3.10/site-packages/torchvision/io/image.py:13: UserWarning: Failed to load image Python extension: libtorch_cuda_cu.so: cannot open shared object file: No such file or directory\n",
      "  warn(f\"Failed to load image Python extension: {e}\")\n",
      "Global seed set to 12345\n",
      "  0%|          | 0/10000 [00:00<?, ?it/s]"
     ]
    },
    {
     "name": "stdout",
     "output_type": "stream",
     "text": [
      "CUDA available:True\n"
     ]
    },
    {
     "name": "stderr",
     "output_type": "stream",
     "text": [
      "100%|██████████| 10000/10000 [25:46<00:00,  6.47it/s]\n"
     ]
    },
    {
     "name": "stdout",
     "output_type": "stream",
     "text": [
      "Finished Training\n"
     ]
    },
    {
     "name": "stderr",
     "output_type": "stream",
     "text": [
      "/home/egor/PycharmProjects/deep_dr/venv/lib/python3.10/site-packages/torchvision/io/image.py:13: UserWarning: Failed to load image Python extension: libtorch_cuda_cu.so: cannot open shared object file: No such file or directory\n",
      "  warn(f\"Failed to load image Python extension: {e}\")\n",
      "Global seed set to 12345\n",
      "  0%|          | 0/10000 [00:00<?, ?it/s]"
     ]
    },
    {
     "name": "stdout",
     "output_type": "stream",
     "text": [
      "CUDA available:True\n"
     ]
    },
    {
     "name": "stderr",
     "output_type": "stream",
     "text": [
      "100%|██████████| 10000/10000 [25:54<00:00,  6.43it/s]\n"
     ]
    },
    {
     "name": "stdout",
     "output_type": "stream",
     "text": [
      "Finished Training\n"
     ]
    },
    {
     "name": "stderr",
     "output_type": "stream",
     "text": [
      "/home/egor/PycharmProjects/deep_dr/venv/lib/python3.10/site-packages/torchvision/io/image.py:13: UserWarning: Failed to load image Python extension: libtorch_cuda_cu.so: cannot open shared object file: No such file or directory\n",
      "  warn(f\"Failed to load image Python extension: {e}\")\n",
      "Global seed set to 12345\n",
      "  0%|          | 0/10000 [00:00<?, ?it/s]"
     ]
    },
    {
     "name": "stdout",
     "output_type": "stream",
     "text": [
      "CUDA available:True\n"
     ]
    },
    {
     "name": "stderr",
     "output_type": "stream",
     "text": [
      "100%|██████████| 10000/10000 [25:16<00:00,  6.59it/s]\n"
     ]
    },
    {
     "name": "stdout",
     "output_type": "stream",
     "text": [
      "Finished Training\n"
     ]
    }
   ],
   "source": [
    "import os\n",
    "for lr in [0.08,0.09,0.06]:\n",
    "    os.system(f'python3 /home/egor/PycharmProjects/deep_dr/experiment.py '\n",
    "              f'--config=configs/beta_vae.py '\n",
    "              f'--config.output_dir=logs/VanillaVAE/grid_example '\n",
    "              f'--config.hidden_dims=\"(41,41,41,41)\" '\n",
    "              f'--config.learning_rate={lr} ')"
   ],
   "metadata": {
    "collapsed": false
   }
  },
  {
   "cell_type": "code",
   "execution_count": 9,
   "outputs": [
    {
     "name": "stderr",
     "output_type": "stream",
     "text": [
      "/home/egor/PycharmProjects/deep_dr/venv/lib/python3.10/site-packages/torchvision/io/image.py:13: UserWarning: Failed to load image Python extension: libtorch_cuda_cu.so: cannot open shared object file: No such file or directory\n",
      "  warn(f\"Failed to load image Python extension: {e}\")\n",
      "Global seed set to 12345\n",
      "  0%|          | 0/10000 [00:00<?, ?it/s]"
     ]
    },
    {
     "name": "stdout",
     "output_type": "stream",
     "text": [
      "CUDA available:True\n"
     ]
    },
    {
     "name": "stderr",
     "output_type": "stream",
     "text": [
      "100%|██████████| 10000/10000 [14:18<00:00, 11.64it/s]\n"
     ]
    },
    {
     "name": "stdout",
     "output_type": "stream",
     "text": [
      "Finished Training\n"
     ]
    },
    {
     "data": {
      "text/plain": "0"
     },
     "execution_count": 9,
     "metadata": {},
     "output_type": "execute_result"
    }
   ],
   "source": [
    "import os\n",
    "os.system('python3 /home/egor/PycharmProjects/deep_dr/experiment.py --config=configs/disentangled_beta_vae.py')"
   ],
   "metadata": {
    "collapsed": false
   }
  },
  {
   "cell_type": "code",
   "execution_count": 8,
   "outputs": [
    {
     "name": "stderr",
     "output_type": "stream",
     "text": [
      "/home/egor/PycharmProjects/deep_dr/venv/lib/python3.10/site-packages/torchvision/io/image.py:13: UserWarning: Failed to load image Python extension: libtorch_cuda_cu.so: cannot open shared object file: No such file or directory\n",
      "  warn(f\"Failed to load image Python extension: {e}\")\n",
      "Global seed set to 12345\n",
      "  0%|          | 1/10000 [00:00<32:22,  5.15it/s]"
     ]
    },
    {
     "name": "stdout",
     "output_type": "stream",
     "text": [
      "CUDA available:True\n"
     ]
    },
    {
     "name": "stderr",
     "output_type": "stream",
     "text": [
      "100%|██████████| 10000/10000 [19:31<00:00,  8.54it/s]\n"
     ]
    },
    {
     "name": "stdout",
     "output_type": "stream",
     "text": [
      "Finished Training\n"
     ]
    },
    {
     "data": {
      "text/plain": "0"
     },
     "execution_count": 8,
     "metadata": {},
     "output_type": "execute_result"
    }
   ],
   "source": [
    "os.system('python3 /home/egor/PycharmProjects/deep_dr/experiment.py '\n",
    "          '--config=configs/beta_vae.py '\n",
    "          '--config.kld_weight=0.25 '\n",
    "          '--config.hidden_dims=\"(41,32,32,32)\"')"
   ],
   "metadata": {
    "collapsed": false
   }
  },
  {
   "cell_type": "code",
   "execution_count": 13,
   "outputs": [
    {
     "name": "stderr",
     "output_type": "stream",
     "text": [
      "Global seed set to 12345\n",
      "  0%|          | 0/10000 [00:00<?, ?it/s]"
     ]
    },
    {
     "name": "stdout",
     "output_type": "stream",
     "text": [
      "CUDA available:True\n"
     ]
    },
    {
     "name": "stderr",
     "output_type": "stream",
     "text": [
      "100%|██████████| 10000/10000 [22:47<00:00,  7.31it/s]\n"
     ]
    },
    {
     "name": "stdout",
     "output_type": "stream",
     "text": [
      "Finished Training\n"
     ]
    },
    {
     "name": "stderr",
     "output_type": "stream",
     "text": [
      "/home/egor/PycharmProjects/deep_dr/venv/lib/python3.10/site-packages/torchvision/io/image.py:13: UserWarning: Failed to load image Python extension: libtorch_cuda_cu.so: cannot open shared object file: No such file or directory\n",
      "  warn(f\"Failed to load image Python extension: {e}\")\n",
      "Global seed set to 12345\n",
      "  0%|          | 0/10000 [00:00<?, ?it/s]"
     ]
    },
    {
     "name": "stdout",
     "output_type": "stream",
     "text": [
      "CUDA available:True\n"
     ]
    },
    {
     "name": "stderr",
     "output_type": "stream",
     "text": [
      "100%|██████████| 10000/10000 [28:35<00:00,  5.83it/s]\n"
     ]
    },
    {
     "name": "stdout",
     "output_type": "stream",
     "text": [
      "Finished Training\n"
     ]
    },
    {
     "name": "stderr",
     "output_type": "stream",
     "text": [
      "/home/egor/PycharmProjects/deep_dr/venv/lib/python3.10/site-packages/torchvision/io/image.py:13: UserWarning: Failed to load image Python extension: libtorch_cuda_cu.so: cannot open shared object file: No such file or directory\n",
      "  warn(f\"Failed to load image Python extension: {e}\")\n",
      "Global seed set to 12345\n",
      "  0%|          | 0/10000 [00:00<?, ?it/s]"
     ]
    },
    {
     "name": "stdout",
     "output_type": "stream",
     "text": [
      "CUDA available:True\n"
     ]
    },
    {
     "name": "stderr",
     "output_type": "stream",
     "text": [
      "  0%|          | 0/10000 [00:00<?, ?it/s]\n",
      "Traceback (most recent call last):\n",
      "  File \"/home/egor/PycharmProjects/deep_dr/experiment.py\", line 144, in <module>\n",
      "    app.run(main)\n",
      "  File \"/home/egor/PycharmProjects/deep_dr/venv/lib/python3.10/site-packages/absl/app.py\", line 308, in run\n",
      "    _run_main(main, args)\n",
      "  File \"/home/egor/PycharmProjects/deep_dr/venv/lib/python3.10/site-packages/absl/app.py\", line 254, in _run_main\n",
      "    sys.exit(main(argv))\n",
      "  File \"/home/egor/PycharmProjects/deep_dr/experiment.py\", line 62, in main\n",
      "    outputs = model.forward(X_batch)\n",
      "  File \"/home/egor/PycharmProjects/deep_dr/models/beta_vae.py\", line 96, in forward\n",
      "    return [self.decode(z), input, mu, log_var]\n",
      "  File \"/home/egor/PycharmProjects/deep_dr/models/beta_vae.py\", line 76, in decode\n",
      "    result = self.decoder(z)\n",
      "  File \"/home/egor/PycharmProjects/deep_dr/venv/lib/python3.10/site-packages/torch/nn/modules/module.py\", line 1130, in _call_impl\n",
      "    return forward_call(*input, **kwargs)\n",
      "  File \"/home/egor/PycharmProjects/deep_dr/venv/lib/python3.10/site-packages/torch/nn/modules/container.py\", line 139, in forward\n",
      "    input = module(input)\n",
      "  File \"/home/egor/PycharmProjects/deep_dr/venv/lib/python3.10/site-packages/torch/nn/modules/module.py\", line 1130, in _call_impl\n",
      "    return forward_call(*input, **kwargs)\n",
      "  File \"/home/egor/PycharmProjects/deep_dr/venv/lib/python3.10/site-packages/torch/nn/modules/container.py\", line 139, in forward\n",
      "    input = module(input)\n",
      "  File \"/home/egor/PycharmProjects/deep_dr/venv/lib/python3.10/site-packages/torch/nn/modules/module.py\", line 1130, in _call_impl\n",
      "    return forward_call(*input, **kwargs)\n",
      "  File \"/home/egor/PycharmProjects/deep_dr/venv/lib/python3.10/site-packages/torch/nn/modules/activation.py\", line 772, in forward\n",
      "    return F.leaky_relu(input, self.negative_slope, self.inplace)\n",
      "  File \"/home/egor/PycharmProjects/deep_dr/venv/lib/python3.10/site-packages/torch/nn/functional.py\", line 1633, in leaky_relu\n",
      "    result = torch._C._nn.leaky_relu(input, negative_slope)\n",
      "RuntimeError: CUDA out of memory. Tried to allocate 130.00 MiB (GPU 0; 7.79 GiB total capacity; 6.34 GiB already allocated; 49.62 MiB free; 6.42 GiB reserved in total by PyTorch) If reserved memory is >> allocated memory try setting max_split_size_mb to avoid fragmentation.  See documentation for Memory Management and PYTORCH_CUDA_ALLOC_CONF\n",
      "/home/egor/PycharmProjects/deep_dr/venv/lib/python3.10/site-packages/torchvision/io/image.py:13: UserWarning: Failed to load image Python extension: libtorch_cuda_cu.so: cannot open shared object file: No such file or directory\n",
      "  warn(f\"Failed to load image Python extension: {e}\")\n",
      "Global seed set to 12345\n",
      "  0%|          | 0/10000 [00:00<?, ?it/s]"
     ]
    },
    {
     "name": "stdout",
     "output_type": "stream",
     "text": [
      "CUDA available:True\n"
     ]
    },
    {
     "name": "stderr",
     "output_type": "stream",
     "text": [
      " 13%|█▎        | 1337/10000 [1:13:44<7:57:49,  3.31s/it]    \n",
      "Traceback (most recent call last):\n",
      "  File \"/home/egor/PycharmProjects/deep_dr/experiment.py\", line 144, in <module>\n",
      "    app.run(main)\n",
      "  File \"/home/egor/PycharmProjects/deep_dr/venv/lib/python3.10/site-packages/absl/app.py\", line 308, in run\n",
      "    _run_main(main, args)\n",
      "  File \"/home/egor/PycharmProjects/deep_dr/venv/lib/python3.10/site-packages/absl/app.py\", line 254, in _run_main\n",
      "    sys.exit(main(argv))\n",
      "  File \"/home/egor/PycharmProjects/deep_dr/experiment.py\", line 64, in main\n",
      "    loss['loss'].backward()\n",
      "  File \"/home/egor/PycharmProjects/deep_dr/venv/lib/python3.10/site-packages/torch/_tensor.py\", line 396, in backward\n",
      "    torch.autograd.backward(self, gradient, retain_graph, create_graph, inputs=inputs)\n",
      "  File \"/home/egor/PycharmProjects/deep_dr/venv/lib/python3.10/site-packages/torch/autograd/__init__.py\", line 173, in backward\n",
      "    Variable._execution_engine.run_backward(  # Calls into the C++ engine to run the backward pass\n",
      "RuntimeError: CUDA error: CUBLAS_STATUS_INTERNAL_ERROR when calling `cublasSgemm( handle, opa, opb, m, n, k, &alpha, a, lda, b, ldb, &beta, c, ldc)`\n",
      "/home/egor/PycharmProjects/deep_dr/venv/lib/python3.10/site-packages/torchvision/io/image.py:13: UserWarning: Failed to load image Python extension: libtorch_cuda_cu.so: cannot open shared object file: No such file or directory\n",
      "  warn(f\"Failed to load image Python extension: {e}\")\n",
      "/home/egor/PycharmProjects/deep_dr/venv/lib/python3.10/site-packages/torch/cuda/__init__.py:83: UserWarning: CUDA initialization: CUDA unknown error - this may be due to an incorrectly set up environment, e.g. changing env variable CUDA_VISIBLE_DEVICES after program start. Setting the available devices to be zero. (Triggered internally at  ../c10/cuda/CUDAFunctions.cpp:109.)\n",
      "  return torch._C._cuda_getDeviceCount() > 0\n"
     ]
    },
    {
     "name": "stdout",
     "output_type": "stream",
     "text": [
      "CUDA available:False\n"
     ]
    },
    {
     "name": "stderr",
     "output_type": "stream",
     "text": [
      "Traceback (most recent call last):\n",
      "  File \"/home/egor/PycharmProjects/deep_dr/experiment.py\", line 144, in <module>\n",
      "    app.run(main)\n",
      "  File \"/home/egor/PycharmProjects/deep_dr/venv/lib/python3.10/site-packages/absl/app.py\", line 308, in run\n",
      "    _run_main(main, args)\n",
      "  File \"/home/egor/PycharmProjects/deep_dr/venv/lib/python3.10/site-packages/absl/app.py\", line 254, in _run_main\n",
      "    sys.exit(main(argv))\n",
      "  File \"/home/egor/PycharmProjects/deep_dr/experiment.py\", line 31, in main\n",
      "    data = OrganoidDataset()\n",
      "  File \"/home/egor/PycharmProjects/deep_dr/datasets.py\", line 38, in __init__\n",
      "    self.train = X[train_idx].clone().to(device), y[train_idx].clone().to(device)\n",
      "  File \"/home/egor/PycharmProjects/deep_dr/venv/lib/python3.10/site-packages/torch/cuda/__init__.py\", line 217, in _lazy_init\n",
      "    torch._C._cuda_init()\n",
      "RuntimeError: CUDA unknown error - this may be due to an incorrectly set up environment, e.g. changing env variable CUDA_VISIBLE_DEVICES after program start. Setting the available devices to be zero.\n",
      "/home/egor/PycharmProjects/deep_dr/venv/lib/python3.10/site-packages/torchvision/io/image.py:13: UserWarning: Failed to load image Python extension: libtorch_cuda_cu.so: cannot open shared object file: No such file or directory\n",
      "  warn(f\"Failed to load image Python extension: {e}\")\n",
      "/home/egor/PycharmProjects/deep_dr/venv/lib/python3.10/site-packages/torch/cuda/__init__.py:83: UserWarning: CUDA initialization: CUDA unknown error - this may be due to an incorrectly set up environment, e.g. changing env variable CUDA_VISIBLE_DEVICES after program start. Setting the available devices to be zero. (Triggered internally at  ../c10/cuda/CUDAFunctions.cpp:109.)\n",
      "  return torch._C._cuda_getDeviceCount() > 0\n"
     ]
    },
    {
     "name": "stdout",
     "output_type": "stream",
     "text": [
      "CUDA available:False\n"
     ]
    },
    {
     "name": "stderr",
     "output_type": "stream",
     "text": [
      "Traceback (most recent call last):\n",
      "  File \"/home/egor/PycharmProjects/deep_dr/experiment.py\", line 144, in <module>\n",
      "    app.run(main)\n",
      "  File \"/home/egor/PycharmProjects/deep_dr/venv/lib/python3.10/site-packages/absl/app.py\", line 308, in run\n",
      "    _run_main(main, args)\n",
      "  File \"/home/egor/PycharmProjects/deep_dr/venv/lib/python3.10/site-packages/absl/app.py\", line 254, in _run_main\n",
      "    sys.exit(main(argv))\n",
      "  File \"/home/egor/PycharmProjects/deep_dr/experiment.py\", line 31, in main\n",
      "    data = OrganoidDataset()\n",
      "  File \"/home/egor/PycharmProjects/deep_dr/datasets.py\", line 38, in __init__\n",
      "    self.train = X[train_idx].clone().to(device), y[train_idx].clone().to(device)\n",
      "  File \"/home/egor/PycharmProjects/deep_dr/venv/lib/python3.10/site-packages/torch/cuda/__init__.py\", line 217, in _lazy_init\n",
      "    torch._C._cuda_init()\n",
      "RuntimeError: CUDA unknown error - this may be due to an incorrectly set up environment, e.g. changing env variable CUDA_VISIBLE_DEVICES after program start. Setting the available devices to be zero.\n",
      "/home/egor/PycharmProjects/deep_dr/venv/lib/python3.10/site-packages/torchvision/io/image.py:13: UserWarning: Failed to load image Python extension: libtorch_cuda_cu.so: cannot open shared object file: No such file or directory\n",
      "  warn(f\"Failed to load image Python extension: {e}\")\n",
      "/home/egor/PycharmProjects/deep_dr/venv/lib/python3.10/site-packages/torch/cuda/__init__.py:83: UserWarning: CUDA initialization: CUDA unknown error - this may be due to an incorrectly set up environment, e.g. changing env variable CUDA_VISIBLE_DEVICES after program start. Setting the available devices to be zero. (Triggered internally at  ../c10/cuda/CUDAFunctions.cpp:109.)\n",
      "  return torch._C._cuda_getDeviceCount() > 0\n"
     ]
    },
    {
     "name": "stdout",
     "output_type": "stream",
     "text": [
      "CUDA available:False\n"
     ]
    },
    {
     "name": "stderr",
     "output_type": "stream",
     "text": [
      "Traceback (most recent call last):\n",
      "  File \"/home/egor/PycharmProjects/deep_dr/experiment.py\", line 144, in <module>\n",
      "    app.run(main)\n",
      "  File \"/home/egor/PycharmProjects/deep_dr/venv/lib/python3.10/site-packages/absl/app.py\", line 308, in run\n",
      "    _run_main(main, args)\n",
      "  File \"/home/egor/PycharmProjects/deep_dr/venv/lib/python3.10/site-packages/absl/app.py\", line 254, in _run_main\n",
      "    sys.exit(main(argv))\n",
      "  File \"/home/egor/PycharmProjects/deep_dr/experiment.py\", line 31, in main\n",
      "    data = OrganoidDataset()\n",
      "  File \"/home/egor/PycharmProjects/deep_dr/datasets.py\", line 38, in __init__\n",
      "    self.train = X[train_idx].clone().to(device), y[train_idx].clone().to(device)\n",
      "  File \"/home/egor/PycharmProjects/deep_dr/venv/lib/python3.10/site-packages/torch/cuda/__init__.py\", line 217, in _lazy_init\n",
      "    torch._C._cuda_init()\n",
      "RuntimeError: CUDA unknown error - this may be due to an incorrectly set up environment, e.g. changing env variable CUDA_VISIBLE_DEVICES after program start. Setting the available devices to be zero.\n"
     ]
    }
   ],
   "source": [
    "import os\n",
    "dims = [\"(64,64)\",\"(64,64,64)\",\"(64,64,64,64)\",\"(64,64,64,64,64)\"]\n",
    "for dim in dims:\n",
    "    os.system(f'python3 /home/egor/PycharmProjects/deep_dr/experiment.py '\n",
    "              f'--config=configs/beta_vae.py '\n",
    "              f'--config.output_dir=logs/VanillaVAE/dims2 '\n",
    "              f'--config.hidden_dims=\"{dim}\" '\n",
    "              f'--config.learning_rate=0.07 ')"
   ],
   "metadata": {
    "collapsed": false
   }
  },
  {
   "cell_type": "code",
   "execution_count": 8,
   "outputs": [
    {
     "name": "stderr",
     "output_type": "stream",
     "text": [
      "Global seed set to 12345\n",
      "  0%|          | 0/1000 [00:00<?, ?it/s]"
     ]
    },
    {
     "name": "stdout",
     "output_type": "stream",
     "text": [
      "CUDA available:True\n"
     ]
    },
    {
     "name": "stderr",
     "output_type": "stream",
     "text": [
      "100%|██████████| 1000/1000 [26:55<00:00,  1.62s/it]\n"
     ]
    },
    {
     "name": "stdout",
     "output_type": "stream",
     "text": [
      "Memory allocated:203261440\n",
      "Max memory allocated:239602176\n",
      "Finished Training in 0:26:55.455607\n"
     ]
    },
    {
     "data": {
      "text/plain": "0"
     },
     "execution_count": 8,
     "metadata": {},
     "output_type": "execute_result"
    }
   ],
   "source": [
    "import os\n",
    "os.system(f'python3 /home/egor/PycharmProjects/deep_dr/experiment.py '\n",
    "          f'--config=configs/beta_vae.py '\n",
    "          f'--config.output_dir=logs/profiling_test '\n",
    "          f'--config.hidden_dims=\"(64,64,64,64,64)\" '\n",
    "          f'--config.learning_rate=0.03 '\n",
    "          f'--config.epochs=1000 '\n",
    "          f'--config.batch_size=4096')"
   ],
   "metadata": {
    "collapsed": false
   }
  },
  {
   "cell_type": "code",
   "execution_count": 1,
   "outputs": [],
   "source": [
    "import os\n",
    "for lr in [0.05,0.075,0.01,0.02,0.03]:\n",
    "    os.system(f'python3 /home/egor/PycharmProjects/deep_dr/experiment.py '\n",
    "          f'--config=configs/beta_vae.py '\n",
    "          f'--config.output_dir=logs/BetaVAE/grid1 '\n",
    "          f'--config.hidden_dims=\"(64,64,64,64,64)\" '\n",
    "          f'--config.learning_rate={lr} '\n",
    "          f'--config.epochs=1000 '\n",
    "          f'--config.batch_size=4096 '\n",
    "              f'&')"
   ],
   "metadata": {
    "collapsed": false
   }
  },
  {
   "cell_type": "code",
   "execution_count": null,
   "outputs": [],
   "source": [],
   "metadata": {
    "collapsed": false
   }
  }
 ],
 "metadata": {
  "kernelspec": {
   "display_name": "Python 3",
   "language": "python",
   "name": "python3"
  },
  "language_info": {
   "codemirror_mode": {
    "name": "ipython",
    "version": 2
   },
   "file_extension": ".py",
   "mimetype": "text/x-python",
   "name": "python",
   "nbconvert_exporter": "python",
   "pygments_lexer": "ipython2",
   "version": "2.7.6"
  }
 },
 "nbformat": 4,
 "nbformat_minor": 0
}
