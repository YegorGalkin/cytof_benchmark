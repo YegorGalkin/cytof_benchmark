{
 "cells": [
  {
   "cell_type": "code",
   "execution_count": 1,
   "outputs": [],
   "source": [
    "import os\n",
    "import sys\n",
    "\n",
    "import torch\n",
    "\n",
    "if \"..\" not in sys.path:\n",
    "    sys.path.insert(0, \"..\")"
   ],
   "metadata": {
    "collapsed": false
   }
  },
  {
   "cell_type": "code",
   "execution_count": 2,
   "outputs": [],
   "source": [
    "from datasets import OrganoidDataset\n",
    "import pandas as pd\n",
    "from os import path\n",
    "import numpy as np"
   ],
   "metadata": {
    "collapsed": false
   }
  },
  {
   "cell_type": "code",
   "execution_count": 3,
   "outputs": [],
   "source": [
    "data = OrganoidDataset(data_dir='../data/organoids')"
   ],
   "metadata": {
    "collapsed": false
   }
  },
  {
   "cell_type": "code",
   "execution_count": 4,
   "outputs": [],
   "source": [
    "X,y = data.train"
   ],
   "metadata": {
    "collapsed": false
   }
  },
  {
   "cell_type": "code",
   "execution_count": 6,
   "outputs": [
    {
     "data": {
      "text/plain": "(820733, 41)"
     },
     "execution_count": 6,
     "metadata": {},
     "output_type": "execute_result"
    }
   ],
   "source": [
    "X.shape"
   ],
   "metadata": {
    "collapsed": false
   }
  },
  {
   "cell_type": "code",
   "execution_count": 7,
   "outputs": [
    {
     "data": {
      "text/plain": "(820733, 2)"
     },
     "execution_count": 7,
     "metadata": {},
     "output_type": "execute_result"
    }
   ],
   "source": [
    "y.shape"
   ],
   "metadata": {
    "collapsed": false
   }
  },
  {
   "cell_type": "code",
   "execution_count": 8,
   "outputs": [
    {
     "data": {
      "text/plain": "               cell_type  day\nid                           \n156737        Enterocyte    2\n1151315             Tuft    7\n611947   Enteroendocrine    3\n756795            Goblet    6\n213350        Enterocyte    2",
      "text/html": "<div>\n<style scoped>\n    .dataframe tbody tr th:only-of-type {\n        vertical-align: middle;\n    }\n\n    .dataframe tbody tr th {\n        vertical-align: top;\n    }\n\n    .dataframe thead th {\n        text-align: right;\n    }\n</style>\n<table border=\"1\" class=\"dataframe\">\n  <thead>\n    <tr style=\"text-align: right;\">\n      <th></th>\n      <th>cell_type</th>\n      <th>day</th>\n    </tr>\n    <tr>\n      <th>id</th>\n      <th></th>\n      <th></th>\n    </tr>\n  </thead>\n  <tbody>\n    <tr>\n      <th>156737</th>\n      <td>Enterocyte</td>\n      <td>2</td>\n    </tr>\n    <tr>\n      <th>1151315</th>\n      <td>Tuft</td>\n      <td>7</td>\n    </tr>\n    <tr>\n      <th>611947</th>\n      <td>Enteroendocrine</td>\n      <td>3</td>\n    </tr>\n    <tr>\n      <th>756795</th>\n      <td>Goblet</td>\n      <td>6</td>\n    </tr>\n    <tr>\n      <th>213350</th>\n      <td>Enterocyte</td>\n      <td>2</td>\n    </tr>\n  </tbody>\n</table>\n</div>"
     },
     "execution_count": 8,
     "metadata": {},
     "output_type": "execute_result"
    }
   ],
   "source": [
    "y.head()"
   ],
   "metadata": {
    "collapsed": false
   }
  },
  {
   "cell_type": "code",
   "execution_count": 10,
   "outputs": [],
   "source": [
    "from datasets import OrganoidDatasetDeprecated\n",
    "\n",
    "data_dep = OrganoidDatasetDeprecated(data_dir='../data/organoids',device='cpu')"
   ],
   "metadata": {
    "collapsed": false
   }
  },
  {
   "cell_type": "code",
   "execution_count": 11,
   "outputs": [],
   "source": [
    "X_prev,y_prev = data_dep.train"
   ],
   "metadata": {
    "collapsed": false
   }
  },
  {
   "cell_type": "code",
   "execution_count": 17,
   "outputs": [
    {
     "data": {
      "text/plain": "True"
     },
     "execution_count": 17,
     "metadata": {},
     "output_type": "execute_result"
    }
   ],
   "source": [
    "np.equal(X_prev.numpy(),X).all()"
   ],
   "metadata": {
    "collapsed": false
   }
  },
  {
   "cell_type": "code",
   "execution_count": 19,
   "outputs": [],
   "source": [
    "data_caf = pd.read_pickle(path.join('../data/caf', 'Metadata_PDO_CAF_screening', 'Metadata_final_paper'))"
   ],
   "metadata": {
    "collapsed": false
   }
  },
  {
   "cell_type": "code",
   "execution_count": 20,
   "outputs": [],
   "source": [
    "rng = np.random.default_rng(seed=12345)\n",
    "indices = rng.permutation(data_caf.shape[0])"
   ],
   "metadata": {
    "collapsed": false
   }
  },
  {
   "cell_type": "code",
   "execution_count": 22,
   "outputs": [
    {
     "data": {
      "text/plain": "(24756030, 54)"
     },
     "execution_count": 22,
     "metadata": {},
     "output_type": "execute_result"
    }
   ],
   "source": [
    "data_caf.shape"
   ],
   "metadata": {
    "collapsed": false
   }
  },
  {
   "cell_type": "code",
   "execution_count": 23,
   "outputs": [
    {
     "data": {
      "text/plain": "       pHH3       RFP   mCHERRY  Vimentin       EpCAM       CK18      Pan_CK  \\\n0  1.444846  0.000000  0.000000  4.498622   66.200089  91.111916  161.084412   \n1  5.783943  0.056214  0.434517  0.000000  190.450790   0.000000   17.851675   \n2  1.165297  2.312362  0.357034  0.000000  266.436646   0.000000   42.965565   \n3  0.000000  0.000000  0.000000  0.000000   84.960304  30.397985   56.991665   \n4  0.498328  5.136724  0.000000  3.886348   48.076462   0.416286   30.709440   \n\n          GFP        IdU      pPDK1  ...      Date  Patient  Culture  \\\n0  406.746246   4.811596  55.422546  ...  20211119        5      PDO   \n1    0.000000   5.958662   4.794238  ...  20211119        5      PDO   \n2    0.000000   0.000000   3.052261  ...  20211119        5      PDO   \n3    0.000000   0.000000  15.021135  ...  20211119        5      PDO   \n4    1.689452  28.263380  18.386526  ...  20211119        5      PDO   \n\n   Treatment  Concentration  Replicate  Cell_type  pPKCa  Plate  Batch  \n0          O              2          B       PDOs    NaN      O      2  \n1          O              2          B       PDOs    NaN      O      2  \n2          O              2          B       PDOs    NaN      O      2  \n3          O              2          B       PDOs    NaN      O      2  \n4          O              2          B       PDOs    NaN      O      2  \n\n[5 rows x 54 columns]",
      "text/html": "<div>\n<style scoped>\n    .dataframe tbody tr th:only-of-type {\n        vertical-align: middle;\n    }\n\n    .dataframe tbody tr th {\n        vertical-align: top;\n    }\n\n    .dataframe thead th {\n        text-align: right;\n    }\n</style>\n<table border=\"1\" class=\"dataframe\">\n  <thead>\n    <tr style=\"text-align: right;\">\n      <th></th>\n      <th>pHH3</th>\n      <th>RFP</th>\n      <th>mCHERRY</th>\n      <th>Vimentin</th>\n      <th>EpCAM</th>\n      <th>CK18</th>\n      <th>Pan_CK</th>\n      <th>GFP</th>\n      <th>IdU</th>\n      <th>pPDK1</th>\n      <th>...</th>\n      <th>Date</th>\n      <th>Patient</th>\n      <th>Culture</th>\n      <th>Treatment</th>\n      <th>Concentration</th>\n      <th>Replicate</th>\n      <th>Cell_type</th>\n      <th>pPKCa</th>\n      <th>Plate</th>\n      <th>Batch</th>\n    </tr>\n  </thead>\n  <tbody>\n    <tr>\n      <th>0</th>\n      <td>1.444846</td>\n      <td>0.000000</td>\n      <td>0.000000</td>\n      <td>4.498622</td>\n      <td>66.200089</td>\n      <td>91.111916</td>\n      <td>161.084412</td>\n      <td>406.746246</td>\n      <td>4.811596</td>\n      <td>55.422546</td>\n      <td>...</td>\n      <td>20211119</td>\n      <td>5</td>\n      <td>PDO</td>\n      <td>O</td>\n      <td>2</td>\n      <td>B</td>\n      <td>PDOs</td>\n      <td>NaN</td>\n      <td>O</td>\n      <td>2</td>\n    </tr>\n    <tr>\n      <th>1</th>\n      <td>5.783943</td>\n      <td>0.056214</td>\n      <td>0.434517</td>\n      <td>0.000000</td>\n      <td>190.450790</td>\n      <td>0.000000</td>\n      <td>17.851675</td>\n      <td>0.000000</td>\n      <td>5.958662</td>\n      <td>4.794238</td>\n      <td>...</td>\n      <td>20211119</td>\n      <td>5</td>\n      <td>PDO</td>\n      <td>O</td>\n      <td>2</td>\n      <td>B</td>\n      <td>PDOs</td>\n      <td>NaN</td>\n      <td>O</td>\n      <td>2</td>\n    </tr>\n    <tr>\n      <th>2</th>\n      <td>1.165297</td>\n      <td>2.312362</td>\n      <td>0.357034</td>\n      <td>0.000000</td>\n      <td>266.436646</td>\n      <td>0.000000</td>\n      <td>42.965565</td>\n      <td>0.000000</td>\n      <td>0.000000</td>\n      <td>3.052261</td>\n      <td>...</td>\n      <td>20211119</td>\n      <td>5</td>\n      <td>PDO</td>\n      <td>O</td>\n      <td>2</td>\n      <td>B</td>\n      <td>PDOs</td>\n      <td>NaN</td>\n      <td>O</td>\n      <td>2</td>\n    </tr>\n    <tr>\n      <th>3</th>\n      <td>0.000000</td>\n      <td>0.000000</td>\n      <td>0.000000</td>\n      <td>0.000000</td>\n      <td>84.960304</td>\n      <td>30.397985</td>\n      <td>56.991665</td>\n      <td>0.000000</td>\n      <td>0.000000</td>\n      <td>15.021135</td>\n      <td>...</td>\n      <td>20211119</td>\n      <td>5</td>\n      <td>PDO</td>\n      <td>O</td>\n      <td>2</td>\n      <td>B</td>\n      <td>PDOs</td>\n      <td>NaN</td>\n      <td>O</td>\n      <td>2</td>\n    </tr>\n    <tr>\n      <th>4</th>\n      <td>0.498328</td>\n      <td>5.136724</td>\n      <td>0.000000</td>\n      <td>3.886348</td>\n      <td>48.076462</td>\n      <td>0.416286</td>\n      <td>30.709440</td>\n      <td>1.689452</td>\n      <td>28.263380</td>\n      <td>18.386526</td>\n      <td>...</td>\n      <td>20211119</td>\n      <td>5</td>\n      <td>PDO</td>\n      <td>O</td>\n      <td>2</td>\n      <td>B</td>\n      <td>PDOs</td>\n      <td>NaN</td>\n      <td>O</td>\n      <td>2</td>\n    </tr>\n  </tbody>\n</table>\n<p>5 rows × 54 columns</p>\n</div>"
     },
     "execution_count": 23,
     "metadata": {},
     "output_type": "execute_result"
    }
   ],
   "source": [
    "data_caf.head()"
   ],
   "metadata": {
    "collapsed": false
   }
  },
  {
   "cell_type": "code",
   "execution_count": 28,
   "outputs": [
    {
     "data": {
      "text/plain": "Index(['pHH3', 'RFP', 'mCHERRY', 'Vimentin', 'EpCAM', 'CK18', 'Pan_CK', 'GFP',\n       'IdU', 'pPDK1', 'cCaspase_3', 'Geminin', 'pMEK1_2', 'pNDRG',\n       'pMKK4_SEK1', 'pBTK', 'pSRC', 'p4EBP1', 'pRB', 'pAKT308', 'pCREB',\n       'pSMAD1_5_9', 'pAKT473', 'pNF_kB', 'pMKK3_MKK6', 'pP38', 'pMAPKAPK',\n       'pAMPKa', 'pBAD', 'pHistone_H2A', 'p90RSK', 'pP120_catenin',\n       'Beta_catenin_active', 'pGSK', 'pERK1_2', 'pSMAD2_3', 'PLK', 'CHGA',\n       'pDNAPK', 'pS6', 'CD90', 'cPARP', 'pCHK1', 'Cyclin_B1'],\n      dtype='object')"
     },
     "execution_count": 28,
     "metadata": {},
     "output_type": "execute_result"
    }
   ],
   "source": [
    "data_caf.columns[:44]"
   ],
   "metadata": {
    "collapsed": false
   }
  },
  {
   "cell_type": "code",
   "execution_count": 29,
   "outputs": [
    {
     "data": {
      "text/plain": "Index(['Date', 'Patient', 'Culture', 'Treatment', 'Concentration', 'Replicate',\n       'Cell_type', 'pPKCa', 'Plate', 'Batch'],\n      dtype='object')"
     },
     "execution_count": 29,
     "metadata": {},
     "output_type": "execute_result"
    }
   ],
   "source": [
    "data_caf.columns[44:]"
   ],
   "metadata": {
    "collapsed": false
   }
  },
  {
   "cell_type": "code",
   "execution_count": 31,
   "outputs": [],
   "source": [
    "rng = np.random.default_rng(seed=12345)\n",
    "indices = rng.permutation(data_caf.shape[0])\n",
    "\n",
    "train_n, val_n = int(data_caf.shape[0] * 0.7), int(data_caf.shape[0] * 0.2)\n",
    "train_idx, val_idx, test_idx = indices[:train_n], indices[train_n:train_n + val_n], indices[train_n + val_n:]"
   ],
   "metadata": {
    "collapsed": false
   }
  },
  {
   "cell_type": "code",
   "execution_count": 34,
   "outputs": [
    {
     "data": {
      "text/plain": "array([[1.44484627e+00, 0.00000000e+00, 0.00000000e+00, ...,\n        1.88296829e+02, 5.28126373e+01, 3.61664200e+01],\n       [5.78394270e+00, 5.62137887e-02, 4.34517384e-01, ...,\n        4.31224785e+01, 1.56797457e+01, 7.03363113e+01],\n       [1.16529655e+00, 2.31236172e+00, 3.57033521e-01, ...,\n        2.92459686e+02, 3.91039886e+01, 6.69027939e+01],\n       ...,\n       [0.00000000e+00, 2.51099691e-02, 5.98175240e+00, ...,\n        5.24205065e+00, 3.31141586e+01, 1.12272156e+02],\n       [1.07582264e+01, 0.00000000e+00, 7.71155024e+00, ...,\n        2.03852253e+01, 4.51682167e+01, 9.40149918e+01],\n       [0.00000000e+00, 0.00000000e+00, 0.00000000e+00, ...,\n        1.98212814e+00, 9.82693672e+00, 3.13391228e+01]])"
     },
     "execution_count": 34,
     "metadata": {},
     "output_type": "execute_result"
    }
   ],
   "source": [
    "data_caf.iloc[:,:44].to_numpy()"
   ],
   "metadata": {
    "collapsed": false
   }
  },
  {
   "cell_type": "code",
   "execution_count": 2,
   "outputs": [],
   "source": [
    "from datasets import CafDataset"
   ],
   "metadata": {
    "collapsed": false
   }
  },
  {
   "cell_type": "code",
   "execution_count": 3,
   "outputs": [],
   "source": [
    "data = CafDataset(data_dir='../data/caf')"
   ],
   "metadata": {
    "collapsed": false
   }
  },
  {
   "cell_type": "code",
   "execution_count": 4,
   "outputs": [],
   "source": [
    "X,y = data.train"
   ],
   "metadata": {
    "collapsed": false
   }
  },
  {
   "cell_type": "code",
   "execution_count": 11,
   "outputs": [
    {
     "data": {
      "text/plain": "             index      Date Patient Culture Treatment Concentration  \\\n0         23799121  20210610     216     PDO       CSF             4   \n1         12586350  20210330      27     PDO         V             1   \n2         13553784  20210602      99    PDOF      DMSO             0   \n3         13251389  20210427     141       F         V             1   \n4         16469786  20210413      21       F         F             4   \n...            ...       ...     ...     ...       ...           ...   \n17329216   9019234  20210518       5       F         L             4   \n17329217   6471919  20210602      99     PDO        VS             4   \n17329218   3870897  20210330      27       F         S             3   \n17329219  11185988  20210317      23    PDOF         L             1   \n17329220  21413623  20210607      11       F        SF             3   \n\n         Replicate Cell_type      pPKCa Plate  Batch  \n0                C      PDOs   0.000000   CSF      1  \n1                B      PDOs        NaN   SLV      1  \n2                B      Fibs  34.628689   SLV      1  \n3                A      Fibs        NaN   SLV      1  \n4                B      Fibs        NaN   CSF      1  \n...            ...       ...        ...   ...    ...  \n17329216         B      Fibs   8.634648   SLV      1  \n17329217         B      PDOs   6.938818   SLV      1  \n17329218         A      Fibs        NaN   SLV      1  \n17329219         A      Fibs        NaN   SLV      1  \n17329220         C      Fibs  22.096056   CSF      1  \n\n[17329221 rows x 11 columns]",
      "text/html": "<div>\n<style scoped>\n    .dataframe tbody tr th:only-of-type {\n        vertical-align: middle;\n    }\n\n    .dataframe tbody tr th {\n        vertical-align: top;\n    }\n\n    .dataframe thead th {\n        text-align: right;\n    }\n</style>\n<table border=\"1\" class=\"dataframe\">\n  <thead>\n    <tr style=\"text-align: right;\">\n      <th></th>\n      <th>index</th>\n      <th>Date</th>\n      <th>Patient</th>\n      <th>Culture</th>\n      <th>Treatment</th>\n      <th>Concentration</th>\n      <th>Replicate</th>\n      <th>Cell_type</th>\n      <th>pPKCa</th>\n      <th>Plate</th>\n      <th>Batch</th>\n    </tr>\n  </thead>\n  <tbody>\n    <tr>\n      <th>0</th>\n      <td>23799121</td>\n      <td>20210610</td>\n      <td>216</td>\n      <td>PDO</td>\n      <td>CSF</td>\n      <td>4</td>\n      <td>C</td>\n      <td>PDOs</td>\n      <td>0.000000</td>\n      <td>CSF</td>\n      <td>1</td>\n    </tr>\n    <tr>\n      <th>1</th>\n      <td>12586350</td>\n      <td>20210330</td>\n      <td>27</td>\n      <td>PDO</td>\n      <td>V</td>\n      <td>1</td>\n      <td>B</td>\n      <td>PDOs</td>\n      <td>NaN</td>\n      <td>SLV</td>\n      <td>1</td>\n    </tr>\n    <tr>\n      <th>2</th>\n      <td>13553784</td>\n      <td>20210602</td>\n      <td>99</td>\n      <td>PDOF</td>\n      <td>DMSO</td>\n      <td>0</td>\n      <td>B</td>\n      <td>Fibs</td>\n      <td>34.628689</td>\n      <td>SLV</td>\n      <td>1</td>\n    </tr>\n    <tr>\n      <th>3</th>\n      <td>13251389</td>\n      <td>20210427</td>\n      <td>141</td>\n      <td>F</td>\n      <td>V</td>\n      <td>1</td>\n      <td>A</td>\n      <td>Fibs</td>\n      <td>NaN</td>\n      <td>SLV</td>\n      <td>1</td>\n    </tr>\n    <tr>\n      <th>4</th>\n      <td>16469786</td>\n      <td>20210413</td>\n      <td>21</td>\n      <td>F</td>\n      <td>F</td>\n      <td>4</td>\n      <td>B</td>\n      <td>Fibs</td>\n      <td>NaN</td>\n      <td>CSF</td>\n      <td>1</td>\n    </tr>\n    <tr>\n      <th>...</th>\n      <td>...</td>\n      <td>...</td>\n      <td>...</td>\n      <td>...</td>\n      <td>...</td>\n      <td>...</td>\n      <td>...</td>\n      <td>...</td>\n      <td>...</td>\n      <td>...</td>\n      <td>...</td>\n    </tr>\n    <tr>\n      <th>17329216</th>\n      <td>9019234</td>\n      <td>20210518</td>\n      <td>5</td>\n      <td>F</td>\n      <td>L</td>\n      <td>4</td>\n      <td>B</td>\n      <td>Fibs</td>\n      <td>8.634648</td>\n      <td>SLV</td>\n      <td>1</td>\n    </tr>\n    <tr>\n      <th>17329217</th>\n      <td>6471919</td>\n      <td>20210602</td>\n      <td>99</td>\n      <td>PDO</td>\n      <td>VS</td>\n      <td>4</td>\n      <td>B</td>\n      <td>PDOs</td>\n      <td>6.938818</td>\n      <td>SLV</td>\n      <td>1</td>\n    </tr>\n    <tr>\n      <th>17329218</th>\n      <td>3870897</td>\n      <td>20210330</td>\n      <td>27</td>\n      <td>F</td>\n      <td>S</td>\n      <td>3</td>\n      <td>A</td>\n      <td>Fibs</td>\n      <td>NaN</td>\n      <td>SLV</td>\n      <td>1</td>\n    </tr>\n    <tr>\n      <th>17329219</th>\n      <td>11185988</td>\n      <td>20210317</td>\n      <td>23</td>\n      <td>PDOF</td>\n      <td>L</td>\n      <td>1</td>\n      <td>A</td>\n      <td>Fibs</td>\n      <td>NaN</td>\n      <td>SLV</td>\n      <td>1</td>\n    </tr>\n    <tr>\n      <th>17329220</th>\n      <td>21413623</td>\n      <td>20210607</td>\n      <td>11</td>\n      <td>F</td>\n      <td>SF</td>\n      <td>3</td>\n      <td>C</td>\n      <td>Fibs</td>\n      <td>22.096056</td>\n      <td>CSF</td>\n      <td>1</td>\n    </tr>\n  </tbody>\n</table>\n<p>17329221 rows × 11 columns</p>\n</div>"
     },
     "execution_count": 11,
     "metadata": {},
     "output_type": "execute_result"
    }
   ],
   "source": [
    "y.reset_index()"
   ],
   "metadata": {
    "collapsed": false
   }
  },
  {
   "cell_type": "code",
   "execution_count": 13,
   "outputs": [
    {
     "data": {
      "text/plain": "array([[0.00000000e+00, 0.00000000e+00, 3.61259460e-01, ...,\n        8.22187119e+01, 6.55629395e+02, 2.39033310e+02],\n       [0.00000000e+00, 1.18359785e+01, 1.42496994e+02, ...,\n        0.00000000e+00, 3.22506104e+01, 1.14379997e+02],\n       [1.61246071e+01, 2.82575321e+00, 0.00000000e+00, ...,\n        4.18170471e+01, 7.88884033e+02, 1.81745949e+01],\n       ...,\n       [3.40721059e+00, 1.01839137e+00, 0.00000000e+00, ...,\n        1.91872444e+01, 1.44982269e+02, 3.82487297e+01],\n       [0.00000000e+00, 0.00000000e+00, 5.87199628e-01, ...,\n        2.04344730e+01, 2.98615761e+01, 3.99017143e+01],\n       [0.00000000e+00, 3.49280596e+00, 9.65314102e+00, ...,\n        0.00000000e+00, 4.34025421e+01, 0.00000000e+00]])"
     },
     "execution_count": 13,
     "metadata": {},
     "output_type": "execute_result"
    }
   ],
   "source": [
    "X"
   ],
   "metadata": {
    "collapsed": false
   }
  },
  {
   "cell_type": "code",
   "execution_count": 17,
   "outputs": [],
   "source": [
    "data_dir = \"../data/breast_cancer_challenge/\""
   ],
   "metadata": {
    "collapsed": false
   }
  },
  {
   "cell_type": "code",
   "execution_count": 27,
   "outputs": [],
   "source": [
    "import glob\n",
    "\n",
    "filenames = glob.glob(data_dir+\"*.csv\")"
   ],
   "metadata": {
    "collapsed": false
   }
  },
  {
   "cell_type": "code",
   "execution_count": 24,
   "outputs": [],
   "source": [
    "dfs = [pd.read_csv(filename) for filename in filenames]"
   ],
   "metadata": {
    "collapsed": false
   }
  },
  {
   "cell_type": "code",
   "execution_count": 25,
   "outputs": [
    {
     "data": {
      "text/plain": "       treatment cell_line  time  cellID  fileID  b.CATENIN  cleavedCas  \\\n0            EGF     BT549   0.0       1    3477   1.606709    2.497635   \n1            EGF     BT549   0.0       2    3477   1.514057    2.586081   \n2            EGF     BT549   0.0       3    3477   0.386000    3.572410   \n3            EGF     BT549   0.0       4    3477   1.482330    3.614918   \n4            EGF     BT549   0.0       5    3477   1.458379    2.639350   \n...          ...       ...   ...     ...     ...        ...         ...   \n303654      iPKC     BT549  60.0    2251    3535   0.651636    3.026354   \n303655      iPKC     BT549  60.0    2252    3535   0.624960    4.060094   \n303656      iPKC     BT549  60.0    2253    3535   0.346863    1.987712   \n303657      iPKC     BT549  60.0    2254    3535   0.325139    1.572446   \n303658      iPKC     BT549  60.0    2255    3535   0.723166    1.989624   \n\n        CyclinB     GAPDH       IdU  ...   p.PDPK1  p.PLCg2     p.RB     p.S6  \\\n0       3.80664  2.532803   9.66314  ...  1.818946      NaN  2.84637  8.28681   \n1       5.93075  1.846320  13.01940  ...  0.572443      NaN  3.74439  8.28212   \n2       6.96979  3.117471   7.10625  ...  0.516309      NaN  3.11308  5.20016   \n3       3.98046  2.212820   5.52471  ...  0.543217      NaN  4.59136  4.43111   \n4       7.80703  4.087035   6.86747  ...  0.516309      NaN  6.17801  8.51356   \n...         ...       ...       ...  ...       ...      ...      ...      ...   \n303654  4.00420  0.759907  11.16097  ...  0.944456      NaN  3.17220  6.15738   \n303655  6.13596  3.189131  11.60115  ...  1.605182      NaN  4.17209  8.72054   \n303656  2.64232  1.584982   4.77368  ...  1.343414      NaN  2.35439  5.00121   \n303657  2.08338  1.276758   6.09144  ...  0.516309      NaN  2.20794  5.87649   \n303658  6.49736  0.565534   5.92258  ...  0.516309      NaN  3.88352  6.89788   \n\n           p.S6K  p.SMAD23     p.SRC   p.STAT1   p.STAT3   p.STAT5  \n0       2.298567  3.128208  2.210724  3.478755  2.769994  2.154990  \n1       1.582917  3.252946  1.107239  3.331805  4.180568  1.945807  \n2       2.444143  4.014149  2.853183  3.666968  3.791345  3.103875  \n3       1.557999  2.506928  1.846837  3.026639  3.489565  2.590569  \n4       3.000138  3.541025  3.030370  4.869474  3.827781  3.361050  \n...          ...       ...       ...       ...       ...       ...  \n303654  1.356142  2.605012  2.517724  4.156714  2.587026  3.147370  \n303655  3.116203  3.675474  2.611052  3.984568  4.024100  3.053903  \n303656  0.633670  0.952564  2.082346  2.630983  0.928161  2.463751  \n303657  0.790988  2.099592  1.929522  3.443698  1.762933  1.969557  \n303658  1.278064  2.409719  1.694329  3.375054  1.589591  3.034540  \n\n[303659 rows x 42 columns]",
      "text/html": "<div>\n<style scoped>\n    .dataframe tbody tr th:only-of-type {\n        vertical-align: middle;\n    }\n\n    .dataframe tbody tr th {\n        vertical-align: top;\n    }\n\n    .dataframe thead th {\n        text-align: right;\n    }\n</style>\n<table border=\"1\" class=\"dataframe\">\n  <thead>\n    <tr style=\"text-align: right;\">\n      <th></th>\n      <th>treatment</th>\n      <th>cell_line</th>\n      <th>time</th>\n      <th>cellID</th>\n      <th>fileID</th>\n      <th>b.CATENIN</th>\n      <th>cleavedCas</th>\n      <th>CyclinB</th>\n      <th>GAPDH</th>\n      <th>IdU</th>\n      <th>...</th>\n      <th>p.PDPK1</th>\n      <th>p.PLCg2</th>\n      <th>p.RB</th>\n      <th>p.S6</th>\n      <th>p.S6K</th>\n      <th>p.SMAD23</th>\n      <th>p.SRC</th>\n      <th>p.STAT1</th>\n      <th>p.STAT3</th>\n      <th>p.STAT5</th>\n    </tr>\n  </thead>\n  <tbody>\n    <tr>\n      <th>0</th>\n      <td>EGF</td>\n      <td>BT549</td>\n      <td>0.0</td>\n      <td>1</td>\n      <td>3477</td>\n      <td>1.606709</td>\n      <td>2.497635</td>\n      <td>3.80664</td>\n      <td>2.532803</td>\n      <td>9.66314</td>\n      <td>...</td>\n      <td>1.818946</td>\n      <td>NaN</td>\n      <td>2.84637</td>\n      <td>8.28681</td>\n      <td>2.298567</td>\n      <td>3.128208</td>\n      <td>2.210724</td>\n      <td>3.478755</td>\n      <td>2.769994</td>\n      <td>2.154990</td>\n    </tr>\n    <tr>\n      <th>1</th>\n      <td>EGF</td>\n      <td>BT549</td>\n      <td>0.0</td>\n      <td>2</td>\n      <td>3477</td>\n      <td>1.514057</td>\n      <td>2.586081</td>\n      <td>5.93075</td>\n      <td>1.846320</td>\n      <td>13.01940</td>\n      <td>...</td>\n      <td>0.572443</td>\n      <td>NaN</td>\n      <td>3.74439</td>\n      <td>8.28212</td>\n      <td>1.582917</td>\n      <td>3.252946</td>\n      <td>1.107239</td>\n      <td>3.331805</td>\n      <td>4.180568</td>\n      <td>1.945807</td>\n    </tr>\n    <tr>\n      <th>2</th>\n      <td>EGF</td>\n      <td>BT549</td>\n      <td>0.0</td>\n      <td>3</td>\n      <td>3477</td>\n      <td>0.386000</td>\n      <td>3.572410</td>\n      <td>6.96979</td>\n      <td>3.117471</td>\n      <td>7.10625</td>\n      <td>...</td>\n      <td>0.516309</td>\n      <td>NaN</td>\n      <td>3.11308</td>\n      <td>5.20016</td>\n      <td>2.444143</td>\n      <td>4.014149</td>\n      <td>2.853183</td>\n      <td>3.666968</td>\n      <td>3.791345</td>\n      <td>3.103875</td>\n    </tr>\n    <tr>\n      <th>3</th>\n      <td>EGF</td>\n      <td>BT549</td>\n      <td>0.0</td>\n      <td>4</td>\n      <td>3477</td>\n      <td>1.482330</td>\n      <td>3.614918</td>\n      <td>3.98046</td>\n      <td>2.212820</td>\n      <td>5.52471</td>\n      <td>...</td>\n      <td>0.543217</td>\n      <td>NaN</td>\n      <td>4.59136</td>\n      <td>4.43111</td>\n      <td>1.557999</td>\n      <td>2.506928</td>\n      <td>1.846837</td>\n      <td>3.026639</td>\n      <td>3.489565</td>\n      <td>2.590569</td>\n    </tr>\n    <tr>\n      <th>4</th>\n      <td>EGF</td>\n      <td>BT549</td>\n      <td>0.0</td>\n      <td>5</td>\n      <td>3477</td>\n      <td>1.458379</td>\n      <td>2.639350</td>\n      <td>7.80703</td>\n      <td>4.087035</td>\n      <td>6.86747</td>\n      <td>...</td>\n      <td>0.516309</td>\n      <td>NaN</td>\n      <td>6.17801</td>\n      <td>8.51356</td>\n      <td>3.000138</td>\n      <td>3.541025</td>\n      <td>3.030370</td>\n      <td>4.869474</td>\n      <td>3.827781</td>\n      <td>3.361050</td>\n    </tr>\n    <tr>\n      <th>...</th>\n      <td>...</td>\n      <td>...</td>\n      <td>...</td>\n      <td>...</td>\n      <td>...</td>\n      <td>...</td>\n      <td>...</td>\n      <td>...</td>\n      <td>...</td>\n      <td>...</td>\n      <td>...</td>\n      <td>...</td>\n      <td>...</td>\n      <td>...</td>\n      <td>...</td>\n      <td>...</td>\n      <td>...</td>\n      <td>...</td>\n      <td>...</td>\n      <td>...</td>\n      <td>...</td>\n    </tr>\n    <tr>\n      <th>303654</th>\n      <td>iPKC</td>\n      <td>BT549</td>\n      <td>60.0</td>\n      <td>2251</td>\n      <td>3535</td>\n      <td>0.651636</td>\n      <td>3.026354</td>\n      <td>4.00420</td>\n      <td>0.759907</td>\n      <td>11.16097</td>\n      <td>...</td>\n      <td>0.944456</td>\n      <td>NaN</td>\n      <td>3.17220</td>\n      <td>6.15738</td>\n      <td>1.356142</td>\n      <td>2.605012</td>\n      <td>2.517724</td>\n      <td>4.156714</td>\n      <td>2.587026</td>\n      <td>3.147370</td>\n    </tr>\n    <tr>\n      <th>303655</th>\n      <td>iPKC</td>\n      <td>BT549</td>\n      <td>60.0</td>\n      <td>2252</td>\n      <td>3535</td>\n      <td>0.624960</td>\n      <td>4.060094</td>\n      <td>6.13596</td>\n      <td>3.189131</td>\n      <td>11.60115</td>\n      <td>...</td>\n      <td>1.605182</td>\n      <td>NaN</td>\n      <td>4.17209</td>\n      <td>8.72054</td>\n      <td>3.116203</td>\n      <td>3.675474</td>\n      <td>2.611052</td>\n      <td>3.984568</td>\n      <td>4.024100</td>\n      <td>3.053903</td>\n    </tr>\n    <tr>\n      <th>303656</th>\n      <td>iPKC</td>\n      <td>BT549</td>\n      <td>60.0</td>\n      <td>2253</td>\n      <td>3535</td>\n      <td>0.346863</td>\n      <td>1.987712</td>\n      <td>2.64232</td>\n      <td>1.584982</td>\n      <td>4.77368</td>\n      <td>...</td>\n      <td>1.343414</td>\n      <td>NaN</td>\n      <td>2.35439</td>\n      <td>5.00121</td>\n      <td>0.633670</td>\n      <td>0.952564</td>\n      <td>2.082346</td>\n      <td>2.630983</td>\n      <td>0.928161</td>\n      <td>2.463751</td>\n    </tr>\n    <tr>\n      <th>303657</th>\n      <td>iPKC</td>\n      <td>BT549</td>\n      <td>60.0</td>\n      <td>2254</td>\n      <td>3535</td>\n      <td>0.325139</td>\n      <td>1.572446</td>\n      <td>2.08338</td>\n      <td>1.276758</td>\n      <td>6.09144</td>\n      <td>...</td>\n      <td>0.516309</td>\n      <td>NaN</td>\n      <td>2.20794</td>\n      <td>5.87649</td>\n      <td>0.790988</td>\n      <td>2.099592</td>\n      <td>1.929522</td>\n      <td>3.443698</td>\n      <td>1.762933</td>\n      <td>1.969557</td>\n    </tr>\n    <tr>\n      <th>303658</th>\n      <td>iPKC</td>\n      <td>BT549</td>\n      <td>60.0</td>\n      <td>2255</td>\n      <td>3535</td>\n      <td>0.723166</td>\n      <td>1.989624</td>\n      <td>6.49736</td>\n      <td>0.565534</td>\n      <td>5.92258</td>\n      <td>...</td>\n      <td>0.516309</td>\n      <td>NaN</td>\n      <td>3.88352</td>\n      <td>6.89788</td>\n      <td>1.278064</td>\n      <td>2.409719</td>\n      <td>1.694329</td>\n      <td>3.375054</td>\n      <td>1.589591</td>\n      <td>3.034540</td>\n    </tr>\n  </tbody>\n</table>\n<p>303659 rows × 42 columns</p>\n</div>"
     },
     "execution_count": 25,
     "metadata": {},
     "output_type": "execute_result"
    }
   ],
   "source": [
    "dfs[0]"
   ],
   "metadata": {
    "collapsed": false
   }
  },
  {
   "cell_type": "code",
   "execution_count": 29,
   "outputs": [],
   "source": [
    "data = pd.concat(dfs)"
   ],
   "metadata": {
    "collapsed": false
   }
  },
  {
   "cell_type": "code",
   "execution_count": 33,
   "outputs": [
    {
     "data": {
      "text/plain": "       treatment cell_line  time  cellID  fileID  b.CATENIN  cleavedCas  \\\n0            EGF     BT549   0.0       1    3477   1.606709    2.497635   \n1            EGF     BT549   0.0       2    3477   1.514057    2.586081   \n2            EGF     BT549   0.0       3    3477   0.386000    3.572410   \n3            EGF     BT549   0.0       4    3477   1.482330    3.614918   \n4            EGF     BT549   0.0       5    3477   1.458379    2.639350   \n...          ...       ...   ...     ...     ...        ...         ...   \n439183      iPKC  MDAMB453  60.0    9931    3057   0.796624    0.985459   \n439184      iPKC  MDAMB453  60.0    9932    3057   0.796624    0.760968   \n439185      iPKC  MDAMB453  60.0    9933    3057   1.792894    3.005336   \n439186      iPKC  MDAMB453  60.0    9934    3057   0.796624    2.043958   \n439187      iPKC  MDAMB453  60.0    9935    3057   0.796624    1.604966   \n\n         CyclinB     GAPDH       IdU  ...   p.PDPK1   p.PLCg2     p.RB  \\\n0       3.806640  2.532803   9.66314  ...  1.818946       NaN  2.84637   \n1       5.930750  1.846320  13.01940  ...  0.572443       NaN  3.74439   \n2       6.969790  3.117471   7.10625  ...  0.516309       NaN  3.11308   \n3       3.980460  2.212820   5.52471  ...  0.543217       NaN  4.59136   \n4       7.807030  4.087035   6.86747  ...  0.516309       NaN  6.17801   \n...          ...       ...       ...  ...       ...       ...      ...   \n439183  2.386117  2.800958   6.43220  ...  1.721783  1.649587  1.65488   \n439184  0.733187  0.654867   4.42999  ...  0.136632  0.814841  2.94198   \n439185  0.886315  3.143383   5.88008  ...  1.740662  1.192765  4.45737   \n439186  1.749193  2.004873   4.36651  ...  1.918299  0.950457  3.51759   \n439187  2.689533  3.112336   4.36651  ...  2.384222  0.358041  1.65488   \n\n           p.S6     p.S6K  p.SMAD23     p.SRC   p.STAT1   p.STAT3   p.STAT5  \n0       8.28681  2.298567  3.128208  2.210724  3.478755  2.769994  2.154990  \n1       8.28212  1.582917  3.252946  1.107239  3.331805  4.180568  1.945807  \n2       5.20016  2.444143  4.014149  2.853183  3.666968  3.791345  3.103875  \n3       4.43111  1.557999  2.506928  1.846837  3.026639  3.489565  2.590569  \n4       8.51356  3.000138  3.541025  3.030370  4.869474  3.827781  3.361050  \n...         ...       ...       ...       ...       ...       ...       ...  \n439183  5.78805  2.060610  1.116810  0.900235  1.798180  0.323054  2.071620  \n439184  2.33690  1.168810 -0.015309  1.684120  1.271067  0.323054 -0.170062  \n439185  3.59849  1.304170  1.982740  1.853280  3.161774  1.430336  0.866602  \n439186  4.27009  1.690850  2.151830  1.532070  3.373595  0.437448  1.036730  \n439187  4.57038  2.573030  2.235580  2.270560  4.901324  0.323054  2.231986  \n\n[17126329 rows x 42 columns]",
      "text/html": "<div>\n<style scoped>\n    .dataframe tbody tr th:only-of-type {\n        vertical-align: middle;\n    }\n\n    .dataframe tbody tr th {\n        vertical-align: top;\n    }\n\n    .dataframe thead th {\n        text-align: right;\n    }\n</style>\n<table border=\"1\" class=\"dataframe\">\n  <thead>\n    <tr style=\"text-align: right;\">\n      <th></th>\n      <th>treatment</th>\n      <th>cell_line</th>\n      <th>time</th>\n      <th>cellID</th>\n      <th>fileID</th>\n      <th>b.CATENIN</th>\n      <th>cleavedCas</th>\n      <th>CyclinB</th>\n      <th>GAPDH</th>\n      <th>IdU</th>\n      <th>...</th>\n      <th>p.PDPK1</th>\n      <th>p.PLCg2</th>\n      <th>p.RB</th>\n      <th>p.S6</th>\n      <th>p.S6K</th>\n      <th>p.SMAD23</th>\n      <th>p.SRC</th>\n      <th>p.STAT1</th>\n      <th>p.STAT3</th>\n      <th>p.STAT5</th>\n    </tr>\n  </thead>\n  <tbody>\n    <tr>\n      <th>0</th>\n      <td>EGF</td>\n      <td>BT549</td>\n      <td>0.0</td>\n      <td>1</td>\n      <td>3477</td>\n      <td>1.606709</td>\n      <td>2.497635</td>\n      <td>3.806640</td>\n      <td>2.532803</td>\n      <td>9.66314</td>\n      <td>...</td>\n      <td>1.818946</td>\n      <td>NaN</td>\n      <td>2.84637</td>\n      <td>8.28681</td>\n      <td>2.298567</td>\n      <td>3.128208</td>\n      <td>2.210724</td>\n      <td>3.478755</td>\n      <td>2.769994</td>\n      <td>2.154990</td>\n    </tr>\n    <tr>\n      <th>1</th>\n      <td>EGF</td>\n      <td>BT549</td>\n      <td>0.0</td>\n      <td>2</td>\n      <td>3477</td>\n      <td>1.514057</td>\n      <td>2.586081</td>\n      <td>5.930750</td>\n      <td>1.846320</td>\n      <td>13.01940</td>\n      <td>...</td>\n      <td>0.572443</td>\n      <td>NaN</td>\n      <td>3.74439</td>\n      <td>8.28212</td>\n      <td>1.582917</td>\n      <td>3.252946</td>\n      <td>1.107239</td>\n      <td>3.331805</td>\n      <td>4.180568</td>\n      <td>1.945807</td>\n    </tr>\n    <tr>\n      <th>2</th>\n      <td>EGF</td>\n      <td>BT549</td>\n      <td>0.0</td>\n      <td>3</td>\n      <td>3477</td>\n      <td>0.386000</td>\n      <td>3.572410</td>\n      <td>6.969790</td>\n      <td>3.117471</td>\n      <td>7.10625</td>\n      <td>...</td>\n      <td>0.516309</td>\n      <td>NaN</td>\n      <td>3.11308</td>\n      <td>5.20016</td>\n      <td>2.444143</td>\n      <td>4.014149</td>\n      <td>2.853183</td>\n      <td>3.666968</td>\n      <td>3.791345</td>\n      <td>3.103875</td>\n    </tr>\n    <tr>\n      <th>3</th>\n      <td>EGF</td>\n      <td>BT549</td>\n      <td>0.0</td>\n      <td>4</td>\n      <td>3477</td>\n      <td>1.482330</td>\n      <td>3.614918</td>\n      <td>3.980460</td>\n      <td>2.212820</td>\n      <td>5.52471</td>\n      <td>...</td>\n      <td>0.543217</td>\n      <td>NaN</td>\n      <td>4.59136</td>\n      <td>4.43111</td>\n      <td>1.557999</td>\n      <td>2.506928</td>\n      <td>1.846837</td>\n      <td>3.026639</td>\n      <td>3.489565</td>\n      <td>2.590569</td>\n    </tr>\n    <tr>\n      <th>4</th>\n      <td>EGF</td>\n      <td>BT549</td>\n      <td>0.0</td>\n      <td>5</td>\n      <td>3477</td>\n      <td>1.458379</td>\n      <td>2.639350</td>\n      <td>7.807030</td>\n      <td>4.087035</td>\n      <td>6.86747</td>\n      <td>...</td>\n      <td>0.516309</td>\n      <td>NaN</td>\n      <td>6.17801</td>\n      <td>8.51356</td>\n      <td>3.000138</td>\n      <td>3.541025</td>\n      <td>3.030370</td>\n      <td>4.869474</td>\n      <td>3.827781</td>\n      <td>3.361050</td>\n    </tr>\n    <tr>\n      <th>...</th>\n      <td>...</td>\n      <td>...</td>\n      <td>...</td>\n      <td>...</td>\n      <td>...</td>\n      <td>...</td>\n      <td>...</td>\n      <td>...</td>\n      <td>...</td>\n      <td>...</td>\n      <td>...</td>\n      <td>...</td>\n      <td>...</td>\n      <td>...</td>\n      <td>...</td>\n      <td>...</td>\n      <td>...</td>\n      <td>...</td>\n      <td>...</td>\n      <td>...</td>\n      <td>...</td>\n    </tr>\n    <tr>\n      <th>439183</th>\n      <td>iPKC</td>\n      <td>MDAMB453</td>\n      <td>60.0</td>\n      <td>9931</td>\n      <td>3057</td>\n      <td>0.796624</td>\n      <td>0.985459</td>\n      <td>2.386117</td>\n      <td>2.800958</td>\n      <td>6.43220</td>\n      <td>...</td>\n      <td>1.721783</td>\n      <td>1.649587</td>\n      <td>1.65488</td>\n      <td>5.78805</td>\n      <td>2.060610</td>\n      <td>1.116810</td>\n      <td>0.900235</td>\n      <td>1.798180</td>\n      <td>0.323054</td>\n      <td>2.071620</td>\n    </tr>\n    <tr>\n      <th>439184</th>\n      <td>iPKC</td>\n      <td>MDAMB453</td>\n      <td>60.0</td>\n      <td>9932</td>\n      <td>3057</td>\n      <td>0.796624</td>\n      <td>0.760968</td>\n      <td>0.733187</td>\n      <td>0.654867</td>\n      <td>4.42999</td>\n      <td>...</td>\n      <td>0.136632</td>\n      <td>0.814841</td>\n      <td>2.94198</td>\n      <td>2.33690</td>\n      <td>1.168810</td>\n      <td>-0.015309</td>\n      <td>1.684120</td>\n      <td>1.271067</td>\n      <td>0.323054</td>\n      <td>-0.170062</td>\n    </tr>\n    <tr>\n      <th>439185</th>\n      <td>iPKC</td>\n      <td>MDAMB453</td>\n      <td>60.0</td>\n      <td>9933</td>\n      <td>3057</td>\n      <td>1.792894</td>\n      <td>3.005336</td>\n      <td>0.886315</td>\n      <td>3.143383</td>\n      <td>5.88008</td>\n      <td>...</td>\n      <td>1.740662</td>\n      <td>1.192765</td>\n      <td>4.45737</td>\n      <td>3.59849</td>\n      <td>1.304170</td>\n      <td>1.982740</td>\n      <td>1.853280</td>\n      <td>3.161774</td>\n      <td>1.430336</td>\n      <td>0.866602</td>\n    </tr>\n    <tr>\n      <th>439186</th>\n      <td>iPKC</td>\n      <td>MDAMB453</td>\n      <td>60.0</td>\n      <td>9934</td>\n      <td>3057</td>\n      <td>0.796624</td>\n      <td>2.043958</td>\n      <td>1.749193</td>\n      <td>2.004873</td>\n      <td>4.36651</td>\n      <td>...</td>\n      <td>1.918299</td>\n      <td>0.950457</td>\n      <td>3.51759</td>\n      <td>4.27009</td>\n      <td>1.690850</td>\n      <td>2.151830</td>\n      <td>1.532070</td>\n      <td>3.373595</td>\n      <td>0.437448</td>\n      <td>1.036730</td>\n    </tr>\n    <tr>\n      <th>439187</th>\n      <td>iPKC</td>\n      <td>MDAMB453</td>\n      <td>60.0</td>\n      <td>9935</td>\n      <td>3057</td>\n      <td>0.796624</td>\n      <td>1.604966</td>\n      <td>2.689533</td>\n      <td>3.112336</td>\n      <td>4.36651</td>\n      <td>...</td>\n      <td>2.384222</td>\n      <td>0.358041</td>\n      <td>1.65488</td>\n      <td>4.57038</td>\n      <td>2.573030</td>\n      <td>2.235580</td>\n      <td>2.270560</td>\n      <td>4.901324</td>\n      <td>0.323054</td>\n      <td>2.231986</td>\n    </tr>\n  </tbody>\n</table>\n<p>17126329 rows × 42 columns</p>\n</div>"
     },
     "execution_count": 33,
     "metadata": {},
     "output_type": "execute_result"
    }
   ],
   "source": [
    "data"
   ],
   "metadata": {
    "collapsed": false
   }
  },
  {
   "cell_type": "code",
   "execution_count": 34,
   "outputs": [
    {
     "name": "stdout",
     "output_type": "stream",
     "text": [
      "treatment              0\n",
      "cell_line              0\n",
      "time                   0\n",
      "cellID                 0\n",
      "fileID                 0\n",
      "b.CATENIN              0\n",
      "cleavedCas             0\n",
      "CyclinB                0\n",
      "GAPDH                  0\n",
      "IdU                    0\n",
      "Ki.67                  0\n",
      "p.4EBP1                0\n",
      "p.Akt.Ser473.          0\n",
      "p.AKT.Thr308.          0\n",
      "p.AMPK                 0\n",
      "p.BTK                  0\n",
      "p.CREB                 0\n",
      "p.ERK                  0\n",
      "p.FAK                  0\n",
      "p.GSK3b                0\n",
      "p.H3                   0\n",
      "p.HER2           4157637\n",
      "p.JNK                  0\n",
      "p.MAP2K3               0\n",
      "p.MAPKAPK2             0\n",
      "p.MEK                  0\n",
      "p.MKK3.MKK6            0\n",
      "p.MKK4                 0\n",
      "p.NFkB                 0\n",
      "p.p38                  0\n",
      "p.p53                  0\n",
      "p.p90RSK               0\n",
      "p.PDPK1                0\n",
      "p.PLCg2          1946351\n",
      "p.RB                   0\n",
      "p.S6                   0\n",
      "p.S6K                  0\n",
      "p.SMAD23               0\n",
      "p.SRC                  0\n",
      "p.STAT1                0\n",
      "p.STAT3                0\n",
      "p.STAT5                0\n",
      "dtype: int64\n"
     ]
    }
   ],
   "source": [
    "print(data.isna().sum())"
   ],
   "metadata": {
    "collapsed": false
   }
  },
  {
   "cell_type": "code",
   "execution_count": 42,
   "outputs": [
    {
     "data": {
      "text/plain": "array(['BT549', 'HCC1954', 'MDAkb2', 'HCC1419', 'HCC38', 'HCC70',\n       'HCC1395', 'T47D', 'HCC1937', 'HCC1187', 'HCC1569', 'MDAMB361',\n       'MDAMB134VI', 'HCC1500', 'UACC893', 'MDAMB453'], dtype=object)"
     },
     "execution_count": 42,
     "metadata": {},
     "output_type": "execute_result"
    }
   ],
   "source": [
    "data.iloc[data.isna().any(axis=1).to_numpy()].cell_line.unique()"
   ],
   "metadata": {
    "collapsed": false
   }
  },
  {
   "cell_type": "code",
   "execution_count": 43,
   "outputs": [
    {
     "data": {
      "text/plain": "Index(['treatment', 'cell_line', 'time', 'cellID', 'fileID', 'b.CATENIN',\n       'cleavedCas', 'CyclinB', 'GAPDH', 'IdU', 'Ki.67', 'p.4EBP1',\n       'p.Akt.Ser473.', 'p.AKT.Thr308.', 'p.AMPK', 'p.BTK', 'p.CREB', 'p.ERK',\n       'p.FAK', 'p.GSK3b', 'p.H3', 'p.HER2', 'p.JNK', 'p.MAP2K3', 'p.MAPKAPK2',\n       'p.MEK', 'p.MKK3.MKK6', 'p.MKK4', 'p.NFkB', 'p.p38', 'p.p53',\n       'p.p90RSK', 'p.PDPK1', 'p.PLCg2', 'p.RB', 'p.S6', 'p.S6K', 'p.SMAD23',\n       'p.SRC', 'p.STAT1', 'p.STAT3', 'p.STAT5'],\n      dtype='object')"
     },
     "execution_count": 43,
     "metadata": {},
     "output_type": "execute_result"
    }
   ],
   "source": [
    "data.columns"
   ],
   "metadata": {
    "collapsed": false
   }
  },
  {
   "cell_type": "code",
   "execution_count": 44,
   "outputs": [
    {
     "data": {
      "text/plain": "Index(['treatment', 'cell_line', 'time', 'cellID', 'fileID'], dtype='object')"
     },
     "execution_count": 44,
     "metadata": {},
     "output_type": "execute_result"
    }
   ],
   "source": [
    "data.columns[:5]"
   ],
   "metadata": {
    "collapsed": false
   }
  },
  {
   "cell_type": "code",
   "execution_count": 47,
   "outputs": [
    {
     "data": {
      "text/plain": "Index(['b.CATENIN', 'cleavedCas', 'CyclinB', 'GAPDH', 'IdU', 'Ki.67',\n       'p.4EBP1', 'p.Akt.Ser473.', 'p.AKT.Thr308.', 'p.AMPK', 'p.BTK',\n       'p.CREB', 'p.ERK', 'p.FAK', 'p.GSK3b', 'p.H3', 'p.HER2', 'p.JNK',\n       'p.MAP2K3', 'p.MAPKAPK2', 'p.MEK', 'p.MKK3.MKK6', 'p.MKK4', 'p.NFkB',\n       'p.p38', 'p.p53', 'p.p90RSK', 'p.PDPK1', 'p.PLCg2', 'p.RB', 'p.S6',\n       'p.S6K', 'p.SMAD23', 'p.SRC', 'p.STAT1', 'p.STAT3', 'p.STAT5'],\n      dtype='object')"
     },
     "execution_count": 47,
     "metadata": {},
     "output_type": "execute_result"
    }
   ],
   "source": [
    "data.columns[5:]"
   ],
   "metadata": {
    "collapsed": false
   }
  },
  {
   "cell_type": "code",
   "execution_count": 48,
   "outputs": [
    {
     "data": {
      "text/plain": "       treatment cell_line  time  cellID  fileID  b.CATENIN  cleavedCas  \\\n0            EGF      BT20   0.0       1     173   1.473732    3.442083   \n1            EGF      BT20   0.0       1     209   1.711831    2.508931   \n2            EGF      BT20   0.0       2     173   1.491148    1.978159   \n3            EGF      BT20   0.0       2     209   1.250936    2.395486   \n4            EGF      BT20   0.0       3     173   1.498227    4.024200   \n...          ...       ...   ...     ...     ...        ...         ...   \n242943      iPKC    CAL148  60.0    9531    1784   0.377909    2.342130   \n242944      iPKC    CAL148  60.0    9532    1784   0.890460    0.898342   \n242945      iPKC    CAL148  60.0    9533    1784   0.999780    2.874888   \n242946      iPKC    CAL148  60.0    9534    1784   1.177386    3.353795   \n242947      iPKC    CAL148  60.0    9535    1784   1.360019    2.409274   \n\n        CyclinB     GAPDH       IdU  ...   p.PDPK1   p.PLCg2     p.RB  \\\n0       1.53231  3.154426   4.25020  ...  1.933920  3.557209  3.53145   \n1       1.20489  2.798322   5.46877  ...  1.685958  3.373101  2.70542   \n2       2.61173  3.190067   4.86440  ...  0.859948  1.492517  5.25069   \n3       2.14984  1.170383   5.06905  ...  0.516309  0.986227  4.89048   \n4       3.28279  3.432561   6.24600  ...  2.179873  4.171272  6.53057   \n...         ...       ...       ...  ...       ...       ...      ...   \n242943  2.92017  3.831750   5.72884  ...  3.004839  4.208258  2.61904   \n242944  3.21465  3.752526  11.77937  ...  1.778866  2.013538  2.20794   \n242945  2.57836  4.552094   4.25020  ...  3.408850  4.219160  3.55132   \n242946  2.39450  3.778470   5.42498  ...  2.334015  1.004381  2.35089   \n242947  1.20489  3.329338   4.25020  ...  2.686500  3.944519  3.10293   \n\n           p.S6     p.S6K  p.SMAD23     p.SRC   p.STAT1   p.STAT3   p.STAT5  \n0       4.46999  2.019960  2.416691  3.938022  3.128716  2.849716  2.469874  \n1       5.04671  2.741856  2.169223  3.275558  2.822612  1.347548  2.795694  \n2       6.34630  1.530206  2.406163  1.790347  3.593621  1.886075  2.460457  \n3       3.05252  2.442806  3.053240  0.799536  1.736163  3.207189  1.774129  \n4       7.41896  3.626556  3.356824  3.375600  2.977972  2.687300  2.972260  \n...         ...       ...       ...       ...       ...       ...       ...  \n242943  5.63935  3.196760  2.629449  4.091201  3.268736  2.272096  2.002150  \n242944  7.03941  3.039361  1.933805  3.211653  3.542337  1.872235  2.848350  \n242945  7.84043  2.892824  1.868630  3.805336  3.277699  0.652426  2.363650  \n242946  6.50466  2.272950  0.904632  1.908195  2.851001  1.864566  1.657300  \n242947  3.38994  2.403584  1.973524  2.308421  2.623940  2.163171  1.742350  \n\n[11022341 rows x 42 columns]",
      "text/html": "<div>\n<style scoped>\n    .dataframe tbody tr th:only-of-type {\n        vertical-align: middle;\n    }\n\n    .dataframe tbody tr th {\n        vertical-align: top;\n    }\n\n    .dataframe thead th {\n        text-align: right;\n    }\n</style>\n<table border=\"1\" class=\"dataframe\">\n  <thead>\n    <tr style=\"text-align: right;\">\n      <th></th>\n      <th>treatment</th>\n      <th>cell_line</th>\n      <th>time</th>\n      <th>cellID</th>\n      <th>fileID</th>\n      <th>b.CATENIN</th>\n      <th>cleavedCas</th>\n      <th>CyclinB</th>\n      <th>GAPDH</th>\n      <th>IdU</th>\n      <th>...</th>\n      <th>p.PDPK1</th>\n      <th>p.PLCg2</th>\n      <th>p.RB</th>\n      <th>p.S6</th>\n      <th>p.S6K</th>\n      <th>p.SMAD23</th>\n      <th>p.SRC</th>\n      <th>p.STAT1</th>\n      <th>p.STAT3</th>\n      <th>p.STAT5</th>\n    </tr>\n  </thead>\n  <tbody>\n    <tr>\n      <th>0</th>\n      <td>EGF</td>\n      <td>BT20</td>\n      <td>0.0</td>\n      <td>1</td>\n      <td>173</td>\n      <td>1.473732</td>\n      <td>3.442083</td>\n      <td>1.53231</td>\n      <td>3.154426</td>\n      <td>4.25020</td>\n      <td>...</td>\n      <td>1.933920</td>\n      <td>3.557209</td>\n      <td>3.53145</td>\n      <td>4.46999</td>\n      <td>2.019960</td>\n      <td>2.416691</td>\n      <td>3.938022</td>\n      <td>3.128716</td>\n      <td>2.849716</td>\n      <td>2.469874</td>\n    </tr>\n    <tr>\n      <th>1</th>\n      <td>EGF</td>\n      <td>BT20</td>\n      <td>0.0</td>\n      <td>1</td>\n      <td>209</td>\n      <td>1.711831</td>\n      <td>2.508931</td>\n      <td>1.20489</td>\n      <td>2.798322</td>\n      <td>5.46877</td>\n      <td>...</td>\n      <td>1.685958</td>\n      <td>3.373101</td>\n      <td>2.70542</td>\n      <td>5.04671</td>\n      <td>2.741856</td>\n      <td>2.169223</td>\n      <td>3.275558</td>\n      <td>2.822612</td>\n      <td>1.347548</td>\n      <td>2.795694</td>\n    </tr>\n    <tr>\n      <th>2</th>\n      <td>EGF</td>\n      <td>BT20</td>\n      <td>0.0</td>\n      <td>2</td>\n      <td>173</td>\n      <td>1.491148</td>\n      <td>1.978159</td>\n      <td>2.61173</td>\n      <td>3.190067</td>\n      <td>4.86440</td>\n      <td>...</td>\n      <td>0.859948</td>\n      <td>1.492517</td>\n      <td>5.25069</td>\n      <td>6.34630</td>\n      <td>1.530206</td>\n      <td>2.406163</td>\n      <td>1.790347</td>\n      <td>3.593621</td>\n      <td>1.886075</td>\n      <td>2.460457</td>\n    </tr>\n    <tr>\n      <th>3</th>\n      <td>EGF</td>\n      <td>BT20</td>\n      <td>0.0</td>\n      <td>2</td>\n      <td>209</td>\n      <td>1.250936</td>\n      <td>2.395486</td>\n      <td>2.14984</td>\n      <td>1.170383</td>\n      <td>5.06905</td>\n      <td>...</td>\n      <td>0.516309</td>\n      <td>0.986227</td>\n      <td>4.89048</td>\n      <td>3.05252</td>\n      <td>2.442806</td>\n      <td>3.053240</td>\n      <td>0.799536</td>\n      <td>1.736163</td>\n      <td>3.207189</td>\n      <td>1.774129</td>\n    </tr>\n    <tr>\n      <th>4</th>\n      <td>EGF</td>\n      <td>BT20</td>\n      <td>0.0</td>\n      <td>3</td>\n      <td>173</td>\n      <td>1.498227</td>\n      <td>4.024200</td>\n      <td>3.28279</td>\n      <td>3.432561</td>\n      <td>6.24600</td>\n      <td>...</td>\n      <td>2.179873</td>\n      <td>4.171272</td>\n      <td>6.53057</td>\n      <td>7.41896</td>\n      <td>3.626556</td>\n      <td>3.356824</td>\n      <td>3.375600</td>\n      <td>2.977972</td>\n      <td>2.687300</td>\n      <td>2.972260</td>\n    </tr>\n    <tr>\n      <th>...</th>\n      <td>...</td>\n      <td>...</td>\n      <td>...</td>\n      <td>...</td>\n      <td>...</td>\n      <td>...</td>\n      <td>...</td>\n      <td>...</td>\n      <td>...</td>\n      <td>...</td>\n      <td>...</td>\n      <td>...</td>\n      <td>...</td>\n      <td>...</td>\n      <td>...</td>\n      <td>...</td>\n      <td>...</td>\n      <td>...</td>\n      <td>...</td>\n      <td>...</td>\n      <td>...</td>\n    </tr>\n    <tr>\n      <th>242943</th>\n      <td>iPKC</td>\n      <td>CAL148</td>\n      <td>60.0</td>\n      <td>9531</td>\n      <td>1784</td>\n      <td>0.377909</td>\n      <td>2.342130</td>\n      <td>2.92017</td>\n      <td>3.831750</td>\n      <td>5.72884</td>\n      <td>...</td>\n      <td>3.004839</td>\n      <td>4.208258</td>\n      <td>2.61904</td>\n      <td>5.63935</td>\n      <td>3.196760</td>\n      <td>2.629449</td>\n      <td>4.091201</td>\n      <td>3.268736</td>\n      <td>2.272096</td>\n      <td>2.002150</td>\n    </tr>\n    <tr>\n      <th>242944</th>\n      <td>iPKC</td>\n      <td>CAL148</td>\n      <td>60.0</td>\n      <td>9532</td>\n      <td>1784</td>\n      <td>0.890460</td>\n      <td>0.898342</td>\n      <td>3.21465</td>\n      <td>3.752526</td>\n      <td>11.77937</td>\n      <td>...</td>\n      <td>1.778866</td>\n      <td>2.013538</td>\n      <td>2.20794</td>\n      <td>7.03941</td>\n      <td>3.039361</td>\n      <td>1.933805</td>\n      <td>3.211653</td>\n      <td>3.542337</td>\n      <td>1.872235</td>\n      <td>2.848350</td>\n    </tr>\n    <tr>\n      <th>242945</th>\n      <td>iPKC</td>\n      <td>CAL148</td>\n      <td>60.0</td>\n      <td>9533</td>\n      <td>1784</td>\n      <td>0.999780</td>\n      <td>2.874888</td>\n      <td>2.57836</td>\n      <td>4.552094</td>\n      <td>4.25020</td>\n      <td>...</td>\n      <td>3.408850</td>\n      <td>4.219160</td>\n      <td>3.55132</td>\n      <td>7.84043</td>\n      <td>2.892824</td>\n      <td>1.868630</td>\n      <td>3.805336</td>\n      <td>3.277699</td>\n      <td>0.652426</td>\n      <td>2.363650</td>\n    </tr>\n    <tr>\n      <th>242946</th>\n      <td>iPKC</td>\n      <td>CAL148</td>\n      <td>60.0</td>\n      <td>9534</td>\n      <td>1784</td>\n      <td>1.177386</td>\n      <td>3.353795</td>\n      <td>2.39450</td>\n      <td>3.778470</td>\n      <td>5.42498</td>\n      <td>...</td>\n      <td>2.334015</td>\n      <td>1.004381</td>\n      <td>2.35089</td>\n      <td>6.50466</td>\n      <td>2.272950</td>\n      <td>0.904632</td>\n      <td>1.908195</td>\n      <td>2.851001</td>\n      <td>1.864566</td>\n      <td>1.657300</td>\n    </tr>\n    <tr>\n      <th>242947</th>\n      <td>iPKC</td>\n      <td>CAL148</td>\n      <td>60.0</td>\n      <td>9535</td>\n      <td>1784</td>\n      <td>1.360019</td>\n      <td>2.409274</td>\n      <td>1.20489</td>\n      <td>3.329338</td>\n      <td>4.25020</td>\n      <td>...</td>\n      <td>2.686500</td>\n      <td>3.944519</td>\n      <td>3.10293</td>\n      <td>3.38994</td>\n      <td>2.403584</td>\n      <td>1.973524</td>\n      <td>2.308421</td>\n      <td>2.623940</td>\n      <td>2.163171</td>\n      <td>1.742350</td>\n    </tr>\n  </tbody>\n</table>\n<p>11022341 rows × 42 columns</p>\n</div>"
     },
     "execution_count": 48,
     "metadata": {},
     "output_type": "execute_result"
    }
   ],
   "source": [
    "data.dropna()"
   ],
   "metadata": {
    "collapsed": false
   }
  },
  {
   "cell_type": "code",
   "execution_count": 1,
   "outputs": [],
   "source": [
    "import sys\n",
    "\n",
    "if \"..\" not in sys.path:\n",
    "    sys.path.insert(0, \"..\")"
   ],
   "metadata": {
    "collapsed": false
   }
  },
  {
   "cell_type": "code",
   "execution_count": 2,
   "outputs": [],
   "source": [
    "from datasets import OrganoidDataset, ChallengeDataset, CafDataset"
   ],
   "metadata": {
    "collapsed": false
   }
  },
  {
   "cell_type": "code",
   "execution_count": 3,
   "outputs": [],
   "source": [
    "data = OrganoidDataset(data_dir='../data/organoids')"
   ],
   "metadata": {
    "collapsed": false
   }
  },
  {
   "cell_type": "code",
   "execution_count": 5,
   "outputs": [],
   "source": [
    "X,y = data.train"
   ],
   "metadata": {
    "collapsed": false
   }
  },
  {
   "cell_type": "code",
   "execution_count": 6,
   "outputs": [
    {
     "data": {
      "text/plain": "array([[0.        , 4.104063  , 3.523024  , ..., 0.        , 3.8881786 ,\n        6.389593  ],\n       [0.        , 3.2745147 , 1.7237808 , ..., 2.686204  , 0.90823185,\n        5.908281  ],\n       [0.        , 4.236786  , 2.9206614 , ..., 5.5366745 , 3.148032  ,\n        6.711488  ],\n       ...,\n       [0.        , 1.8122448 , 2.4643033 , ..., 1.8104887 , 2.2688913 ,\n        0.10865887],\n       [0.        , 3.604407  , 1.7619798 , ..., 4.697796  , 3.2597408 ,\n        6.089817  ],\n       [0.        , 3.9847968 , 2.483168  , ..., 0.        , 0.        ,\n        5.4630876 ]], dtype=float32)"
     },
     "execution_count": 6,
     "metadata": {},
     "output_type": "execute_result"
    }
   ],
   "source": [
    "X"
   ],
   "metadata": {
    "collapsed": false
   }
  },
  {
   "cell_type": "code",
   "execution_count": 5,
   "outputs": [
    {
     "data": {
      "text/plain": "          index        cell_type  day\n0        156737       Enterocyte    2\n1       1151315             Tuft    7\n2        611947  Enteroendocrine    3\n3        756795           Goblet    6\n4        213350       Enterocyte    2\n...         ...              ...  ...\n820728     2685       Enterocyte    1\n820729  1122479             Tuft    5\n820730   253852       Enterocyte    3\n820731   746001           Goblet    5\n820732   198014       Enterocyte    2\n\n[820733 rows x 3 columns]",
      "text/html": "<div>\n<style scoped>\n    .dataframe tbody tr th:only-of-type {\n        vertical-align: middle;\n    }\n\n    .dataframe tbody tr th {\n        vertical-align: top;\n    }\n\n    .dataframe thead th {\n        text-align: right;\n    }\n</style>\n<table border=\"1\" class=\"dataframe\">\n  <thead>\n    <tr style=\"text-align: right;\">\n      <th></th>\n      <th>index</th>\n      <th>cell_type</th>\n      <th>day</th>\n    </tr>\n  </thead>\n  <tbody>\n    <tr>\n      <th>0</th>\n      <td>156737</td>\n      <td>Enterocyte</td>\n      <td>2</td>\n    </tr>\n    <tr>\n      <th>1</th>\n      <td>1151315</td>\n      <td>Tuft</td>\n      <td>7</td>\n    </tr>\n    <tr>\n      <th>2</th>\n      <td>611947</td>\n      <td>Enteroendocrine</td>\n      <td>3</td>\n    </tr>\n    <tr>\n      <th>3</th>\n      <td>756795</td>\n      <td>Goblet</td>\n      <td>6</td>\n    </tr>\n    <tr>\n      <th>4</th>\n      <td>213350</td>\n      <td>Enterocyte</td>\n      <td>2</td>\n    </tr>\n    <tr>\n      <th>...</th>\n      <td>...</td>\n      <td>...</td>\n      <td>...</td>\n    </tr>\n    <tr>\n      <th>820728</th>\n      <td>2685</td>\n      <td>Enterocyte</td>\n      <td>1</td>\n    </tr>\n    <tr>\n      <th>820729</th>\n      <td>1122479</td>\n      <td>Tuft</td>\n      <td>5</td>\n    </tr>\n    <tr>\n      <th>820730</th>\n      <td>253852</td>\n      <td>Enterocyte</td>\n      <td>3</td>\n    </tr>\n    <tr>\n      <th>820731</th>\n      <td>746001</td>\n      <td>Goblet</td>\n      <td>5</td>\n    </tr>\n    <tr>\n      <th>820732</th>\n      <td>198014</td>\n      <td>Enterocyte</td>\n      <td>2</td>\n    </tr>\n  </tbody>\n</table>\n<p>820733 rows × 3 columns</p>\n</div>"
     },
     "execution_count": 5,
     "metadata": {},
     "output_type": "execute_result"
    }
   ],
   "source": [
    "y"
   ],
   "metadata": {
    "collapsed": false
   }
  },
  {
   "cell_type": "code",
   "execution_count": 11,
   "outputs": [],
   "source": [
    "data = ChallengeDataset(data_dir='../data/breast_cancer_challenge/')"
   ],
   "metadata": {
    "collapsed": false
   }
  },
  {
   "cell_type": "code",
   "execution_count": 4,
   "outputs": [],
   "source": [
    "X,y = data.train"
   ],
   "metadata": {
    "collapsed": false
   }
  },
  {
   "cell_type": "code",
   "execution_count": 5,
   "outputs": [
    {
     "data": {
      "text/plain": "(7715638, 37)"
     },
     "execution_count": 5,
     "metadata": {},
     "output_type": "execute_result"
    }
   ],
   "source": [
    "X.shape"
   ],
   "metadata": {
    "collapsed": false
   }
  },
  {
   "cell_type": "code",
   "execution_count": 6,
   "outputs": [
    {
     "data": {
      "text/plain": "dtype('float32')"
     },
     "execution_count": 6,
     "metadata": {},
     "output_type": "execute_result"
    }
   ],
   "source": [
    "X.dtype"
   ],
   "metadata": {
    "collapsed": false
   }
  },
  {
   "cell_type": "code",
   "execution_count": 7,
   "outputs": [
    {
     "data": {
      "text/plain": "array([[1.305508 , 2.079029 , 2.77041  , ..., 2.7504065, 0.738451 ,\n        2.426468 ],\n       [0.861563 , 3.167372 , 2.99853  , ..., 3.0209234, 2.189962 ,\n        2.7098024],\n       [0.996941 , 3.403287 , 3.50676  , ..., 3.75957  , 2.743454 ,\n        2.76213  ],\n       ...,\n       [1.005257 , 2.64963  , 4.3092   , ..., 1.8417668, 0.652426 ,\n        2.38526  ],\n       [0.543132 , 0.898342 , 1.20489  , ..., 4.2914376, 1.326958 ,\n        1.9774158],\n       [0.454128 , 2.849456 , 1.88377  , ..., 2.8662198, 2.78903  ,\n        2.9398377]], dtype=float32)"
     },
     "execution_count": 7,
     "metadata": {},
     "output_type": "execute_result"
    }
   ],
   "source": [
    "X"
   ],
   "metadata": {
    "collapsed": false
   }
  },
  {
   "cell_type": "code",
   "execution_count": 13,
   "outputs": [
    {
     "data": {
      "text/plain": "           index treatment cell_line  time  cellID  fileID\n0         215104     iEGFR    MCF10A   7.0    9428     807\n1         202234     iPI3K   HCC1500   0.0    5177    3212\n2          94036       EGF     HCC70  13.0   11573    3601\n3         318186      iMEK     HCC70   9.0    2399    3615\n4         301194      iMEK     HCC70   7.0    1491    3643\n...          ...       ...       ...   ...     ...     ...\n11988425  241199     iPI3K  MDAMB415   0.0    1495     248\n11988426   68862       EGF       MX1  13.0    7616    2854\n11988427  121106     iEGFR   HCC1954   9.0    4614    3519\n11988428  190906       EGF     OCUBM   0.0   11730    2472\n11988429   71195       EGF       MX1  13.0    9949    2854\n\n[11988430 rows x 6 columns]",
      "text/html": "<div>\n<style scoped>\n    .dataframe tbody tr th:only-of-type {\n        vertical-align: middle;\n    }\n\n    .dataframe tbody tr th {\n        vertical-align: top;\n    }\n\n    .dataframe thead th {\n        text-align: right;\n    }\n</style>\n<table border=\"1\" class=\"dataframe\">\n  <thead>\n    <tr style=\"text-align: right;\">\n      <th></th>\n      <th>index</th>\n      <th>treatment</th>\n      <th>cell_line</th>\n      <th>time</th>\n      <th>cellID</th>\n      <th>fileID</th>\n    </tr>\n  </thead>\n  <tbody>\n    <tr>\n      <th>0</th>\n      <td>215104</td>\n      <td>iEGFR</td>\n      <td>MCF10A</td>\n      <td>7.0</td>\n      <td>9428</td>\n      <td>807</td>\n    </tr>\n    <tr>\n      <th>1</th>\n      <td>202234</td>\n      <td>iPI3K</td>\n      <td>HCC1500</td>\n      <td>0.0</td>\n      <td>5177</td>\n      <td>3212</td>\n    </tr>\n    <tr>\n      <th>2</th>\n      <td>94036</td>\n      <td>EGF</td>\n      <td>HCC70</td>\n      <td>13.0</td>\n      <td>11573</td>\n      <td>3601</td>\n    </tr>\n    <tr>\n      <th>3</th>\n      <td>318186</td>\n      <td>iMEK</td>\n      <td>HCC70</td>\n      <td>9.0</td>\n      <td>2399</td>\n      <td>3615</td>\n    </tr>\n    <tr>\n      <th>4</th>\n      <td>301194</td>\n      <td>iMEK</td>\n      <td>HCC70</td>\n      <td>7.0</td>\n      <td>1491</td>\n      <td>3643</td>\n    </tr>\n    <tr>\n      <th>...</th>\n      <td>...</td>\n      <td>...</td>\n      <td>...</td>\n      <td>...</td>\n      <td>...</td>\n      <td>...</td>\n    </tr>\n    <tr>\n      <th>11988425</th>\n      <td>241199</td>\n      <td>iPI3K</td>\n      <td>MDAMB415</td>\n      <td>0.0</td>\n      <td>1495</td>\n      <td>248</td>\n    </tr>\n    <tr>\n      <th>11988426</th>\n      <td>68862</td>\n      <td>EGF</td>\n      <td>MX1</td>\n      <td>13.0</td>\n      <td>7616</td>\n      <td>2854</td>\n    </tr>\n    <tr>\n      <th>11988427</th>\n      <td>121106</td>\n      <td>iEGFR</td>\n      <td>HCC1954</td>\n      <td>9.0</td>\n      <td>4614</td>\n      <td>3519</td>\n    </tr>\n    <tr>\n      <th>11988428</th>\n      <td>190906</td>\n      <td>EGF</td>\n      <td>OCUBM</td>\n      <td>0.0</td>\n      <td>11730</td>\n      <td>2472</td>\n    </tr>\n    <tr>\n      <th>11988429</th>\n      <td>71195</td>\n      <td>EGF</td>\n      <td>MX1</td>\n      <td>13.0</td>\n      <td>9949</td>\n      <td>2854</td>\n    </tr>\n  </tbody>\n</table>\n<p>11988430 rows × 6 columns</p>\n</div>"
     },
     "execution_count": 13,
     "metadata": {},
     "output_type": "execute_result"
    }
   ],
   "source": [
    "y"
   ],
   "metadata": {
    "collapsed": false
   }
  },
  {
   "cell_type": "code",
   "execution_count": 2,
   "outputs": [],
   "source": [
    "import sys\n",
    "if \"..\" not in sys.path:\n",
    "    sys.path.insert(0, \"..\")\n",
    "\n",
    "from datasets import OrganoidDataset\n",
    "data = OrganoidDataset(data_dir='../data/organoids/')"
   ],
   "metadata": {
    "collapsed": false
   }
  },
  {
   "cell_type": "code",
   "execution_count": 3,
   "outputs": [],
   "source": [
    "X,y = data.train"
   ],
   "metadata": {
    "collapsed": false
   }
  },
  {
   "cell_type": "code",
   "execution_count": 4,
   "outputs": [
    {
     "name": "stdout",
     "output_type": "stream",
     "text": [
      "(820733, 41)\n",
      "float32\n"
     ]
    },
    {
     "data": {
      "text/plain": "array([[0.        , 4.104063  , 3.523024  , ..., 0.        , 3.8881786 ,\n        6.389593  ],\n       [0.        , 3.2745147 , 1.7237808 , ..., 2.686204  , 0.90823185,\n        5.908281  ],\n       [0.        , 4.236786  , 2.9206614 , ..., 5.5366745 , 3.148032  ,\n        6.711488  ],\n       ...,\n       [0.        , 1.8122448 , 2.4643033 , ..., 1.8104887 , 2.2688913 ,\n        0.10865887],\n       [0.        , 3.604407  , 1.7619798 , ..., 4.697796  , 3.2597408 ,\n        6.089817  ],\n       [0.        , 3.9847968 , 2.483168  , ..., 0.        , 0.        ,\n        5.4630876 ]], dtype=float32)"
     },
     "execution_count": 4,
     "metadata": {},
     "output_type": "execute_result"
    }
   ],
   "source": [
    "print(X.shape)\n",
    "print(X.dtype)\n",
    "X"
   ],
   "metadata": {
    "collapsed": false
   }
  },
  {
   "cell_type": "code",
   "execution_count": 10,
   "outputs": [
    {
     "data": {
      "text/plain": "(801, 1024, 41)"
     },
     "execution_count": 10,
     "metadata": {},
     "output_type": "execute_result"
    }
   ],
   "source": [
    "from torch.utils.data import TensorDataset\n",
    "import torch\n",
    "X[:X.shape[0] // 1024 *1024].reshape((-1,1024,X.shape[1])).shape"
   ],
   "metadata": {
    "collapsed": false
   }
  },
  {
   "cell_type": "code",
   "execution_count": 6,
   "outputs": [
    {
     "name": "stderr",
     "output_type": "stream",
     "text": [
      "2023-02-03 23:01:50,171\tINFO worker.py:1538 -- Started a local Ray instance.\n"
     ]
    },
    {
     "data": {
      "text/plain": "RayContext(dashboard_url='', python_version='3.10.6', ray_version='2.2.0', ray_commit='b6af0887ee5f2e460202133791ad941a41f15beb', address_info={'node_ip_address': '192.168.2.11', 'raylet_ip_address': '192.168.2.11', 'redis_address': None, 'object_store_address': '/tmp/ray/session_2023-02-03_23-01-48_373375_1080370/sockets/plasma_store', 'raylet_socket_name': '/tmp/ray/session_2023-02-03_23-01-48_373375_1080370/sockets/raylet', 'webui_url': '', 'session_dir': '/tmp/ray/session_2023-02-03_23-01-48_373375_1080370', 'metrics_export_port': 54892, 'gcs_address': '192.168.2.11:65002', 'address': '192.168.2.11:65002', 'dashboard_agent_listen_port': 52365, 'node_id': '4012e4cb6ef5f6f281a8e23716156b3f37ec998d2dacebf3eeaf20c8'})",
      "text/html": "<div>\n    <div style=\"margin-left: 50px;display: flex;flex-direction: row;align-items: center\">\n        <h3 style=\"color: var(--jp-ui-font-color0)\">Ray</h3>\n        <svg version=\"1.1\" id=\"ray\" width=\"3em\" viewBox=\"0 0 144.5 144.6\" style=\"margin-left: 3em;margin-right: 3em\">\n            <g id=\"layer-1\">\n                <path fill=\"#00a2e9\" class=\"st0\" d=\"M97.3,77.2c-3.8-1.1-6.2,0.9-8.3,5.1c-3.5,6.8-9.9,9.9-17.4,9.6S58,88.1,54.8,81.2c-1.4-3-3-4-6.3-4.1\n                    c-5.6-0.1-9.9,0.1-13.1,6.4c-3.8,7.6-13.6,10.2-21.8,7.6C5.2,88.4-0.4,80.5,0,71.7c0.1-8.4,5.7-15.8,13.8-18.2\n                    c8.4-2.6,17.5,0.7,22.3,8c1.3,1.9,1.3,5.2,3.6,5.6c3.9,0.6,8,0.2,12,0.2c1.8,0,1.9-1.6,2.4-2.8c3.5-7.8,9.7-11.8,18-11.9\n                    c8.2-0.1,14.4,3.9,17.8,11.4c1.3,2.8,2.9,3.6,5.7,3.3c1-0.1,2,0.1,3,0c2.8-0.5,6.4,1.7,8.1-2.7s-2.3-5.5-4.1-7.5\n                    c-5.1-5.7-10.9-10.8-16.1-16.3C84,38,81.9,37.1,78,38.3C66.7,42,56.2,35.7,53,24.1C50.3,14,57.3,2.8,67.7,0.5\n                    C78.4-2,89,4.7,91.5,15.3c0.1,0.3,0.1,0.5,0.2,0.8c0.7,3.4,0.7,6.9-0.8,9.8c-1.7,3.2-0.8,5,1.5,7.2c6.7,6.5,13.3,13,19.8,19.7\n                    c1.8,1.8,3,2.1,5.5,1.2c9.1-3.4,17.9-0.6,23.4,7c4.8,6.9,4.6,16.1-0.4,22.9c-5.4,7.2-14.2,9.9-23.1,6.5c-2.3-0.9-3.5-0.6-5.1,1.1\n                    c-6.7,6.9-13.6,13.7-20.5,20.4c-1.8,1.8-2.5,3.2-1.4,5.9c3.5,8.7,0.3,18.6-7.7,23.6c-7.9,5-18.2,3.8-24.8-2.9\n                    c-6.4-6.4-7.4-16.2-2.5-24.3c4.9-7.8,14.5-11,23.1-7.8c3,1.1,4.7,0.5,6.9-1.7C91.7,98.4,98,92.3,104.2,86c1.6-1.6,4.1-2.7,2.6-6.2\n                    c-1.4-3.3-3.8-2.5-6.2-2.6C99.8,77.2,98.9,77.2,97.3,77.2z M72.1,29.7c5.5,0.1,9.9-4.3,10-9.8c0-0.1,0-0.2,0-0.3\n                    C81.8,14,77,9.8,71.5,10.2c-5,0.3-9,4.2-9.3,9.2c-0.2,5.5,4,10.1,9.5,10.3C71.8,29.7,72,29.7,72.1,29.7z M72.3,62.3\n                    c-5.4-0.1-9.9,4.2-10.1,9.7c0,0.2,0,0.3,0,0.5c0.2,5.4,4.5,9.7,9.9,10c5.1,0.1,9.9-4.7,10.1-9.8c0.2-5.5-4-10-9.5-10.3\n                    C72.6,62.3,72.4,62.3,72.3,62.3z M115,72.5c0.1,5.4,4.5,9.7,9.8,9.9c5.6-0.2,10-4.8,10-10.4c-0.2-5.4-4.6-9.7-10-9.7\n                    c-5.3-0.1-9.8,4.2-9.9,9.5C115,72.1,115,72.3,115,72.5z M19.5,62.3c-5.4,0.1-9.8,4.4-10,9.8c-0.1,5.1,5.2,10.4,10.2,10.3\n                    c5.6-0.2,10-4.9,9.8-10.5c-0.1-5.4-4.5-9.7-9.9-9.6C19.6,62.3,19.5,62.3,19.5,62.3z M71.8,134.6c5.9,0.2,10.3-3.9,10.4-9.6\n                    c0.5-5.5-3.6-10.4-9.1-10.8c-5.5-0.5-10.4,3.6-10.8,9.1c0,0.5,0,0.9,0,1.4c-0.2,5.3,4,9.8,9.3,10\n                    C71.6,134.6,71.7,134.6,71.8,134.6z\"/>\n            </g>\n        </svg>\n        <table>\n            <tr>\n                <td style=\"text-align: left\"><b>Python version:</b></td>\n                <td style=\"text-align: left\"><b>3.10.6</b></td>\n            </tr>\n            <tr>\n                <td style=\"text-align: left\"><b>Ray version:</b></td>\n                <td style=\"text-align: left\"><b> 2.2.0</b></td>\n            </tr>\n            \n        </table>\n    </div>\n</div>\n"
     },
     "execution_count": 6,
     "metadata": {},
     "output_type": "execute_result"
    }
   ],
   "source": [
    "import ray\n",
    "ray.shutdown()\n",
    "ray.init()"
   ],
   "metadata": {
    "collapsed": false
   }
  },
  {
   "cell_type": "code",
   "execution_count": 12,
   "outputs": [],
   "source": [
    "ds = ray.data.from_numpy(X[:X.shape[0] // 1024 *1024].reshape((-1,1024,X.shape[1])))"
   ],
   "metadata": {
    "collapsed": false
   }
  },
  {
   "cell_type": "code",
   "execution_count": 13,
   "outputs": [
    {
     "name": "stdout",
     "output_type": "stream",
     "text": [
      "torch.Size([256, 1024, 41])\n",
      "tensor([[[0.0000, 4.1041, 3.5230,  ..., 0.0000, 3.8882, 6.3896],\n",
      "         [0.0000, 3.2745, 1.7238,  ..., 2.6862, 0.9082, 5.9083],\n",
      "         [0.0000, 4.2368, 2.9207,  ..., 5.5367, 3.1480, 6.7115],\n",
      "         ...,\n",
      "         [0.0000, 4.2606, 2.5510,  ..., 0.0000, 2.4632, 6.0600],\n",
      "         [0.0000, 2.7392, 2.6043,  ..., 0.0000, 3.6093, 3.8802],\n",
      "         [0.0000, 3.1756, 1.6602,  ..., 4.2140, 2.3501, 6.0158]],\n",
      "\n",
      "        [[0.0000, 4.7434, 4.2539,  ..., 0.0000, 4.2112, 5.6827],\n",
      "         [0.4333, 3.1787, 4.4757,  ..., 0.0000, 3.0614, 7.0806],\n",
      "         [0.0000, 4.7153, 2.2860,  ..., 1.6890, 0.4364, 4.4237],\n",
      "         ...,\n",
      "         [0.0000, 3.4355, 4.1664,  ..., 0.0000, 4.6436, 4.1922],\n",
      "         [0.0000, 2.3814, 4.4285,  ..., 2.5050, 3.2064, 7.2450],\n",
      "         [0.0000, 4.9156, 3.2758,  ..., 2.3066, 4.2252, 5.7855]],\n",
      "\n",
      "        [[0.1593, 3.3300, 3.8487,  ..., 2.2483, 2.0702, 0.0000],\n",
      "         [0.0000, 4.4584, 3.4592,  ..., 2.8349, 3.1095, 5.4611],\n",
      "         [0.0000, 1.9933, 1.2228,  ..., 0.0000, 1.7444, 2.0590],\n",
      "         ...,\n",
      "         [0.0513, 4.0594, 5.0717,  ..., 0.0000, 3.9279, 7.0962],\n",
      "         [0.2979, 0.2788, 3.0643,  ..., 0.0000, 4.3145, 4.1057],\n",
      "         [0.2681, 3.7781, 2.0330,  ..., 4.5021, 2.5628, 5.7730]],\n",
      "\n",
      "        ...,\n",
      "\n",
      "        [[0.0000, 4.3586, 3.5601,  ..., 1.3230, 4.3168, 6.4840],\n",
      "         [0.0000, 3.4709, 2.3777,  ..., 4.6620, 0.0000, 6.4610],\n",
      "         [0.0971, 0.5669, 5.5078,  ..., 0.0000, 1.7721, 0.0000],\n",
      "         ...,\n",
      "         [0.0000, 3.5464, 4.0455,  ..., 2.9736, 2.3765, 7.0651],\n",
      "         [0.0000, 1.1870, 0.4670,  ..., 0.0000, 3.0376, 2.7863],\n",
      "         [0.0000, 1.6666, 3.1286,  ..., 0.7673, 0.0516, 1.3217]],\n",
      "\n",
      "        [[0.0000, 2.7272, 1.0733,  ..., 4.4976, 2.7794, 5.9942],\n",
      "         [0.0000, 4.4783, 3.6232,  ..., 0.8527, 3.7397, 5.8355],\n",
      "         [0.0000, 2.2901, 2.4552,  ..., 0.4894, 3.6031, 3.0146],\n",
      "         ...,\n",
      "         [0.4091, 4.0538, 4.4438,  ..., 0.0000, 4.1339, 6.5459],\n",
      "         [0.0000, 3.4550, 5.1080,  ..., 1.7381, 2.0297, 7.3378],\n",
      "         [0.0000, 3.8311, 3.3769,  ..., 2.4611, 1.7256, 6.3689]],\n",
      "\n",
      "        [[0.0000, 3.3683, 2.4102,  ..., 3.2241, 1.3013, 6.2046],\n",
      "         [0.0000, 1.1958, 3.0257,  ..., 0.0000, 3.9086, 5.0237],\n",
      "         [0.0000, 2.0248, 2.4357,  ..., 0.0000, 4.2841, 4.8321],\n",
      "         ...,\n",
      "         [0.0000, 3.2533, 3.6151,  ..., 0.0000, 2.9026, 3.2693],\n",
      "         [0.2536, 3.4487, 1.8146,  ..., 5.8792, 2.1309, 6.1770],\n",
      "         [0.0000, 3.9694, 4.0186,  ..., 1.6192, 3.2248, 6.5959]]])\n"
     ]
    }
   ],
   "source": [
    "for batch in ds.iter_torch_batches():\n",
    "    print(batch.shape)\n",
    "    print(batch)\n",
    "    break"
   ],
   "metadata": {
    "collapsed": false
   }
  },
  {
   "cell_type": "code",
   "execution_count": null,
   "outputs": [],
   "source": [],
   "metadata": {
    "collapsed": false
   }
  }
 ],
 "metadata": {
  "kernelspec": {
   "display_name": "Python 3",
   "language": "python",
   "name": "python3"
  },
  "language_info": {
   "codemirror_mode": {
    "name": "ipython",
    "version": 2
   },
   "file_extension": ".py",
   "mimetype": "text/x-python",
   "name": "python",
   "nbconvert_exporter": "python",
   "pygments_lexer": "ipython2",
   "version": "2.7.6"
  }
 },
 "nbformat": 4,
 "nbformat_minor": 0
}
