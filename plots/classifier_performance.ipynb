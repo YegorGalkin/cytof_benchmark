{
 "cells": [
  {
   "cell_type": "code",
   "execution_count": 1,
   "metadata": {
    "collapsed": true
   },
   "outputs": [
    {
     "data": {
      "text/plain": "['/data/PycharmProjects/cytof_benchmark/results/latent_data/CafDataset_WAE_MMD_val_latent.csv',\n '/data/PycharmProjects/cytof_benchmark/results/latent_data/CafDataset_BetaVAE_train_latent.csv',\n '/data/PycharmProjects/cytof_benchmark/results/latent_data/CafDataset_BetaVAE_val_latent.csv',\n '/data/PycharmProjects/cytof_benchmark/results/latent_data/ChallengeDataset_BetaVAE_train_latent.csv',\n '/data/PycharmProjects/cytof_benchmark/results/latent_data/CafDataset_HyperSphericalVAE_val_latent.csv',\n '/data/PycharmProjects/cytof_benchmark/results/latent_data/CafDataset_WAE_MMD_train_latent.csv',\n '/data/PycharmProjects/cytof_benchmark/results/latent_data/ChallengeDataset_WAE_MMD_val_latent.csv',\n '/data/PycharmProjects/cytof_benchmark/results/latent_data/OrganoidDataset_BetaVAE_train_latent.csv',\n '/data/PycharmProjects/cytof_benchmark/results/latent_data/ChallengeDataset_WAE_MMD_train_latent.csv',\n '/data/PycharmProjects/cytof_benchmark/results/latent_data/OrganoidDataset_DBetaVAE_train_latent.csv',\n '/data/PycharmProjects/cytof_benchmark/results/latent_data/ChallengeDataset_HyperSphericalVAE_train_latent.csv',\n '/data/PycharmProjects/cytof_benchmark/results/latent_data/OrganoidDataset_HyperSphericalVAE_val_latent.csv',\n '/data/PycharmProjects/cytof_benchmark/results/latent_data/CafDataset_DBetaVAE_val_latent.csv',\n '/data/PycharmProjects/cytof_benchmark/results/latent_data/OrganoidDataset_WAE_MMD_val_latent.csv',\n '/data/PycharmProjects/cytof_benchmark/results/latent_data/ChallengeDataset_DBetaVAE_val_latent.csv',\n '/data/PycharmProjects/cytof_benchmark/results/latent_data/OrganoidDataset_WAE_MMD_train_latent.csv',\n '/data/PycharmProjects/cytof_benchmark/results/latent_data/ChallengeDataset_HyperSphericalVAE_val_latent.csv',\n '/data/PycharmProjects/cytof_benchmark/results/latent_data/OrganoidDataset_HyperSphericalVAE_train_latent.csv',\n '/data/PycharmProjects/cytof_benchmark/results/latent_data/OrganoidDataset_DBetaVAE_val_latent.csv',\n '/data/PycharmProjects/cytof_benchmark/results/latent_data/ChallengeDataset_BetaVAE_val_latent.csv',\n '/data/PycharmProjects/cytof_benchmark/results/latent_data/ChallengeDataset_DBetaVAE_train_latent.csv',\n '/data/PycharmProjects/cytof_benchmark/results/latent_data/CafDataset_DBetaVAE_train_latent.csv',\n '/data/PycharmProjects/cytof_benchmark/results/latent_data/CafDataset_HyperSphericalVAE_train_latent.csv',\n '/data/PycharmProjects/cytof_benchmark/results/latent_data/OrganoidDataset_BetaVAE_val_latent.csv']"
     },
     "execution_count": 1,
     "metadata": {},
     "output_type": "execute_result"
    }
   ],
   "source": [
    "import glob\n",
    "\n",
    "bench_dir = \"/data/PycharmProjects/cytof_benchmark/results/latent_data/\"\n",
    "latent_files = glob.glob(bench_dir + \"*_latent.csv\")\n",
    "latent_files"
   ]
  },
  {
   "cell_type": "code",
   "execution_count": 2,
   "outputs": [
    {
     "name": "stdout",
     "output_type": "stream",
     "text": [
      "CafDataset WAE_MMD val\n",
      "CafDataset BetaVAE train\n",
      "CafDataset BetaVAE val\n",
      "ChallengeDataset BetaVAE train\n",
      "CafDataset HyperSphericalVAE val\n",
      "CafDataset WAE_MMD train\n",
      "ChallengeDataset WAE_MMD val\n",
      "OrganoidDataset BetaVAE train\n",
      "ChallengeDataset WAE_MMD train\n",
      "OrganoidDataset DBetaVAE train\n",
      "ChallengeDataset HyperSphericalVAE train\n",
      "OrganoidDataset HyperSphericalVAE val\n",
      "CafDataset DBetaVAE val\n",
      "OrganoidDataset WAE_MMD val\n",
      "ChallengeDataset DBetaVAE val\n",
      "OrganoidDataset WAE_MMD train\n",
      "ChallengeDataset HyperSphericalVAE val\n",
      "OrganoidDataset HyperSphericalVAE train\n",
      "OrganoidDataset DBetaVAE val\n",
      "ChallengeDataset BetaVAE val\n",
      "ChallengeDataset DBetaVAE train\n",
      "CafDataset DBetaVAE train\n",
      "CafDataset HyperSphericalVAE train\n",
      "OrganoidDataset BetaVAE val\n"
     ]
    }
   ],
   "source": [
    "import pandas as pd\n",
    "\n",
    "latent_dict = dict()\n",
    "for latent_file in latent_files:\n",
    "    filename = latent_file.split('/')[-1]\n",
    "    dataset_name = filename.split('_')[0]\n",
    "    split = filename.split('_')[-2]\n",
    "    model_name = filename.split('_',maxsplit=1)[1].removesuffix('_latent.csv').removesuffix('_val').removesuffix('_train')\n",
    "    print(dataset_name,model_name,split)\n",
    "    if dataset_name not in latent_dict:\n",
    "        latent_dict[dataset_name]=dict()\n",
    "    if model_name not in latent_dict[dataset_name]:\n",
    "        latent_dict[dataset_name][model_name]=dict()\n",
    "    latent_dict[dataset_name][model_name][split]= pd.read_csv(latent_file,index_col=0)"
   ],
   "metadata": {
    "collapsed": false
   }
  },
  {
   "cell_type": "code",
   "execution_count": 3,
   "outputs": [
    {
     "data": {
      "text/plain": "{'train':             VAE1      VAE2\n 0       0.730659 -1.110678\n 1       0.582513  1.452487\n 2       1.624205 -0.158508\n 3      -0.222219  1.461618\n 4      -0.458737 -0.741948\n ...          ...       ...\n 820728 -1.659552 -0.749211\n 820729 -1.074803  0.265936\n 820730 -1.149795  0.754065\n 820731  0.752049  0.019883\n 820732 -1.121911 -1.272193\n \n [820733 rows x 2 columns],\n 'val':             VAE1      VAE2\n 0       0.034673 -1.756849\n 1      -0.752730 -0.288588\n 2      -1.204419  1.593389\n 3      -0.374708  0.467037\n 4       0.541722  0.093536\n ...          ...       ...\n 234490  1.599098  1.048390\n 234491  0.090505 -1.004703\n 234492 -0.056494  0.331654\n 234493 -0.448628 -0.740973\n 234494 -1.251991 -0.041530\n \n [234495 rows x 2 columns]}"
     },
     "execution_count": 3,
     "metadata": {},
     "output_type": "execute_result"
    }
   ],
   "source": [
    "latent_dict['OrganoidDataset']['BetaVAE']"
   ],
   "metadata": {
    "collapsed": false
   }
  },
  {
   "cell_type": "code",
   "execution_count": 4,
   "outputs": [],
   "source": [
    "import sys\n",
    "if \"..\" not in sys.path:\n",
    "    sys.path.insert(0, \"..\")"
   ],
   "metadata": {
    "collapsed": false
   }
  },
  {
   "cell_type": "code",
   "execution_count": 5,
   "outputs": [],
   "source": [
    "from datasets import OrganoidDataset\n",
    "data = OrganoidDataset(data_dir='../data/organoids/')\n",
    "X_train,y_train = data.train\n",
    "X_val,y_val = data.val"
   ],
   "metadata": {
    "collapsed": false
   }
  },
  {
   "cell_type": "code",
   "execution_count": 6,
   "outputs": [
    {
     "data": {
      "text/plain": "          index        cell_type  day\n0        156737       Enterocyte    2\n1       1151315             Tuft    7\n2        611947  Enteroendocrine    3\n3        756795           Goblet    6\n4        213350       Enterocyte    2\n...         ...              ...  ...\n820728     2685       Enterocyte    1\n820729  1122479             Tuft    5\n820730   253852       Enterocyte    3\n820731   746001           Goblet    5\n820732   198014       Enterocyte    2\n\n[820733 rows x 3 columns]",
      "text/html": "<div>\n<style scoped>\n    .dataframe tbody tr th:only-of-type {\n        vertical-align: middle;\n    }\n\n    .dataframe tbody tr th {\n        vertical-align: top;\n    }\n\n    .dataframe thead th {\n        text-align: right;\n    }\n</style>\n<table border=\"1\" class=\"dataframe\">\n  <thead>\n    <tr style=\"text-align: right;\">\n      <th></th>\n      <th>index</th>\n      <th>cell_type</th>\n      <th>day</th>\n    </tr>\n  </thead>\n  <tbody>\n    <tr>\n      <th>0</th>\n      <td>156737</td>\n      <td>Enterocyte</td>\n      <td>2</td>\n    </tr>\n    <tr>\n      <th>1</th>\n      <td>1151315</td>\n      <td>Tuft</td>\n      <td>7</td>\n    </tr>\n    <tr>\n      <th>2</th>\n      <td>611947</td>\n      <td>Enteroendocrine</td>\n      <td>3</td>\n    </tr>\n    <tr>\n      <th>3</th>\n      <td>756795</td>\n      <td>Goblet</td>\n      <td>6</td>\n    </tr>\n    <tr>\n      <th>4</th>\n      <td>213350</td>\n      <td>Enterocyte</td>\n      <td>2</td>\n    </tr>\n    <tr>\n      <th>...</th>\n      <td>...</td>\n      <td>...</td>\n      <td>...</td>\n    </tr>\n    <tr>\n      <th>820728</th>\n      <td>2685</td>\n      <td>Enterocyte</td>\n      <td>1</td>\n    </tr>\n    <tr>\n      <th>820729</th>\n      <td>1122479</td>\n      <td>Tuft</td>\n      <td>5</td>\n    </tr>\n    <tr>\n      <th>820730</th>\n      <td>253852</td>\n      <td>Enterocyte</td>\n      <td>3</td>\n    </tr>\n    <tr>\n      <th>820731</th>\n      <td>746001</td>\n      <td>Goblet</td>\n      <td>5</td>\n    </tr>\n    <tr>\n      <th>820732</th>\n      <td>198014</td>\n      <td>Enterocyte</td>\n      <td>2</td>\n    </tr>\n  </tbody>\n</table>\n<p>820733 rows × 3 columns</p>\n</div>"
     },
     "execution_count": 6,
     "metadata": {},
     "output_type": "execute_result"
    }
   ],
   "source": [
    "y_train"
   ],
   "metadata": {
    "collapsed": false
   }
  },
  {
   "cell_type": "code",
   "execution_count": 7,
   "outputs": [
    {
     "data": {
      "text/plain": "Enterocyte         0.505006\nStem               0.205210\nTuft               0.110819\nEnteroendocrine    0.092274\nGoblet             0.064896\nPaneth             0.021795\nName: cell_type, dtype: float64"
     },
     "execution_count": 7,
     "metadata": {},
     "output_type": "execute_result"
    }
   ],
   "source": [
    "y_train['cell_type'].value_counts(normalize=True)"
   ],
   "metadata": {
    "collapsed": false
   }
  },
  {
   "cell_type": "code",
   "execution_count": 8,
   "outputs": [
    {
     "data": {
      "text/plain": "2    0.165896\n3    0.158224\n5    0.143529\n6    0.142414\n7    0.138300\n4    0.136753\n1    0.114884\nName: day, dtype: float64"
     },
     "execution_count": 8,
     "metadata": {},
     "output_type": "execute_result"
    }
   ],
   "source": [
    "y_train['day'].value_counts(normalize=True)"
   ],
   "metadata": {
    "collapsed": false
   }
  },
  {
   "cell_type": "code",
   "execution_count": 9,
   "outputs": [
    {
     "name": "stdout",
     "output_type": "stream",
     "text": [
      "Accuracy score for cell_type(6) prediction for OrganoidDataset on all biomarkers: 0.8730889784430371\n",
      "Accuracy score for cell_type(6) prediction for OrganoidDataset on 2 principal components: 0.7289451800678053\n",
      "Accuracy score for cell_type(6) prediction for OrganoidDataset on 2 AE components with BetaVAE: 0.8047079895093712\n",
      "Accuracy score for cell_type(6) prediction for OrganoidDataset on 2 AE components with DBetaVAE: 0.8056077954753833\n",
      "Accuracy score for cell_type(6) prediction for OrganoidDataset on 2 AE components with HyperSphericalVAE: 0.8024094330369518\n",
      "Accuracy score for cell_type(6) prediction for OrganoidDataset on 2 AE components with WAE_MMD: 0.7963154864709269\n",
      "Accuracy score for day(7) prediction for OrganoidDataset on all biomarkers: 0.4340263118616602\n",
      "Accuracy score for day(7) prediction for OrganoidDataset on 2 principal components: 0.2954348706795454\n",
      "Accuracy score for day(7) prediction for OrganoidDataset on 2 AE components with BetaVAE: 0.3201646090534979\n",
      "Accuracy score for day(7) prediction for OrganoidDataset on 2 AE components with DBetaVAE: 0.3180494253608819\n",
      "Accuracy score for day(7) prediction for OrganoidDataset on 2 AE components with HyperSphericalVAE: 0.31660376553871084\n",
      "Accuracy score for day(7) prediction for OrganoidDataset on 2 AE components with WAE_MMD: 0.3160621761658031\n"
     ]
    }
   ],
   "source": [
    "import xgboost as xgb\n",
    "import sklearn\n",
    "from sklearn.decomposition import PCA\n",
    "\n",
    "for var in ['cell_type','day']:\n",
    "    n_classes = len(y_train[var].astype('category').cat.categories)\n",
    "    reg = xgb.XGBRegressor(tree_method=\"gpu_hist\", objective='multi:softmax',num_class=n_classes)\n",
    "    reg.fit(X_train, y_train[var].astype('category').cat.codes)\n",
    "    y_pred = reg.predict(X_val)\n",
    "    print(f\"Accuracy score for {var}({n_classes}) prediction for OrganoidDataset on all biomarkers:\",\n",
    "          sklearn.metrics.accuracy_score(y_val[var].astype('category').cat.codes, y_pred))\n",
    "\n",
    "    pca = PCA(n_components=2)\n",
    "    pca.fit(X_train)\n",
    "\n",
    "    reg = xgb.XGBRegressor(tree_method=\"gpu_hist\", objective='multi:softmax',num_class=n_classes)\n",
    "    reg.fit(pca.transform(X_train), y_train[var].astype('category').cat.codes)\n",
    "    y_pred = reg.predict(pca.transform(X_val))\n",
    "    print(f\"Accuracy score for {var}({n_classes}) prediction for OrganoidDataset on 2 principal components:\",\n",
    "          sklearn.metrics.accuracy_score(y_val[var].astype('category').cat.codes, y_pred))\n",
    "\n",
    "    for model_name in latent_dict['OrganoidDataset'].keys():\n",
    "        reg = xgb.XGBRegressor(tree_method=\"gpu_hist\", objective='multi:softmax',num_class=n_classes)\n",
    "        reg.fit(latent_dict['OrganoidDataset'][model_name]['train'], y_train[var].astype('category').cat.codes)\n",
    "        y_pred = reg.predict(latent_dict['OrganoidDataset'][model_name]['val'])\n",
    "        print(f\"Accuracy score for {var}({n_classes}) prediction for OrganoidDataset on 2 AE components with {model_name}:\",\n",
    "              sklearn.metrics.accuracy_score(y_val[var].astype('category').cat.codes, y_pred))"
   ],
   "metadata": {
    "collapsed": false
   }
  },
  {
   "cell_type": "code",
   "execution_count": 10,
   "outputs": [
    {
     "data": {
      "text/plain": "            index      Date Patient Culture Treatment Concentration Replicate  \\\n0         2840618  20210518       5     PDO         S             2         C   \n1         6904274  20210330      27    PDOF        VS             3         A   \n2         5478019  20210420      75     PDO         S             1         A   \n3         7230165  20210525     216    PDOF        VS             2         C   \n4         7643022  20210524     109    PDOF        VS             2         A   \n...           ...       ...     ...     ...       ...           ...       ...   \n4951201   5232280  20210608      11       F         S             1         C   \n4951202  17554307  20210524     109    PDOF         F             3         B   \n4951203   8748653  20210518       5    PDOF         L             1         A   \n4951204  17634951  20210524     109       F         F             4         B   \n4951205  23479085  20210518      23    PDOF       CSF             4         C   \n\n        Cell_type      pPKCa Plate  Batch  \n0            PDOs  48.466751   SLV      1  \n1            PDOs        NaN   SLV      1  \n2            PDOs        NaN   SLV      1  \n3            Fibs   8.220644   SLV      1  \n4            Fibs  27.408182   SLV      1  \n...           ...        ...   ...    ...  \n4951201      Fibs  56.341122   SLV      1  \n4951202      PDOs  70.352081   CSF      1  \n4951203      Fibs   4.410349   SLV      1  \n4951204      Fibs  24.214802   CSF      1  \n4951205      Fibs  41.338696   CSF      1  \n\n[4951206 rows x 11 columns]",
      "text/html": "<div>\n<style scoped>\n    .dataframe tbody tr th:only-of-type {\n        vertical-align: middle;\n    }\n\n    .dataframe tbody tr th {\n        vertical-align: top;\n    }\n\n    .dataframe thead th {\n        text-align: right;\n    }\n</style>\n<table border=\"1\" class=\"dataframe\">\n  <thead>\n    <tr style=\"text-align: right;\">\n      <th></th>\n      <th>index</th>\n      <th>Date</th>\n      <th>Patient</th>\n      <th>Culture</th>\n      <th>Treatment</th>\n      <th>Concentration</th>\n      <th>Replicate</th>\n      <th>Cell_type</th>\n      <th>pPKCa</th>\n      <th>Plate</th>\n      <th>Batch</th>\n    </tr>\n  </thead>\n  <tbody>\n    <tr>\n      <th>0</th>\n      <td>2840618</td>\n      <td>20210518</td>\n      <td>5</td>\n      <td>PDO</td>\n      <td>S</td>\n      <td>2</td>\n      <td>C</td>\n      <td>PDOs</td>\n      <td>48.466751</td>\n      <td>SLV</td>\n      <td>1</td>\n    </tr>\n    <tr>\n      <th>1</th>\n      <td>6904274</td>\n      <td>20210330</td>\n      <td>27</td>\n      <td>PDOF</td>\n      <td>VS</td>\n      <td>3</td>\n      <td>A</td>\n      <td>PDOs</td>\n      <td>NaN</td>\n      <td>SLV</td>\n      <td>1</td>\n    </tr>\n    <tr>\n      <th>2</th>\n      <td>5478019</td>\n      <td>20210420</td>\n      <td>75</td>\n      <td>PDO</td>\n      <td>S</td>\n      <td>1</td>\n      <td>A</td>\n      <td>PDOs</td>\n      <td>NaN</td>\n      <td>SLV</td>\n      <td>1</td>\n    </tr>\n    <tr>\n      <th>3</th>\n      <td>7230165</td>\n      <td>20210525</td>\n      <td>216</td>\n      <td>PDOF</td>\n      <td>VS</td>\n      <td>2</td>\n      <td>C</td>\n      <td>Fibs</td>\n      <td>8.220644</td>\n      <td>SLV</td>\n      <td>1</td>\n    </tr>\n    <tr>\n      <th>4</th>\n      <td>7643022</td>\n      <td>20210524</td>\n      <td>109</td>\n      <td>PDOF</td>\n      <td>VS</td>\n      <td>2</td>\n      <td>A</td>\n      <td>Fibs</td>\n      <td>27.408182</td>\n      <td>SLV</td>\n      <td>1</td>\n    </tr>\n    <tr>\n      <th>...</th>\n      <td>...</td>\n      <td>...</td>\n      <td>...</td>\n      <td>...</td>\n      <td>...</td>\n      <td>...</td>\n      <td>...</td>\n      <td>...</td>\n      <td>...</td>\n      <td>...</td>\n      <td>...</td>\n    </tr>\n    <tr>\n      <th>4951201</th>\n      <td>5232280</td>\n      <td>20210608</td>\n      <td>11</td>\n      <td>F</td>\n      <td>S</td>\n      <td>1</td>\n      <td>C</td>\n      <td>Fibs</td>\n      <td>56.341122</td>\n      <td>SLV</td>\n      <td>1</td>\n    </tr>\n    <tr>\n      <th>4951202</th>\n      <td>17554307</td>\n      <td>20210524</td>\n      <td>109</td>\n      <td>PDOF</td>\n      <td>F</td>\n      <td>3</td>\n      <td>B</td>\n      <td>PDOs</td>\n      <td>70.352081</td>\n      <td>CSF</td>\n      <td>1</td>\n    </tr>\n    <tr>\n      <th>4951203</th>\n      <td>8748653</td>\n      <td>20210518</td>\n      <td>5</td>\n      <td>PDOF</td>\n      <td>L</td>\n      <td>1</td>\n      <td>A</td>\n      <td>Fibs</td>\n      <td>4.410349</td>\n      <td>SLV</td>\n      <td>1</td>\n    </tr>\n    <tr>\n      <th>4951204</th>\n      <td>17634951</td>\n      <td>20210524</td>\n      <td>109</td>\n      <td>F</td>\n      <td>F</td>\n      <td>4</td>\n      <td>B</td>\n      <td>Fibs</td>\n      <td>24.214802</td>\n      <td>CSF</td>\n      <td>1</td>\n    </tr>\n    <tr>\n      <th>4951205</th>\n      <td>23479085</td>\n      <td>20210518</td>\n      <td>23</td>\n      <td>PDOF</td>\n      <td>CSF</td>\n      <td>4</td>\n      <td>C</td>\n      <td>Fibs</td>\n      <td>41.338696</td>\n      <td>CSF</td>\n      <td>1</td>\n    </tr>\n  </tbody>\n</table>\n<p>4951206 rows × 11 columns</p>\n</div>"
     },
     "execution_count": 10,
     "metadata": {},
     "output_type": "execute_result"
    }
   ],
   "source": [
    "from datasets import CafDataset\n",
    "data = CafDataset(data_dir='../data/caf/')\n",
    "X_train,y_train = data.train\n",
    "X_val,y_val = data.val\n",
    "y_val"
   ],
   "metadata": {
    "collapsed": false
   }
  },
  {
   "cell_type": "code",
   "execution_count": 11,
   "outputs": [
    {
     "data": {
      "text/plain": "109    0.156703\n216    0.125141\n11     0.119648\n23     0.115158\n5      0.107257\n141    0.091459\n27     0.082281\n99     0.068535\n75     0.067918\n21     0.065899\nName: Patient, dtype: float64"
     },
     "execution_count": 11,
     "metadata": {},
     "output_type": "execute_result"
    }
   ],
   "source": [
    "y_train['Patient'].value_counts(normalize=True)"
   ],
   "metadata": {
    "collapsed": false
   }
  },
  {
   "cell_type": "code",
   "execution_count": 12,
   "outputs": [
    {
     "data": {
      "text/plain": "PDOF    0.429550\nF       0.350909\nPDO     0.219541\nName: Culture, dtype: float64"
     },
     "execution_count": 12,
     "metadata": {},
     "output_type": "execute_result"
    }
   ],
   "source": [
    "y_train['Culture'].value_counts(normalize=True)"
   ],
   "metadata": {
    "collapsed": false
   }
  },
  {
   "cell_type": "code",
   "execution_count": 13,
   "outputs": [
    {
     "data": {
      "text/plain": "F       0.147379\nL       0.146690\nS       0.134319\nVS      0.105978\nO       0.101107\nDMSO    0.076687\nV       0.040261\nC       0.039759\nAH      0.038987\nCS      0.035903\nCF      0.034394\nCSF     0.034107\nSF      0.033300\nH2O     0.031130\nName: Treatment, dtype: float64"
     },
     "execution_count": 13,
     "metadata": {},
     "output_type": "execute_result"
    }
   ],
   "source": [
    "y_train['Treatment'].value_counts(normalize=True)"
   ],
   "metadata": {
    "collapsed": false
   }
  },
  {
   "cell_type": "code",
   "execution_count": 14,
   "outputs": [
    {
     "name": "stdout",
     "output_type": "stream",
     "text": [
      "Accuracy score for Patient(10) prediction for CafDataset on all biomarkers: 0.8986951865868639\n",
      "Accuracy score for Patient(10) prediction for CafDataset on 2 principal components: 0.265859469389882\n",
      "Accuracy score for Patient(10) prediction for CafDataset on 2 AE components with WAE_MMD: 0.6426060640579285\n",
      "Accuracy score for Patient(10) prediction for CafDataset on 2 AE components with BetaVAE: 0.6842409707857036\n",
      "Accuracy score for Patient(10) prediction for CafDataset on 2 AE components with HyperSphericalVAE: 0.6989406217394307\n",
      "Accuracy score for Patient(10) prediction for CafDataset on 2 AE components with DBetaVAE: 0.662182304674861\n",
      "Accuracy score for Culture(3) prediction for CafDataset on all biomarkers: 0.6988822521220083\n",
      "Accuracy score for Culture(3) prediction for CafDataset on 2 principal components: 0.5726182671454187\n",
      "Accuracy score for Culture(3) prediction for CafDataset on 2 AE components with WAE_MMD: 0.6076176188185263\n",
      "Accuracy score for Culture(3) prediction for CafDataset on 2 AE components with BetaVAE: 0.6102917147862561\n",
      "Accuracy score for Culture(3) prediction for CafDataset on 2 AE components with HyperSphericalVAE: 0.613160106850735\n",
      "Accuracy score for Culture(3) prediction for CafDataset on 2 AE components with DBetaVAE: 0.6043887085287908\n",
      "Accuracy score for Treatment(14) prediction for CafDataset on all biomarkers: 0.3590250536939889\n",
      "Accuracy score for Treatment(14) prediction for CafDataset on 2 principal components: 0.1842631875951031\n",
      "Accuracy score for Treatment(14) prediction for CafDataset on 2 AE components with WAE_MMD: 0.2830532601552026\n",
      "Accuracy score for Treatment(14) prediction for CafDataset on 2 AE components with BetaVAE: 0.2897516281891725\n",
      "Accuracy score for Treatment(14) prediction for CafDataset on 2 AE components with HyperSphericalVAE: 0.2972281904651109\n",
      "Accuracy score for Treatment(14) prediction for CafDataset on 2 AE components with DBetaVAE: 0.28505317694315285\n"
     ]
    }
   ],
   "source": [
    "for var in ['Patient','Culture','Treatment']:\n",
    "    n_classes = len(y_train[var].astype('category').cat.categories)\n",
    "    reg = xgb.XGBRegressor(tree_method=\"gpu_hist\", objective='multi:softmax',num_class=n_classes)\n",
    "    reg.fit(X_train, y_train[var].astype('category').cat.codes)\n",
    "    y_pred = reg.predict(X_val)\n",
    "    print(f\"Accuracy score for {var}({n_classes}) prediction for CafDataset on all biomarkers:\",\n",
    "          sklearn.metrics.accuracy_score(y_val[var].astype('category').cat.codes, y_pred))\n",
    "\n",
    "    pca = PCA(n_components=2)\n",
    "    pca.fit(X_train)\n",
    "\n",
    "    reg = xgb.XGBRegressor(tree_method=\"gpu_hist\", objective='multi:softmax',num_class=n_classes)\n",
    "    reg.fit(pca.transform(X_train), y_train[var].astype('category').cat.codes)\n",
    "    y_pred = reg.predict(pca.transform(X_val))\n",
    "    print(f\"Accuracy score for {var}({n_classes}) prediction for CafDataset on 2 principal components:\",\n",
    "          sklearn.metrics.accuracy_score(y_val[var].astype('category').cat.codes, y_pred))\n",
    "\n",
    "    for model_name in latent_dict['CafDataset'].keys():\n",
    "        reg = xgb.XGBRegressor(tree_method=\"gpu_hist\", objective='multi:softmax',num_class=n_classes)\n",
    "        reg.fit(latent_dict['CafDataset'][model_name]['train'], y_train[var].astype('category').cat.codes)\n",
    "        y_pred = reg.predict(latent_dict['CafDataset'][model_name]['val'])\n",
    "        print(f\"Accuracy score for {var}({n_classes}) prediction for CafDataset on 2 AE components with {model_name}:\",\n",
    "              sklearn.metrics.accuracy_score(y_val[var].astype('category').cat.codes, y_pred))"
   ],
   "metadata": {
    "collapsed": false
   }
  },
  {
   "cell_type": "code",
   "execution_count": 15,
   "outputs": [
    {
     "data": {
      "text/plain": "          index treatment cell_line  time  cellID  fileID\n0        855587      full    MCF10F   0.0   28353    2000\n1        364135      iPKC    HBL100  60.0    3115    1531\n2        356676     iPI3K     OCUBM   0.0    4744    2464\n3        248118      iMEK    HBL100  40.0    4960    1513\n4        142322      iMEK     EVSAT   0.0     898    1892\n...         ...       ...       ...   ...     ...     ...\n2204463  224723      iMEK     184A1  13.0    2845    2676\n2204464  121261       EGF    CAL851  60.0      36    1451\n2204465  350172      iPKC     CAL51   0.0    6718    1217\n2204466  350589      iPKC    MCF10F  17.0    2249     395\n2204467  157893     iEGFR    HBL100   9.0    1818    1515\n\n[2204468 rows x 6 columns]",
      "text/html": "<div>\n<style scoped>\n    .dataframe tbody tr th:only-of-type {\n        vertical-align: middle;\n    }\n\n    .dataframe tbody tr th {\n        vertical-align: top;\n    }\n\n    .dataframe thead th {\n        text-align: right;\n    }\n</style>\n<table border=\"1\" class=\"dataframe\">\n  <thead>\n    <tr style=\"text-align: right;\">\n      <th></th>\n      <th>index</th>\n      <th>treatment</th>\n      <th>cell_line</th>\n      <th>time</th>\n      <th>cellID</th>\n      <th>fileID</th>\n    </tr>\n  </thead>\n  <tbody>\n    <tr>\n      <th>0</th>\n      <td>855587</td>\n      <td>full</td>\n      <td>MCF10F</td>\n      <td>0.0</td>\n      <td>28353</td>\n      <td>2000</td>\n    </tr>\n    <tr>\n      <th>1</th>\n      <td>364135</td>\n      <td>iPKC</td>\n      <td>HBL100</td>\n      <td>60.0</td>\n      <td>3115</td>\n      <td>1531</td>\n    </tr>\n    <tr>\n      <th>2</th>\n      <td>356676</td>\n      <td>iPI3K</td>\n      <td>OCUBM</td>\n      <td>0.0</td>\n      <td>4744</td>\n      <td>2464</td>\n    </tr>\n    <tr>\n      <th>3</th>\n      <td>248118</td>\n      <td>iMEK</td>\n      <td>HBL100</td>\n      <td>40.0</td>\n      <td>4960</td>\n      <td>1513</td>\n    </tr>\n    <tr>\n      <th>4</th>\n      <td>142322</td>\n      <td>iMEK</td>\n      <td>EVSAT</td>\n      <td>0.0</td>\n      <td>898</td>\n      <td>1892</td>\n    </tr>\n    <tr>\n      <th>...</th>\n      <td>...</td>\n      <td>...</td>\n      <td>...</td>\n      <td>...</td>\n      <td>...</td>\n      <td>...</td>\n    </tr>\n    <tr>\n      <th>2204463</th>\n      <td>224723</td>\n      <td>iMEK</td>\n      <td>184A1</td>\n      <td>13.0</td>\n      <td>2845</td>\n      <td>2676</td>\n    </tr>\n    <tr>\n      <th>2204464</th>\n      <td>121261</td>\n      <td>EGF</td>\n      <td>CAL851</td>\n      <td>60.0</td>\n      <td>36</td>\n      <td>1451</td>\n    </tr>\n    <tr>\n      <th>2204465</th>\n      <td>350172</td>\n      <td>iPKC</td>\n      <td>CAL51</td>\n      <td>0.0</td>\n      <td>6718</td>\n      <td>1217</td>\n    </tr>\n    <tr>\n      <th>2204466</th>\n      <td>350589</td>\n      <td>iPKC</td>\n      <td>MCF10F</td>\n      <td>17.0</td>\n      <td>2249</td>\n      <td>395</td>\n    </tr>\n    <tr>\n      <th>2204467</th>\n      <td>157893</td>\n      <td>iEGFR</td>\n      <td>HBL100</td>\n      <td>9.0</td>\n      <td>1818</td>\n      <td>1515</td>\n    </tr>\n  </tbody>\n</table>\n<p>2204468 rows × 6 columns</p>\n</div>"
     },
     "execution_count": 15,
     "metadata": {},
     "output_type": "execute_result"
    }
   ],
   "source": [
    "from datasets import ChallengeDataset\n",
    "data = ChallengeDataset(data_dir='../data/breast_cancer_challenge/')\n",
    "X_train,y_train = data.train\n",
    "X_val,y_val = data.val\n",
    "y_val"
   ],
   "metadata": {
    "collapsed": false
   }
  },
  {
   "cell_type": "code",
   "execution_count": 16,
   "outputs": [
    {
     "data": {
      "text/plain": "EGF      0.286634\niPI3K    0.188677\niEGFR    0.177923\niPKC     0.155368\niMEK     0.149207\nfull     0.042192\nName: treatment, dtype: float64"
     },
     "execution_count": 16,
     "metadata": {},
     "output_type": "execute_result"
    }
   ],
   "source": [
    "y_train['treatment'].value_counts(normalize=True)"
   ],
   "metadata": {
    "collapsed": false
   }
  },
  {
   "cell_type": "code",
   "execution_count": 17,
   "outputs": [
    {
     "data": {
      "text/plain": "MCF10F         0.082939\nMCF10A         0.051125\nHCC2185        0.050523\nHCC2157        0.048433\nMX1            0.044457\nMPE600         0.042415\nZR7530         0.041559\nCAL851         0.040501\nOCUBM          0.040390\nHCC3153        0.038702\nBT474          0.038168\nUACC812        0.037531\nBT20           0.037402\nHDQP1          0.037086\nCAL51          0.036507\nJIMT1          0.034318\nEFM192A        0.033857\n184A1          0.033757\nHBL100         0.033320\nMCF7           0.033261\nMFM223         0.032877\nMDAMB415       0.031609\nEVSAT          0.025269\nCAL148         0.022048\nMDAMB157       0.015586\nMDAMB175VII    0.014699\nDU4475         0.014057\nHCC1599        0.007604\nName: cell_line, dtype: float64"
     },
     "execution_count": 17,
     "metadata": {},
     "output_type": "execute_result"
    }
   ],
   "source": [
    "y_train['cell_line'].value_counts(normalize=True)"
   ],
   "metadata": {
    "collapsed": false
   }
  },
  {
   "cell_type": "code",
   "execution_count": 29,
   "outputs": [
    {
     "name": "stdout",
     "output_type": "stream",
     "text": [
      "Accuracy score for treatment(6) prediction for ChallengeDataset on all biomarkers: 0.4927828392156294\n",
      "Accuracy score for treatment(6) prediction for ChallengeDataset on 2 principal components: 0.28790256878303516\n",
      "Accuracy score for treatment(6) prediction for ChallengeDataset on 2 AE components with BetaVAE: 0.3215764529129023\n",
      "Accuracy score for treatment(6) prediction for ChallengeDataset on 2 AE components with WAE_MMD: 0.33624212281602633\n",
      "Accuracy score for treatment(6) prediction for ChallengeDataset on 2 AE components with HyperSphericalVAE: 0.3266311872070722\n",
      "Accuracy score for treatment(6) prediction for ChallengeDataset on 2 AE components with DBetaVAE: 0.3136266890696531\n",
      "Accuracy score for cell_line(28) prediction for ChallengeDataset on all biomarkers: 0.855706682972944\n",
      "Accuracy score for cell_line(28) prediction for ChallengeDataset on 2 principal components: 0.15130725417651786\n",
      "Accuracy score for cell_line(28) prediction for ChallengeDataset on 2 AE components with BetaVAE: 0.47515364251148123\n",
      "Accuracy score for cell_line(28) prediction for ChallengeDataset on 2 AE components with WAE_MMD: 0.48117006007798707\n",
      "Accuracy score for cell_line(28) prediction for ChallengeDataset on 2 AE components with HyperSphericalVAE: 0.5323942103038012\n",
      "Accuracy score for cell_line(28) prediction for ChallengeDataset on 2 AE components with DBetaVAE: 0.48636224250023136\n"
     ]
    }
   ],
   "source": [
    "for var in ['treatment','cell_line']:\n",
    "    n_classes = len(y_train[var].astype('category').cat.categories)\n",
    "    reg = xgb.XGBRegressor(tree_method=\"gpu_hist\", objective='multi:softmax',num_class=n_classes)\n",
    "    reg.fit(X_train, y_train[var].astype('category').cat.codes)\n",
    "    y_pred = reg.predict(X_val)\n",
    "    print(f\"Accuracy score for {var}({n_classes}) prediction for ChallengeDataset on all biomarkers:\",\n",
    "          sklearn.metrics.accuracy_score(y_val[var].astype('category').cat.codes, y_pred))\n",
    "\n",
    "    pca = PCA(n_components=2)\n",
    "    pca.fit(X_train)\n",
    "\n",
    "    reg = xgb.XGBRegressor(tree_method=\"gpu_hist\", objective='multi:softmax',num_class=n_classes)\n",
    "    reg.fit(pca.transform(X_train), y_train[var].astype('category').cat.codes)\n",
    "    y_pred = reg.predict(pca.transform(X_val))\n",
    "    print(f\"Accuracy score for {var}({n_classes}) prediction for ChallengeDataset on 2 principal components:\",\n",
    "          sklearn.metrics.accuracy_score(y_val[var].astype('category').cat.codes, y_pred))\n",
    "\n",
    "    for model_name in latent_dict['ChallengeDataset'].keys():\n",
    "        reg = xgb.XGBRegressor(tree_method=\"gpu_hist\", objective='multi:softmax',num_class=n_classes)\n",
    "        reg.fit(latent_dict['ChallengeDataset'][model_name]['train'], y_train[var].astype('category').cat.codes)\n",
    "        y_pred = reg.predict(latent_dict['ChallengeDataset'][model_name]['val'])\n",
    "        print(f\"Accuracy score for {var}({n_classes}) prediction for ChallengeDataset on 2 AE components with {model_name}:\",\n",
    "              sklearn.metrics.accuracy_score(y_val[var].astype('category').cat.codes, y_pred))\n",
    "\n",
    "    reg = xgb.XGBRegressor(tree_method=\"gpu_hist\", objective='multi:softmax',num_class=n_classes)\n"
   ],
   "metadata": {
    "collapsed": false
   }
  },
  {
   "cell_type": "code",
   "execution_count": null,
   "outputs": [],
   "source": [],
   "metadata": {
    "collapsed": false
   }
  }
 ],
 "metadata": {
  "kernelspec": {
   "display_name": "Python 3",
   "language": "python",
   "name": "python3"
  },
  "language_info": {
   "codemirror_mode": {
    "name": "ipython",
    "version": 2
   },
   "file_extension": ".py",
   "mimetype": "text/x-python",
   "name": "python",
   "nbconvert_exporter": "python",
   "pygments_lexer": "ipython2",
   "version": "2.7.6"
  }
 },
 "nbformat": 4,
 "nbformat_minor": 0
}
