{
 "cells": [
  {
   "cell_type": "code",
   "execution_count": 3,
   "metadata": {
    "collapsed": true
   },
   "outputs": [
    {
     "data": {
      "text/plain": "[('CafDataset',\n  'HyperSphericalVAE',\n  'dim5',\n  '/data/PycharmProjects/cytof_benchmark/results/latent_data/dim5/HyperSphericalVAE/CafDataset/test.csv'),\n ('ChallengeDataset',\n  'HyperSphericalVAE',\n  'dim5',\n  '/data/PycharmProjects/cytof_benchmark/results/latent_data/dim5/HyperSphericalVAE/ChallengeDataset/test.csv'),\n ('OrganoidDataset',\n  'HyperSphericalVAE',\n  'dim5',\n  '/data/PycharmProjects/cytof_benchmark/results/latent_data/dim5/HyperSphericalVAE/OrganoidDataset/test.csv'),\n ('CafDataset',\n  'DBetaVAE',\n  'dim5',\n  '/data/PycharmProjects/cytof_benchmark/results/latent_data/dim5/DBetaVAE/CafDataset/test.csv'),\n ('ChallengeDataset',\n  'DBetaVAE',\n  'dim5',\n  '/data/PycharmProjects/cytof_benchmark/results/latent_data/dim5/DBetaVAE/ChallengeDataset/test.csv'),\n ('OrganoidDataset',\n  'DBetaVAE',\n  'dim5',\n  '/data/PycharmProjects/cytof_benchmark/results/latent_data/dim5/DBetaVAE/OrganoidDataset/test.csv'),\n ('CafDataset',\n  'WAE_MMD',\n  'dim5',\n  '/data/PycharmProjects/cytof_benchmark/results/latent_data/dim5/WAE_MMD/CafDataset/test.csv'),\n ('ChallengeDataset',\n  'WAE_MMD',\n  'dim5',\n  '/data/PycharmProjects/cytof_benchmark/results/latent_data/dim5/WAE_MMD/ChallengeDataset/test.csv'),\n ('OrganoidDataset',\n  'WAE_MMD',\n  'dim5',\n  '/data/PycharmProjects/cytof_benchmark/results/latent_data/dim5/WAE_MMD/OrganoidDataset/test.csv'),\n ('CafDataset',\n  'BetaVAE',\n  'dim5',\n  '/data/PycharmProjects/cytof_benchmark/results/latent_data/dim5/BetaVAE/CafDataset/test.csv'),\n ('ChallengeDataset',\n  'BetaVAE',\n  'dim5',\n  '/data/PycharmProjects/cytof_benchmark/results/latent_data/dim5/BetaVAE/ChallengeDataset/test.csv'),\n ('OrganoidDataset',\n  'BetaVAE',\n  'dim5',\n  '/data/PycharmProjects/cytof_benchmark/results/latent_data/dim5/BetaVAE/OrganoidDataset/test.csv'),\n ('CafDataset',\n  'HyperSphericalVAE',\n  'dim2',\n  '/data/PycharmProjects/cytof_benchmark/results/latent_data/dim2/HyperSphericalVAE/CafDataset/test.csv'),\n ('ChallengeDataset',\n  'HyperSphericalVAE',\n  'dim2',\n  '/data/PycharmProjects/cytof_benchmark/results/latent_data/dim2/HyperSphericalVAE/ChallengeDataset/test.csv'),\n ('OrganoidDataset',\n  'HyperSphericalVAE',\n  'dim2',\n  '/data/PycharmProjects/cytof_benchmark/results/latent_data/dim2/HyperSphericalVAE/OrganoidDataset/test.csv'),\n ('CafDataset',\n  'DBetaVAE',\n  'dim2',\n  '/data/PycharmProjects/cytof_benchmark/results/latent_data/dim2/DBetaVAE/CafDataset/test.csv'),\n ('ChallengeDataset',\n  'DBetaVAE',\n  'dim2',\n  '/data/PycharmProjects/cytof_benchmark/results/latent_data/dim2/DBetaVAE/ChallengeDataset/test.csv'),\n ('OrganoidDataset',\n  'DBetaVAE',\n  'dim2',\n  '/data/PycharmProjects/cytof_benchmark/results/latent_data/dim2/DBetaVAE/OrganoidDataset/test.csv'),\n ('CafDataset',\n  'WAE_MMD',\n  'dim2',\n  '/data/PycharmProjects/cytof_benchmark/results/latent_data/dim2/WAE_MMD/CafDataset/test.csv'),\n ('ChallengeDataset',\n  'WAE_MMD',\n  'dim2',\n  '/data/PycharmProjects/cytof_benchmark/results/latent_data/dim2/WAE_MMD/ChallengeDataset/test.csv'),\n ('OrganoidDataset',\n  'WAE_MMD',\n  'dim2',\n  '/data/PycharmProjects/cytof_benchmark/results/latent_data/dim2/WAE_MMD/OrganoidDataset/test.csv'),\n ('CafDataset',\n  'BetaVAE',\n  'dim2',\n  '/data/PycharmProjects/cytof_benchmark/results/latent_data/dim2/BetaVAE/CafDataset/test.csv'),\n ('ChallengeDataset',\n  'BetaVAE',\n  'dim2',\n  '/data/PycharmProjects/cytof_benchmark/results/latent_data/dim2/BetaVAE/ChallengeDataset/test.csv'),\n ('OrganoidDataset',\n  'BetaVAE',\n  'dim2',\n  '/data/PycharmProjects/cytof_benchmark/results/latent_data/dim2/BetaVAE/OrganoidDataset/test.csv'),\n ('CafDataset',\n  'HyperSphericalVAE',\n  'dim3',\n  '/data/PycharmProjects/cytof_benchmark/results/latent_data/dim3/HyperSphericalVAE/CafDataset/test.csv'),\n ('ChallengeDataset',\n  'HyperSphericalVAE',\n  'dim3',\n  '/data/PycharmProjects/cytof_benchmark/results/latent_data/dim3/HyperSphericalVAE/ChallengeDataset/test.csv'),\n ('OrganoidDataset',\n  'HyperSphericalVAE',\n  'dim3',\n  '/data/PycharmProjects/cytof_benchmark/results/latent_data/dim3/HyperSphericalVAE/OrganoidDataset/test.csv'),\n ('CafDataset',\n  'DBetaVAE',\n  'dim3',\n  '/data/PycharmProjects/cytof_benchmark/results/latent_data/dim3/DBetaVAE/CafDataset/test.csv'),\n ('ChallengeDataset',\n  'DBetaVAE',\n  'dim3',\n  '/data/PycharmProjects/cytof_benchmark/results/latent_data/dim3/DBetaVAE/ChallengeDataset/test.csv'),\n ('OrganoidDataset',\n  'DBetaVAE',\n  'dim3',\n  '/data/PycharmProjects/cytof_benchmark/results/latent_data/dim3/DBetaVAE/OrganoidDataset/test.csv'),\n ('CafDataset',\n  'WAE_MMD',\n  'dim3',\n  '/data/PycharmProjects/cytof_benchmark/results/latent_data/dim3/WAE_MMD/CafDataset/test.csv'),\n ('ChallengeDataset',\n  'WAE_MMD',\n  'dim3',\n  '/data/PycharmProjects/cytof_benchmark/results/latent_data/dim3/WAE_MMD/ChallengeDataset/test.csv'),\n ('OrganoidDataset',\n  'WAE_MMD',\n  'dim3',\n  '/data/PycharmProjects/cytof_benchmark/results/latent_data/dim3/WAE_MMD/OrganoidDataset/test.csv'),\n ('CafDataset',\n  'BetaVAE',\n  'dim3',\n  '/data/PycharmProjects/cytof_benchmark/results/latent_data/dim3/BetaVAE/CafDataset/test.csv'),\n ('ChallengeDataset',\n  'BetaVAE',\n  'dim3',\n  '/data/PycharmProjects/cytof_benchmark/results/latent_data/dim3/BetaVAE/ChallengeDataset/test.csv'),\n ('OrganoidDataset',\n  'BetaVAE',\n  'dim3',\n  '/data/PycharmProjects/cytof_benchmark/results/latent_data/dim3/BetaVAE/OrganoidDataset/test.csv')]"
     },
     "execution_count": 3,
     "metadata": {},
     "output_type": "execute_result"
    }
   ],
   "source": [
    "import sys\n",
    "if \"..\" not in sys.path:\n",
    "    sys.path.insert(0, \"..\")\n",
    "\n",
    "import glob\n",
    "\n",
    "latents_dir = \"/data/PycharmProjects/cytof_benchmark/results/latent_data/\"\n",
    "latent_files = glob.glob(latents_dir + \"*/*/*/test.csv\")\n",
    "\n",
    "dataset_dirs = {\n",
    "    'OrganoidDataset':'/data/PycharmProjects/cytof_benchmark/data/organoids',\n",
    "    'CafDataset':'/data/PycharmProjects/cytof_benchmark/data/caf',\n",
    "    'ChallengeDataset':'/data/PycharmProjects/cytof_benchmark/data/breast_cancer_challenge',\n",
    "}\n",
    "\n",
    "latents_list = list()\n",
    "for latent_file in latent_files:\n",
    "    dataset = latent_file.split('/')[-2]\n",
    "    model = latent_file.split('/')[-3]\n",
    "    dim = latent_file.split('/')[-4]\n",
    "    latents_list.append((dataset,model,dim,latent_file))\n",
    "latents_list"
   ]
  },
  {
   "cell_type": "code",
   "execution_count": 5,
   "outputs": [
    {
     "name": "stderr",
     "output_type": "stream",
     "text": [
      " 33%|███▎      | 12/36 [19:42<33:05, 82.71s/it]  /data/PycharmProjects/cytof_benchmark/venv/lib/python3.10/site-packages/pandas/core/dtypes/cast.py:127: ShapelyDeprecationWarning: The array interface is deprecated and will no longer work in Shapely 2.0. Convert the '.coords' to a numpy array instead.\n",
      "  arr = construct_1d_object_array_from_listlike(values)\n",
      " 36%|███▌      | 13/36 [32:30<1:51:18, 290.38s/it]/data/PycharmProjects/cytof_benchmark/venv/lib/python3.10/site-packages/pandas/core/dtypes/cast.py:127: ShapelyDeprecationWarning:\n",
      "\n",
      "The array interface is deprecated and will no longer work in Shapely 2.0. Convert the '.coords' to a numpy array instead.\n",
      "\n",
      " 39%|███▉      | 14/36 [37:05<1:44:48, 285.84s/it]/data/PycharmProjects/cytof_benchmark/venv/lib/python3.10/site-packages/pandas/core/dtypes/cast.py:127: ShapelyDeprecationWarning:\n",
      "\n",
      "The array interface is deprecated and will no longer work in Shapely 2.0. Convert the '.coords' to a numpy array instead.\n",
      "\n",
      "100%|██████████| 36/36 [1:00:39<00:00, 101.08s/it]\n"
     ]
    },
    {
     "data": {
      "text/plain": "<Figure size 1200x1200 with 0 Axes>"
     },
     "metadata": {},
     "output_type": "display_data"
    }
   ],
   "source": [
    "import pandas as pd\n",
    "import seaborn as sns\n",
    "import matplotlib.pyplot as plt\n",
    "from pathlib import Path\n",
    "from tqdm import tqdm\n",
    "import datasets\n",
    "\n",
    "metadata_dict = dict()\n",
    "save_dir = Path('/data/PycharmProjects/cytof_benchmark/results/latent_plots')\n",
    "\n",
    "for dataset_name,model_name,dim_name,latent_path in tqdm(latents_list):\n",
    "    if dataset_name not in metadata_dict:\n",
    "        dataset_class = getattr(datasets, dataset_name)\n",
    "        dataset_dir = dataset_dirs[dataset_name]\n",
    "\n",
    "        dataset = dataset_class(data_dir=dataset_dir)\n",
    "        metadata_dict[dataset_name] = dataset.test[1]\n",
    "\n",
    "    y_test = metadata_dict[dataset_name]\n",
    "    latent_df = pd.read_csv(latent_path,index_col=0)\n",
    "    latent_dim = int(dim_name[-1])\n",
    "\n",
    "    for variable_name in y_test.columns:\n",
    "\n",
    "        plot_data = pd.concat([latent_df, y_test], axis=1).head(100000)[['VAE1','VAE2',variable_name]]\n",
    "        sns.set(rc={'figure.figsize':(12,12)})\n",
    "        dot_plot = sns.scatterplot(x=\"VAE1\", y=\"VAE2\",\n",
    "                                   data=plot_data,\n",
    "                                   hue=variable_name,\n",
    "                                   legend=True,\n",
    "                                   alpha=0.5)\n",
    "        plot_file = save_dir / dim_name / model_name / dataset_name / (variable_name +'_VAE12.png')\n",
    "        plot_file.parent.mkdir(parents=True, exist_ok=True)\n",
    "        if latent_dim==2:\n",
    "            plot_data.to_csv(save_dir / dim_name / model_name / dataset_name / (variable_name +'_plot.csv'),index=None)\n",
    "        plt.savefig(plot_file)\n",
    "        plt.clf()\n",
    "\n",
    "        # UMAP plot\n",
    "    if latent_dim > 2 or model_name == 'HyperSphericalVAE':\n",
    "        import umap\n",
    "        import umap.plot\n",
    "        from bokeh.io import save\n",
    "        umap_points = 100000\n",
    "        u = pd.DataFrame(umap.UMAP(low_memory=False, n_jobs=8).fit_transform(latent_df.head(umap_points)),columns=['UMAP1','UMAP2'])\n",
    "        for variable_name in y_test.columns:\n",
    "            umap_data = pd.concat([u, y_test], axis=1).head(umap_points)[['UMAP1','UMAP2',variable_name]]\n",
    "            sns.set(rc={'figure.figsize':(12,12)})\n",
    "            dot_plot = sns.scatterplot(x='UMAP1', y='UMAP2',\n",
    "                                   data=umap_data,\n",
    "                                   hue=variable_name,\n",
    "                                   legend=True,\n",
    "                                   alpha=0.5)\n",
    "            plt.savefig(save_dir / dim_name / model_name / dataset_name / (variable_name +'_umap.png'))\n",
    "            if not (model_name == 'HyperSphericalVAE' and latent_dim == 2):\n",
    "                umap_data.to_csv(save_dir / dim_name / model_name / dataset_name / (variable_name +'_plot.csv'),index=None)\n",
    "            plt.clf()\n",
    "\n",
    "    # Spherical plots\n",
    "    if model_name == 'HyperSphericalVAE' and latent_dim == 2:\n",
    "        import cartopy\n",
    "        import geopandas\n",
    "        from shapely.geometry import Point\n",
    "        import plotly.express as px\n",
    "\n",
    "        sphere = geopandas.GeoSeries(latent_df.apply(Point, axis=1), crs=cartopy.crs.Geocentric())\n",
    "        projected = sphere.to_crs(cartopy.crs.Mollweide())\n",
    "        for variable_name in y_test.columns:\n",
    "            data = pd.DataFrame({'x': projected.x,\n",
    "                                'y': projected.y,\n",
    "                                variable_name: y_test[variable_name]\n",
    "                                 })\n",
    "\n",
    "            # 2d projection plot\n",
    "            sns.scatterplot(x=\"x\", y=\"y\",\n",
    "                    data=data.head(10000),\n",
    "                    hue=variable_name,  # color by cluster\n",
    "                    legend=True,\n",
    "                    alpha=0.5)\n",
    "            plt.axis('equal')\n",
    "            plt.savefig(save_dir / dim_name / model_name / dataset_name / (variable_name +'_projected.png'))\n",
    "            data.to_csv(save_dir / dim_name / model_name / dataset_name / (variable_name +'_plot.csv'))\n",
    "            plt.clf()\n",
    "            # 3d point cloud plot\n",
    "            plot_data = pd.concat([latent_df, y_test], axis=1).head(10000)\n",
    "            fig = px.scatter_3d(plot_data, x='VAE1', y='VAE2', z='VAE3', color=variable_name)\n",
    "            fig.update_traces(marker_size=2)\n",
    "            fig.write_html(save_dir / dim_name / model_name / dataset_name / (variable_name +'_point-cloud.html'))"
   ],
   "metadata": {
    "collapsed": false
   }
  },
  {
   "cell_type": "code",
   "execution_count": null,
   "outputs": [],
   "source": [],
   "metadata": {
    "collapsed": false
   }
  }
 ],
 "metadata": {
  "kernelspec": {
   "display_name": "Python 3",
   "language": "python",
   "name": "python3"
  },
  "language_info": {
   "codemirror_mode": {
    "name": "ipython",
    "version": 2
   },
   "file_extension": ".py",
   "mimetype": "text/x-python",
   "name": "python",
   "nbconvert_exporter": "python",
   "pygments_lexer": "ipython2",
   "version": "2.7.6"
  }
 },
 "nbformat": 4,
 "nbformat_minor": 0
}
