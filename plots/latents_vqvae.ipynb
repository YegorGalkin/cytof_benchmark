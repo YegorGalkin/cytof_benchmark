{
 "cells": [
  {
   "cell_type": "code",
   "execution_count": 1,
   "metadata": {
    "collapsed": true
   },
   "outputs": [],
   "source": [
    "import sys\n",
    "\n",
    "import pandas as pd\n",
    "\n",
    "if \"..\" not in sys.path:\n",
    "    sys.path.insert(0, \"..\")"
   ]
  },
  {
   "cell_type": "code",
   "execution_count": 2,
   "outputs": [],
   "source": [
    "from datasets import OrganoidDataset\n",
    "from models import VQVAE\n",
    "from configs.vqvae import get_config\n",
    "import torch"
   ],
   "metadata": {
    "collapsed": false
   }
  },
  {
   "cell_type": "code",
   "execution_count": 3,
   "outputs": [],
   "source": [
    "config = get_config()\n",
    "config.n_layers=2\n",
    "config.hidden_features=32\n",
    "config.embed_entries=2\n",
    "config.embed_channels=8\n",
    "config.embed_dim=1\n",
    "\n",
    "data = OrganoidDataset(data_dir='/data/PycharmProjects/cytof_benchmark/data/organoids')\n",
    "model = VQVAE(config=config).to(config.device)\n",
    "\n",
    "X_train, y_train = data.train\n",
    "X_val, y_val = data.val\n",
    "X_test, y_test = data.test"
   ],
   "metadata": {
    "collapsed": false
   }
  },
  {
   "cell_type": "code",
   "execution_count": 4,
   "outputs": [],
   "source": [
    "checkpoint_file = '/data/PycharmProjects/cytof_benchmark/logs/VQVAE/exp_8/run_23/model.pth'"
   ],
   "metadata": {
    "collapsed": false
   }
  },
  {
   "cell_type": "code",
   "execution_count": 5,
   "outputs": [
    {
     "data": {
      "text/plain": "<All keys matched successfully>"
     },
     "execution_count": 5,
     "metadata": {},
     "output_type": "execute_result"
    }
   ],
   "source": [
    "model_checkpoint = torch.load(checkpoint_file)\n",
    "model.load_state_dict(model_checkpoint)"
   ],
   "metadata": {
    "collapsed": false
   }
  },
  {
   "cell_type": "code",
   "execution_count": 6,
   "outputs": [
    {
     "data": {
      "text/plain": "tensor([[ 0.3691,  3.2805,  0.8540,  ...,  2.2586,  5.9430,  8.4871],\n        [-1.8386,  3.0424,  7.3720,  ..., -0.2954,  4.7616,  1.8147],\n        [ 1.0163,  0.7789,  0.7059,  ...,  0.7262,  3.9918,  0.1125],\n        ...,\n        [-0.9265,  1.3669, -0.0152,  ..., -0.6471,  4.8156,  2.1567],\n        [-1.1816,  0.9818,  3.9361,  ...,  1.1103,  7.5415,  8.1801],\n        [ 0.7615,  0.4349,  1.2540,  ..., -0.2954,  7.1272,  3.4665]],\n       device='cuda:0', grad_fn=<AddBackward0>)"
     },
     "execution_count": 6,
     "metadata": {},
     "output_type": "execute_result"
    }
   ],
   "source": [
    "model.eval()\n",
    "encoded_val = model.encoder.forward(torch.Tensor(X_val).to('cuda'))\n",
    "encoded_test = model.encoder.forward(torch.Tensor(X_test).to('cuda'))\n",
    "encoded_val"
   ],
   "metadata": {
    "collapsed": false
   }
  },
  {
   "cell_type": "code",
   "execution_count": 7,
   "outputs": [
    {
     "data": {
      "text/plain": "torch.Size([234495, 32])"
     },
     "execution_count": 7,
     "metadata": {},
     "output_type": "execute_result"
    }
   ],
   "source": [
    "encoded_val.shape"
   ],
   "metadata": {
    "collapsed": false
   }
  },
  {
   "cell_type": "code",
   "execution_count": 8,
   "outputs": [
    {
     "data": {
      "text/plain": "torch.Size([117248, 32])"
     },
     "execution_count": 8,
     "metadata": {},
     "output_type": "execute_result"
    }
   ],
   "source": [
    "encoded_test.shape"
   ],
   "metadata": {
    "collapsed": false
   }
  },
  {
   "cell_type": "code",
   "execution_count": 9,
   "outputs": [],
   "source": [
    "outputs_val = list()\n",
    "outputs_test = list()\n",
    "with torch.no_grad():\n",
    "    for codebook in model.codebooks:\n",
    "        outputs_val.append(codebook.forward(encoded_val)[2].cpu().numpy())\n",
    "        outputs_test.append(codebook.forward(encoded_test)[2].cpu().numpy())"
   ],
   "metadata": {
    "collapsed": false
   }
  },
  {
   "cell_type": "code",
   "execution_count": 10,
   "outputs": [
    {
     "data": {
      "text/plain": "array([[0, 1, 0, ..., 0, 1, 0],\n       [0, 0, 1, ..., 0, 0, 0],\n       [1, 0, 1, ..., 0, 0, 1],\n       ...,\n       [1, 0, 1, ..., 0, 1, 0],\n       [0, 1, 0, ..., 1, 1, 0],\n       [0, 0, 0, ..., 0, 1, 0]])"
     },
     "execution_count": 10,
     "metadata": {},
     "output_type": "execute_result"
    }
   ],
   "source": [
    "import pandas as pd\n",
    "import numpy as np\n",
    "\n",
    "np.array(outputs_val).T"
   ],
   "metadata": {
    "collapsed": false
   }
  },
  {
   "cell_type": "code",
   "execution_count": 11,
   "outputs": [
    {
     "data": {
      "text/plain": "array([[1, 1, 0, ..., 0, 1, 0],\n       [1, 1, 0, ..., 1, 1, 0],\n       [0, 1, 0, ..., 0, 1, 0],\n       ...,\n       [0, 0, 1, ..., 1, 1, 0],\n       [0, 1, 1, ..., 0, 1, 0],\n       [0, 1, 0, ..., 0, 1, 0]])"
     },
     "execution_count": 11,
     "metadata": {},
     "output_type": "execute_result"
    }
   ],
   "source": [
    "np.array(outputs_test).T"
   ],
   "metadata": {
    "collapsed": false
   }
  },
  {
   "cell_type": "code",
   "execution_count": 12,
   "outputs": [],
   "source": [
    "pd.concat([y_val,pd.DataFrame(np.array(outputs_val).T,columns=[\"VQ_{}\".format(i) for i in range(1, 9)])],axis=1).to_csv(\n",
    "    '/data/PycharmProjects/cytof_benchmark/results/summary/vqvae/latent_8bit_binary_val.csv'\n",
    ")\n",
    "\n",
    "pd.concat([y_test,pd.DataFrame(np.array(outputs_test).T,columns=[\"VQ_{}\".format(i) for i in range(1, 9)])],axis=1).to_csv(\n",
    "    '/data/PycharmProjects/cytof_benchmark/results/summary/vqvae/latent_8bit_binary_test.csv'\n",
    ")"
   ],
   "metadata": {
    "collapsed": false
   }
  },
  {
   "cell_type": "code",
   "execution_count": 13,
   "outputs": [],
   "source": [
    "config = get_config()\n",
    "config.n_layers=6\n",
    "config.hidden_features=64\n",
    "config.embed_entries=256\n",
    "config.embed_channels=1\n",
    "config.embed_dim=2\n",
    "\n",
    "checkpoint_file = '/data/PycharmProjects/cytof_benchmark/logs/VQVAE/exp_8/run_48/model.pth'"
   ],
   "metadata": {
    "collapsed": false
   }
  },
  {
   "cell_type": "code",
   "execution_count": 14,
   "outputs": [
    {
     "data": {
      "text/plain": "<All keys matched successfully>"
     },
     "execution_count": 14,
     "metadata": {},
     "output_type": "execute_result"
    }
   ],
   "source": [
    "model = VQVAE(config=config).to(config.device)\n",
    "model_checkpoint = torch.load(checkpoint_file)\n",
    "model.load_state_dict(model_checkpoint)"
   ],
   "metadata": {
    "collapsed": false
   }
  },
  {
   "cell_type": "code",
   "execution_count": 15,
   "outputs": [
    {
     "data": {
      "text/plain": "tensor([[-3.0288,  2.3241, -5.2383,  ..., -6.3466, -1.7437, -0.7820],\n        [ 0.3396, -1.2505, -4.6614,  ..., -0.5607, -0.9361,  3.5800],\n        [-0.9290, -0.9715, -1.2207,  ..., -0.3555,  1.9868,  1.2538],\n        ...,\n        [-4.4608, -1.2449, -1.6243,  ..., -0.6221,  2.8256,  3.1274],\n        [ 0.5938,  1.8523, -5.2814,  ..., -1.0317, -0.2515,  0.8412],\n        [-8.5829, -4.6227, -3.1082,  ..., -1.9564,  3.2567,  2.0712]],\n       device='cuda:0', grad_fn=<AddBackward0>)"
     },
     "execution_count": 15,
     "metadata": {},
     "output_type": "execute_result"
    }
   ],
   "source": [
    "model.eval()\n",
    "encoded = model.encoder.forward(torch.Tensor(X_val).to('cuda'))\n",
    "encoded"
   ],
   "metadata": {
    "collapsed": false
   }
  },
  {
   "cell_type": "code",
   "execution_count": 16,
   "outputs": [
    {
     "data": {
      "text/plain": "torch.Size([234495, 64])"
     },
     "execution_count": 16,
     "metadata": {},
     "output_type": "execute_result"
    }
   ],
   "source": [
    "encoded.shape"
   ],
   "metadata": {
    "collapsed": false
   }
  },
  {
   "cell_type": "code",
   "execution_count": 55,
   "outputs": [
    {
     "data": {
      "text/plain": "ModuleList(\n  (0): CodeLayer(\n    (linear_in): Linear(in_features=64, out_features=256, bias=True)\n  )\n)"
     },
     "execution_count": 55,
     "metadata": {},
     "output_type": "execute_result"
    }
   ],
   "source": [
    "model.codebooks"
   ],
   "metadata": {
    "collapsed": false
   }
  },
  {
   "cell_type": "code",
   "execution_count": 54,
   "outputs": [],
   "source": [
    "quantize, diff, embed_ind = model.codebooks[0].forward(encoded)"
   ],
   "metadata": {
    "collapsed": false
   }
  },
  {
   "cell_type": "code",
   "execution_count": 69,
   "outputs": [],
   "source": [
    "pd.concat([y_val,pd.DataFrame(quantize.detach().cpu().numpy(),columns=['VQVAE1','VQVAE2'])],axis=1).to_csv(\n",
    "    '/data/PycharmProjects/cytof_benchmark/results/summary/vqvae/latent_8bit_coords.csv'\n",
    ")"
   ],
   "metadata": {
    "collapsed": false
   }
  },
  {
   "cell_type": "code",
   "execution_count": 67,
   "outputs": [
    {
     "data": {
      "text/plain": "        code\n0         88\n1          6\n2        193\n3         19\n4         66\n5        180\n7         67\n8         18\n9        119\n12        52\n13       169\n15       137\n17        42\n18        65\n19       147\n20        16\n21       211\n22       116\n23       153\n26         8\n30       225\n31       120\n36       162\n37       220\n39       249\n40        56\n46       199\n49       144\n58       214\n59        95\n69       190\n122      174\n144      208\n941      247\n105196   191\n217799   164",
      "text/html": "<div>\n<style scoped>\n    .dataframe tbody tr th:only-of-type {\n        vertical-align: middle;\n    }\n\n    .dataframe tbody tr th {\n        vertical-align: top;\n    }\n\n    .dataframe thead th {\n        text-align: right;\n    }\n</style>\n<table border=\"1\" class=\"dataframe\">\n  <thead>\n    <tr style=\"text-align: right;\">\n      <th></th>\n      <th>code</th>\n    </tr>\n  </thead>\n  <tbody>\n    <tr>\n      <th>0</th>\n      <td>88</td>\n    </tr>\n    <tr>\n      <th>1</th>\n      <td>6</td>\n    </tr>\n    <tr>\n      <th>2</th>\n      <td>193</td>\n    </tr>\n    <tr>\n      <th>3</th>\n      <td>19</td>\n    </tr>\n    <tr>\n      <th>4</th>\n      <td>66</td>\n    </tr>\n    <tr>\n      <th>5</th>\n      <td>180</td>\n    </tr>\n    <tr>\n      <th>7</th>\n      <td>67</td>\n    </tr>\n    <tr>\n      <th>8</th>\n      <td>18</td>\n    </tr>\n    <tr>\n      <th>9</th>\n      <td>119</td>\n    </tr>\n    <tr>\n      <th>12</th>\n      <td>52</td>\n    </tr>\n    <tr>\n      <th>13</th>\n      <td>169</td>\n    </tr>\n    <tr>\n      <th>15</th>\n      <td>137</td>\n    </tr>\n    <tr>\n      <th>17</th>\n      <td>42</td>\n    </tr>\n    <tr>\n      <th>18</th>\n      <td>65</td>\n    </tr>\n    <tr>\n      <th>19</th>\n      <td>147</td>\n    </tr>\n    <tr>\n      <th>20</th>\n      <td>16</td>\n    </tr>\n    <tr>\n      <th>21</th>\n      <td>211</td>\n    </tr>\n    <tr>\n      <th>22</th>\n      <td>116</td>\n    </tr>\n    <tr>\n      <th>23</th>\n      <td>153</td>\n    </tr>\n    <tr>\n      <th>26</th>\n      <td>8</td>\n    </tr>\n    <tr>\n      <th>30</th>\n      <td>225</td>\n    </tr>\n    <tr>\n      <th>31</th>\n      <td>120</td>\n    </tr>\n    <tr>\n      <th>36</th>\n      <td>162</td>\n    </tr>\n    <tr>\n      <th>37</th>\n      <td>220</td>\n    </tr>\n    <tr>\n      <th>39</th>\n      <td>249</td>\n    </tr>\n    <tr>\n      <th>40</th>\n      <td>56</td>\n    </tr>\n    <tr>\n      <th>46</th>\n      <td>199</td>\n    </tr>\n    <tr>\n      <th>49</th>\n      <td>144</td>\n    </tr>\n    <tr>\n      <th>58</th>\n      <td>214</td>\n    </tr>\n    <tr>\n      <th>59</th>\n      <td>95</td>\n    </tr>\n    <tr>\n      <th>69</th>\n      <td>190</td>\n    </tr>\n    <tr>\n      <th>122</th>\n      <td>174</td>\n    </tr>\n    <tr>\n      <th>144</th>\n      <td>208</td>\n    </tr>\n    <tr>\n      <th>941</th>\n      <td>247</td>\n    </tr>\n    <tr>\n      <th>105196</th>\n      <td>191</td>\n    </tr>\n    <tr>\n      <th>217799</th>\n      <td>164</td>\n    </tr>\n  </tbody>\n</table>\n</div>"
     },
     "execution_count": 67,
     "metadata": {},
     "output_type": "execute_result"
    }
   ],
   "source": [
    "pd.DataFrame(embed_ind.detach().cpu().numpy(),columns=['code']).drop_duplicates()"
   ],
   "metadata": {
    "collapsed": false
   }
  },
  {
   "cell_type": "code",
   "execution_count": null,
   "outputs": [],
   "source": [],
   "metadata": {
    "collapsed": false
   }
  }
 ],
 "metadata": {
  "kernelspec": {
   "display_name": "Python 3",
   "language": "python",
   "name": "python3"
  },
  "language_info": {
   "codemirror_mode": {
    "name": "ipython",
    "version": 2
   },
   "file_extension": ".py",
   "mimetype": "text/x-python",
   "name": "python",
   "nbconvert_exporter": "python",
   "pygments_lexer": "ipython2",
   "version": "2.7.6"
  }
 },
 "nbformat": 4,
 "nbformat_minor": 0
}
