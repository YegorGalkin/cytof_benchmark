{
 "cells": [
  {
   "cell_type": "code",
   "execution_count": 1,
   "metadata": {
    "collapsed": true
   },
   "outputs": [],
   "source": [
    "import sys\n",
    "if \"..\" not in sys.path:\n",
    "    sys.path.insert(0, \"..\")"
   ]
  },
  {
   "cell_type": "code",
   "execution_count": 32,
   "outputs": [],
   "source": [
    "from datasets import OrganoidDataset\n",
    "\n",
    "dataset = OrganoidDataset(data_dir='/data/PycharmProjects/cytof_benchmark/data/organoids')\n",
    "\n",
    "import torch\n",
    "\n",
    "X_val, y_val = dataset.val\n",
    "X_val_batches = torch.split(torch.Tensor(X_val).to('cuda'), split_size_or_sections=32*1024)"
   ],
   "metadata": {
    "collapsed": false
   }
  },
  {
   "cell_type": "code",
   "execution_count": 14,
   "outputs": [
    {
     "data": {
      "text/plain": "          index        cell_type  day\n0        125964       Enterocyte    2\n1        573521       Enterocyte    7\n2       1112662             Tuft    5\n3       1058543             Tuft    2\n4       1031398             Stem    7\n...         ...              ...  ...\n234490   857805             Stem    4\n234491   167125       Enterocyte    2\n234492   680457  Enteroendocrine    6\n234493   139701       Enterocyte    2\n234494   412098       Enterocyte    4\n\n[234495 rows x 3 columns]",
      "text/html": "<div>\n<style scoped>\n    .dataframe tbody tr th:only-of-type {\n        vertical-align: middle;\n    }\n\n    .dataframe tbody tr th {\n        vertical-align: top;\n    }\n\n    .dataframe thead th {\n        text-align: right;\n    }\n</style>\n<table border=\"1\" class=\"dataframe\">\n  <thead>\n    <tr style=\"text-align: right;\">\n      <th></th>\n      <th>index</th>\n      <th>cell_type</th>\n      <th>day</th>\n    </tr>\n  </thead>\n  <tbody>\n    <tr>\n      <th>0</th>\n      <td>125964</td>\n      <td>Enterocyte</td>\n      <td>2</td>\n    </tr>\n    <tr>\n      <th>1</th>\n      <td>573521</td>\n      <td>Enterocyte</td>\n      <td>7</td>\n    </tr>\n    <tr>\n      <th>2</th>\n      <td>1112662</td>\n      <td>Tuft</td>\n      <td>5</td>\n    </tr>\n    <tr>\n      <th>3</th>\n      <td>1058543</td>\n      <td>Tuft</td>\n      <td>2</td>\n    </tr>\n    <tr>\n      <th>4</th>\n      <td>1031398</td>\n      <td>Stem</td>\n      <td>7</td>\n    </tr>\n    <tr>\n      <th>...</th>\n      <td>...</td>\n      <td>...</td>\n      <td>...</td>\n    </tr>\n    <tr>\n      <th>234490</th>\n      <td>857805</td>\n      <td>Stem</td>\n      <td>4</td>\n    </tr>\n    <tr>\n      <th>234491</th>\n      <td>167125</td>\n      <td>Enterocyte</td>\n      <td>2</td>\n    </tr>\n    <tr>\n      <th>234492</th>\n      <td>680457</td>\n      <td>Enteroendocrine</td>\n      <td>6</td>\n    </tr>\n    <tr>\n      <th>234493</th>\n      <td>139701</td>\n      <td>Enterocyte</td>\n      <td>2</td>\n    </tr>\n    <tr>\n      <th>234494</th>\n      <td>412098</td>\n      <td>Enterocyte</td>\n      <td>4</td>\n    </tr>\n  </tbody>\n</table>\n<p>234495 rows × 3 columns</p>\n</div>"
     },
     "execution_count": 14,
     "metadata": {},
     "output_type": "execute_result"
    }
   ],
   "source": [
    "y_val"
   ],
   "metadata": {
    "collapsed": false
   }
  },
  {
   "cell_type": "code",
   "execution_count": 4,
   "outputs": [],
   "source": [
    "from configs.pbt import beta_vae_pbt,dbeta_vae_pbt,wae_pbt,hs_vae_pbt"
   ],
   "metadata": {
    "collapsed": false
   }
  },
  {
   "cell_type": "code",
   "execution_count": 5,
   "outputs": [],
   "source": [
    "model_names = [\"BetaVAE\", \"DBetaVAE\", \"WAE_MMD\", \"HyperSphericalVAE\"]\n",
    "configs = [beta_vae_pbt.get_config(),dbeta_vae_pbt.get_config(),wae_pbt.get_config(),hs_vae_pbt.get_config()]\n",
    "\n",
    "dataset_names = ['OrganoidDataset', 'CafDataset', 'ChallengeDataset']\n",
    "data_dirs = ['data/organoids', 'data/caf', 'data/breast_cancer_challenge']\n",
    "features = [41, 44, 37]"
   ],
   "metadata": {
    "collapsed": false
   }
  },
  {
   "cell_type": "code",
   "execution_count": 6,
   "outputs": [],
   "source": [
    "import glob\n",
    "bench_dir = \"/home/egor/Desktop/ray_tune/pbt_bench/\"\n",
    "checkpoint_files = glob.glob(bench_dir + \"*/*/model.pth\")"
   ],
   "metadata": {
    "collapsed": false
   }
  },
  {
   "cell_type": "code",
   "execution_count": 7,
   "outputs": [
    {
     "data": {
      "text/plain": "['/home/egor/Desktop/ray_tune/pbt_bench/HyperSphericalVAE/ChallengeDataset/model.pth',\n '/home/egor/Desktop/ray_tune/pbt_bench/HyperSphericalVAE/CafDataset/model.pth',\n '/home/egor/Desktop/ray_tune/pbt_bench/HyperSphericalVAE/OrganoidDataset/model.pth',\n '/home/egor/Desktop/ray_tune/pbt_bench/DBetaVAE/ChallengeDataset/model.pth',\n '/home/egor/Desktop/ray_tune/pbt_bench/DBetaVAE/CafDataset/model.pth',\n '/home/egor/Desktop/ray_tune/pbt_bench/DBetaVAE/OrganoidDataset/model.pth',\n '/home/egor/Desktop/ray_tune/pbt_bench/BetaVAE/ChallengeDataset/model.pth',\n '/home/egor/Desktop/ray_tune/pbt_bench/BetaVAE/CafDataset/model.pth',\n '/home/egor/Desktop/ray_tune/pbt_bench/BetaVAE/OrganoidDataset/model.pth',\n '/home/egor/Desktop/ray_tune/pbt_bench/WAE_MMD/ChallengeDataset/model.pth',\n '/home/egor/Desktop/ray_tune/pbt_bench/WAE_MMD/CafDataset/model.pth',\n '/home/egor/Desktop/ray_tune/pbt_bench/WAE_MMD/OrganoidDataset/model.pth']"
     },
     "execution_count": 7,
     "metadata": {},
     "output_type": "execute_result"
    }
   ],
   "source": [
    "checkpoint_files"
   ],
   "metadata": {
    "collapsed": false
   }
  },
  {
   "cell_type": "code",
   "execution_count": 8,
   "outputs": [],
   "source": [
    "checkpoint_dict = dict()\n",
    "for checkpoint_file in checkpoint_files:\n",
    "    dataset = checkpoint_file.split('/')[-2]\n",
    "    model = checkpoint_file.split('/')[-3]\n",
    "    if dataset not in checkpoint_dict:\n",
    "        checkpoint_dict[dataset]=dict()\n",
    "    checkpoint_dict[dataset][model]= checkpoint_file"
   ],
   "metadata": {
    "collapsed": false
   }
  },
  {
   "cell_type": "code",
   "execution_count": 9,
   "outputs": [
    {
     "data": {
      "text/plain": "{'ChallengeDataset': {'HyperSphericalVAE': '/home/egor/Desktop/ray_tune/pbt_bench/HyperSphericalVAE/ChallengeDataset/model.pth',\n  'DBetaVAE': '/home/egor/Desktop/ray_tune/pbt_bench/DBetaVAE/ChallengeDataset/model.pth',\n  'BetaVAE': '/home/egor/Desktop/ray_tune/pbt_bench/BetaVAE/ChallengeDataset/model.pth',\n  'WAE_MMD': '/home/egor/Desktop/ray_tune/pbt_bench/WAE_MMD/ChallengeDataset/model.pth'},\n 'CafDataset': {'HyperSphericalVAE': '/home/egor/Desktop/ray_tune/pbt_bench/HyperSphericalVAE/CafDataset/model.pth',\n  'DBetaVAE': '/home/egor/Desktop/ray_tune/pbt_bench/DBetaVAE/CafDataset/model.pth',\n  'BetaVAE': '/home/egor/Desktop/ray_tune/pbt_bench/BetaVAE/CafDataset/model.pth',\n  'WAE_MMD': '/home/egor/Desktop/ray_tune/pbt_bench/WAE_MMD/CafDataset/model.pth'},\n 'OrganoidDataset': {'HyperSphericalVAE': '/home/egor/Desktop/ray_tune/pbt_bench/HyperSphericalVAE/OrganoidDataset/model.pth',\n  'DBetaVAE': '/home/egor/Desktop/ray_tune/pbt_bench/DBetaVAE/OrganoidDataset/model.pth',\n  'BetaVAE': '/home/egor/Desktop/ray_tune/pbt_bench/BetaVAE/OrganoidDataset/model.pth',\n  'WAE_MMD': '/home/egor/Desktop/ray_tune/pbt_bench/WAE_MMD/OrganoidDataset/model.pth'}}"
     },
     "execution_count": 9,
     "metadata": {},
     "output_type": "execute_result"
    }
   ],
   "source": [
    "checkpoint_dict"
   ],
   "metadata": {
    "collapsed": false
   }
  },
  {
   "cell_type": "code",
   "execution_count": 29,
   "outputs": [],
   "source": [
    "organoid_models = checkpoint_dict['OrganoidDataset']"
   ],
   "metadata": {
    "collapsed": false
   }
  },
  {
   "cell_type": "code",
   "execution_count": 34,
   "outputs": [
    {
     "data": {
      "text/plain": "{'HyperSphericalVAE': '/home/egor/Desktop/ray_tune/pbt_bench/HyperSphericalVAE/OrganoidDataset/model.pth',\n 'DBetaVAE': '/home/egor/Desktop/ray_tune/pbt_bench/DBetaVAE/OrganoidDataset/model.pth',\n 'BetaVAE': '/home/egor/Desktop/ray_tune/pbt_bench/BetaVAE/OrganoidDataset/model.pth',\n 'WAE_MMD': '/home/egor/Desktop/ray_tune/pbt_bench/WAE_MMD/OrganoidDataset/model.pth'}"
     },
     "execution_count": 34,
     "metadata": {},
     "output_type": "execute_result"
    }
   ],
   "source": [
    "organoid_models"
   ],
   "metadata": {
    "collapsed": false
   }
  },
  {
   "cell_type": "code",
   "execution_count": 38,
   "outputs": [
    {
     "name": "stderr",
     "output_type": "stream",
     "text": [
      "/data/PycharmProjects/cytof_benchmark/venv/lib/python3.10/site-packages/torch/distributions/distribution.py:45: UserWarning:\n",
      "\n",
      "<class 'models.hyperspherical_vae_extra.distributions.hyperspherical_uniform.HypersphericalUniform'> does not define `arg_constraints`. Please set `arg_constraints = {}` or initialize the distribution with `validate_args=False` to turn off validation.\n",
      "\n",
      "/data/PycharmProjects/cytof_benchmark/venv/lib/python3.10/site-packages/bokeh/io/saving.py:142: UserWarning:\n",
      "\n",
      "save() called but no resources were supplied and output_file(...) was never called, defaulting to resources.CDN\n",
      "\n",
      "/data/PycharmProjects/cytof_benchmark/venv/lib/python3.10/site-packages/bokeh/io/saving.py:154: UserWarning:\n",
      "\n",
      "save() called but no title was supplied and output_file(...) was never called, using default title 'Bokeh Plot'\n",
      "\n",
      "/data/PycharmProjects/cytof_benchmark/venv/lib/python3.10/site-packages/pandas/core/dtypes/cast.py:127: ShapelyDeprecationWarning:\n",
      "\n",
      "The array interface is deprecated and will no longer work in Shapely 2.0. Convert the '.coords' to a numpy array instead.\n",
      "\n"
     ]
    },
    {
     "data": {
      "text/plain": "<Figure size 1200x1200 with 0 Axes>"
     },
     "metadata": {},
     "output_type": "display_data"
    }
   ],
   "source": [
    "import models\n",
    "import pandas as pd\n",
    "import seaborn as sns\n",
    "import matplotlib.pyplot as plt\n",
    "import os\n",
    "\n",
    "save_dir ='/data/PycharmProjects/cytof_benchmark/results/latents'\n",
    "\n",
    "for config, model_name in zip(configs,model_names):\n",
    "    with config.unlocked():\n",
    "        config.in_features = 41\n",
    "\n",
    "    model_class = getattr(models, model_name)\n",
    "    model = model_class(config).to('cuda')\n",
    "\n",
    "    plot_name = 'OrganoidDataset/{}_dim{}'.format(model_name,config.latent_dim)\n",
    "\n",
    "    checkpoint = torch.load(organoid_models[model_name])\n",
    "    model.load_state_dict(checkpoint['model'])\n",
    "    latent_vals = []\n",
    "    with torch.no_grad():\n",
    "        for X_batch in X_val_batches:\n",
    "            latent_val_batch = model.latent(X_batch).to('cpu')\n",
    "            latent_vals.append(latent_val_batch)\n",
    "\n",
    "    latent_val = torch.cat(latent_vals)\n",
    "    latent_df = pd.DataFrame(latent_val.numpy(), columns=[\"VAE{}\".format(i) for i in range(1, latent_val.shape[1] + 1)])\n",
    "\n",
    "    sns.set(rc={'figure.figsize':(12,12)})\n",
    "    dot_plot = sns.scatterplot(x=\"VAE1\", y=\"VAE2\",\n",
    "                            data=pd.concat([latent_df, y_val], axis=1).head(100000),\n",
    "                          hue='cell_type',\n",
    "                          legend=True,\n",
    "                          alpha=0.5)\n",
    "    plt.savefig(os.path.join(save_dir, plot_name+'_cell_type_latent.png'))\n",
    "    plt.clf()\n",
    "\n",
    "    sns.set(rc={'figure.figsize':(12,12)})\n",
    "    dot_plot = sns.scatterplot(x=\"VAE1\", y=\"VAE2\",\n",
    "                            data=pd.concat([latent_df, y_val], axis=1).head(100000),\n",
    "                          hue='day',\n",
    "                          legend=True,\n",
    "                          alpha=0.5)\n",
    "    plt.savefig(os.path.join(save_dir, plot_name+'_day_latent.png'))\n",
    "    plt.clf()\n",
    "\n",
    "        # UMAP plot\n",
    "    if config.latent_dim > 2:\n",
    "        import umap\n",
    "        import umap.plot\n",
    "        from bokeh.io import save\n",
    "\n",
    "        mapper = umap.UMAP(low_memory=False,n_jobs=64).fit(latent_df)\n",
    "        umap_points = 10000\n",
    "        mapper.embedding_ = mapper.embedding_[:umap_points]\n",
    "\n",
    "        p = umap.plot.interactive(mapper,\n",
    "                                  labels=y_val['cell_type'].head(umap_points),\n",
    "                                  hover_data=y_val.head(umap_points),\n",
    "                                  point_size=2,\n",
    "                                  interactive_text_search=True,\n",
    "                                  interactive_text_search_columns=['cell_type', \"day\"])\n",
    "        save(p, filename=os.path.join(save_dir, plot_name+'latent_umap.html'))\n",
    "\n",
    "    # Spherical plots\n",
    "    if config.model == 'HyperSphericalVAE' and config.latent_dim == 3:\n",
    "        import cartopy\n",
    "        import geopandas\n",
    "        from shapely.geometry import Point\n",
    "        import plotly.express as px\n",
    "\n",
    "        sphere = geopandas.GeoSeries(latent_df.apply(Point, axis=1), crs=cartopy.crs.Geocentric())\n",
    "        projected = sphere.to_crs(cartopy.crs.Mollweide())\n",
    "        data = pd.DataFrame({'x': projected.x,\n",
    "                             'y': projected.y,\n",
    "                             'cell_type': y_val['cell_type'],\n",
    "                             'day': y_val['day']})\n",
    "        # 2d projection plot\n",
    "        sns.scatterplot(x=\"x\", y=\"y\",\n",
    "                   data=data.head(10000),\n",
    "                   hue='cell_type',  # color by cluster\n",
    "                   legend=True,\n",
    "                   alpha=0.5)\n",
    "        plt.axis('equal')\n",
    "        plt.savefig(os.path.join(save_dir, plot_name+'latent_projection.png'))\n",
    "        plt.clf()\n",
    "        # 3d point cloud plot\n",
    "        plot_data = pd.concat([latent_df, y_val], axis=1).head(10000)\n",
    "        fig = px.scatter_3d(plot_data, x='VAE1', y='VAE2', z='VAE3', color='cell_type')\n",
    "        fig.update_traces(marker_size=2)\n",
    "        fig.write_html(os.path.join(save_dir, plot_name+'latent_point_cloud.html'))"
   ],
   "metadata": {
    "collapsed": false
   }
  },
  {
   "cell_type": "code",
   "execution_count": 39,
   "outputs": [
    {
     "data": {
      "text/plain": "            index      Date Patient Culture Treatment Concentration Replicate  \\\n0         2840618  20210518       5     PDO         S             2         C   \n1         6904274  20210330      27    PDOF        VS             3         A   \n2         5478019  20210420      75     PDO         S             1         A   \n3         7230165  20210525     216    PDOF        VS             2         C   \n4         7643022  20210524     109    PDOF        VS             2         A   \n...           ...       ...     ...     ...       ...           ...       ...   \n4951201   5232280  20210608      11       F         S             1         C   \n4951202  17554307  20210524     109    PDOF         F             3         B   \n4951203   8748653  20210518       5    PDOF         L             1         A   \n4951204  17634951  20210524     109       F         F             4         B   \n4951205  23479085  20210518      23    PDOF       CSF             4         C   \n\n        Cell_type      pPKCa Plate  Batch  \n0            PDOs  48.466751   SLV      1  \n1            PDOs        NaN   SLV      1  \n2            PDOs        NaN   SLV      1  \n3            Fibs   8.220644   SLV      1  \n4            Fibs  27.408182   SLV      1  \n...           ...        ...   ...    ...  \n4951201      Fibs  56.341122   SLV      1  \n4951202      PDOs  70.352081   CSF      1  \n4951203      Fibs   4.410349   SLV      1  \n4951204      Fibs  24.214802   CSF      1  \n4951205      Fibs  41.338696   CSF      1  \n\n[4951206 rows x 11 columns]",
      "text/html": "<div>\n<style scoped>\n    .dataframe tbody tr th:only-of-type {\n        vertical-align: middle;\n    }\n\n    .dataframe tbody tr th {\n        vertical-align: top;\n    }\n\n    .dataframe thead th {\n        text-align: right;\n    }\n</style>\n<table border=\"1\" class=\"dataframe\">\n  <thead>\n    <tr style=\"text-align: right;\">\n      <th></th>\n      <th>index</th>\n      <th>Date</th>\n      <th>Patient</th>\n      <th>Culture</th>\n      <th>Treatment</th>\n      <th>Concentration</th>\n      <th>Replicate</th>\n      <th>Cell_type</th>\n      <th>pPKCa</th>\n      <th>Plate</th>\n      <th>Batch</th>\n    </tr>\n  </thead>\n  <tbody>\n    <tr>\n      <th>0</th>\n      <td>2840618</td>\n      <td>20210518</td>\n      <td>5</td>\n      <td>PDO</td>\n      <td>S</td>\n      <td>2</td>\n      <td>C</td>\n      <td>PDOs</td>\n      <td>48.466751</td>\n      <td>SLV</td>\n      <td>1</td>\n    </tr>\n    <tr>\n      <th>1</th>\n      <td>6904274</td>\n      <td>20210330</td>\n      <td>27</td>\n      <td>PDOF</td>\n      <td>VS</td>\n      <td>3</td>\n      <td>A</td>\n      <td>PDOs</td>\n      <td>NaN</td>\n      <td>SLV</td>\n      <td>1</td>\n    </tr>\n    <tr>\n      <th>2</th>\n      <td>5478019</td>\n      <td>20210420</td>\n      <td>75</td>\n      <td>PDO</td>\n      <td>S</td>\n      <td>1</td>\n      <td>A</td>\n      <td>PDOs</td>\n      <td>NaN</td>\n      <td>SLV</td>\n      <td>1</td>\n    </tr>\n    <tr>\n      <th>3</th>\n      <td>7230165</td>\n      <td>20210525</td>\n      <td>216</td>\n      <td>PDOF</td>\n      <td>VS</td>\n      <td>2</td>\n      <td>C</td>\n      <td>Fibs</td>\n      <td>8.220644</td>\n      <td>SLV</td>\n      <td>1</td>\n    </tr>\n    <tr>\n      <th>4</th>\n      <td>7643022</td>\n      <td>20210524</td>\n      <td>109</td>\n      <td>PDOF</td>\n      <td>VS</td>\n      <td>2</td>\n      <td>A</td>\n      <td>Fibs</td>\n      <td>27.408182</td>\n      <td>SLV</td>\n      <td>1</td>\n    </tr>\n    <tr>\n      <th>...</th>\n      <td>...</td>\n      <td>...</td>\n      <td>...</td>\n      <td>...</td>\n      <td>...</td>\n      <td>...</td>\n      <td>...</td>\n      <td>...</td>\n      <td>...</td>\n      <td>...</td>\n      <td>...</td>\n    </tr>\n    <tr>\n      <th>4951201</th>\n      <td>5232280</td>\n      <td>20210608</td>\n      <td>11</td>\n      <td>F</td>\n      <td>S</td>\n      <td>1</td>\n      <td>C</td>\n      <td>Fibs</td>\n      <td>56.341122</td>\n      <td>SLV</td>\n      <td>1</td>\n    </tr>\n    <tr>\n      <th>4951202</th>\n      <td>17554307</td>\n      <td>20210524</td>\n      <td>109</td>\n      <td>PDOF</td>\n      <td>F</td>\n      <td>3</td>\n      <td>B</td>\n      <td>PDOs</td>\n      <td>70.352081</td>\n      <td>CSF</td>\n      <td>1</td>\n    </tr>\n    <tr>\n      <th>4951203</th>\n      <td>8748653</td>\n      <td>20210518</td>\n      <td>5</td>\n      <td>PDOF</td>\n      <td>L</td>\n      <td>1</td>\n      <td>A</td>\n      <td>Fibs</td>\n      <td>4.410349</td>\n      <td>SLV</td>\n      <td>1</td>\n    </tr>\n    <tr>\n      <th>4951204</th>\n      <td>17634951</td>\n      <td>20210524</td>\n      <td>109</td>\n      <td>F</td>\n      <td>F</td>\n      <td>4</td>\n      <td>B</td>\n      <td>Fibs</td>\n      <td>24.214802</td>\n      <td>CSF</td>\n      <td>1</td>\n    </tr>\n    <tr>\n      <th>4951205</th>\n      <td>23479085</td>\n      <td>20210518</td>\n      <td>23</td>\n      <td>PDOF</td>\n      <td>CSF</td>\n      <td>4</td>\n      <td>C</td>\n      <td>Fibs</td>\n      <td>41.338696</td>\n      <td>CSF</td>\n      <td>1</td>\n    </tr>\n  </tbody>\n</table>\n<p>4951206 rows × 11 columns</p>\n</div>"
     },
     "execution_count": 39,
     "metadata": {},
     "output_type": "execute_result"
    }
   ],
   "source": [
    "from datasets import CafDataset\n",
    "\n",
    "dataset = CafDataset(data_dir='/data/PycharmProjects/cytof_benchmark/data/caf')\n",
    "\n",
    "X_val, y_val = dataset.val\n",
    "X_val_batches = torch.split(torch.Tensor(X_val).to('cuda'), split_size_or_sections=32*1024)\n",
    "y_val"
   ],
   "metadata": {
    "collapsed": false
   }
  },
  {
   "cell_type": "code",
   "execution_count": 40,
   "outputs": [
    {
     "data": {
      "text/plain": "{'HyperSphericalVAE': '/home/egor/Desktop/ray_tune/pbt_bench/HyperSphericalVAE/CafDataset/model.pth',\n 'DBetaVAE': '/home/egor/Desktop/ray_tune/pbt_bench/DBetaVAE/CafDataset/model.pth',\n 'BetaVAE': '/home/egor/Desktop/ray_tune/pbt_bench/BetaVAE/CafDataset/model.pth',\n 'WAE_MMD': '/home/egor/Desktop/ray_tune/pbt_bench/WAE_MMD/CafDataset/model.pth'}"
     },
     "execution_count": 40,
     "metadata": {},
     "output_type": "execute_result"
    }
   ],
   "source": [
    "caf_models = checkpoint_dict['CafDataset']\n",
    "caf_models"
   ],
   "metadata": {
    "collapsed": false
   }
  },
  {
   "cell_type": "code",
   "execution_count": 43,
   "outputs": [
    {
     "name": "stderr",
     "output_type": "stream",
     "text": [
      "/data/PycharmProjects/cytof_benchmark/venv/lib/python3.10/site-packages/torch/distributions/distribution.py:45: UserWarning:\n",
      "\n",
      "<class 'models.hyperspherical_vae_extra.distributions.hyperspherical_uniform.HypersphericalUniform'> does not define `arg_constraints`. Please set `arg_constraints = {}` or initialize the distribution with `validate_args=False` to turn off validation.\n",
      "\n",
      "/data/PycharmProjects/cytof_benchmark/venv/lib/python3.10/site-packages/umap/spectral.py:342: UserWarning:\n",
      "\n",
      "Exited at iteration 20 with accuracies \n",
      "[0.01159898 0.01145096 0.01146064]\n",
      "not reaching the requested tolerance 1e-08.\n",
      "\n",
      "/data/PycharmProjects/cytof_benchmark/venv/lib/python3.10/site-packages/bokeh/io/saving.py:142: UserWarning:\n",
      "\n",
      "save() called but no resources were supplied and output_file(...) was never called, defaulting to resources.CDN\n",
      "\n",
      "/data/PycharmProjects/cytof_benchmark/venv/lib/python3.10/site-packages/bokeh/io/saving.py:154: UserWarning:\n",
      "\n",
      "save() called but no title was supplied and output_file(...) was never called, using default title 'Bokeh Plot'\n",
      "\n",
      "/data/PycharmProjects/cytof_benchmark/venv/lib/python3.10/site-packages/pandas/core/dtypes/cast.py:127: ShapelyDeprecationWarning:\n",
      "\n",
      "The array interface is deprecated and will no longer work in Shapely 2.0. Convert the '.coords' to a numpy array instead.\n",
      "\n"
     ]
    },
    {
     "data": {
      "text/plain": "<Figure size 1200x1200 with 0 Axes>"
     },
     "metadata": {},
     "output_type": "display_data"
    }
   ],
   "source": [
    "for config, model_name in zip(configs,model_names):\n",
    "    with config.unlocked():\n",
    "        config.in_features = 44\n",
    "    model_class = getattr(models, model_name)\n",
    "    model = model_class(config).to('cuda')\n",
    "\n",
    "    plot_name = 'CAFDataset/{}_dim{}'.format(model_name,config.latent_dim)\n",
    "\n",
    "    checkpoint = torch.load(caf_models[model_name])\n",
    "    model.load_state_dict(checkpoint['model'])\n",
    "    latent_vals = []\n",
    "    with torch.no_grad():\n",
    "        for X_batch in X_val_batches:\n",
    "            latent_val_batch = model.latent(X_batch).to('cpu')\n",
    "            latent_vals.append(latent_val_batch)\n",
    "\n",
    "    latent_val = torch.cat(latent_vals)\n",
    "    latent_df = pd.DataFrame(latent_val.numpy(), columns=[\"VAE{}\".format(i) for i in range(1, latent_val.shape[1] + 1)])\n",
    "\n",
    "    sns.set(rc={'figure.figsize':(12,12)})\n",
    "    dot_plot = sns.scatterplot(x=\"VAE1\", y=\"VAE2\",\n",
    "                            data=pd.concat([latent_df, y_val], axis=1).head(100000),\n",
    "                          hue='Culture',\n",
    "                          legend=True,\n",
    "                          alpha=0.5)\n",
    "    plt.savefig(os.path.join(save_dir, plot_name+'_culture_latent.png'))\n",
    "    plt.clf()\n",
    "\n",
    "    sns.set(rc={'figure.figsize':(12,12)})\n",
    "    dot_plot = sns.scatterplot(x=\"VAE1\", y=\"VAE2\",\n",
    "                            data=pd.concat([latent_df, y_val], axis=1).head(100000),\n",
    "                          hue='Treatment',\n",
    "                          legend=True,\n",
    "                          alpha=0.5)\n",
    "    plt.savefig(os.path.join(save_dir, plot_name+'_treatment_latent.png'))\n",
    "    plt.clf()\n",
    "\n",
    "    # UMAP plot\n",
    "    if config.latent_dim > 2:\n",
    "        import umap\n",
    "        import umap.plot\n",
    "        from bokeh.io import save\n",
    "\n",
    "        mapper = umap.UMAP(low_memory=False,n_jobs=64).fit(latent_df)\n",
    "        umap_points = 10000\n",
    "        mapper.embedding_ = mapper.embedding_[:umap_points]\n",
    "\n",
    "        p = umap.plot.interactive(mapper,\n",
    "                                  labels=y_val['Treatment'].head(umap_points),\n",
    "                                  hover_data=y_val.head(umap_points),\n",
    "                                  point_size=2,\n",
    "                                  interactive_text_search=True,\n",
    "                                  interactive_text_search_columns=['Treatment', \"Culture\"])\n",
    "        save(p, filename=os.path.join(save_dir, plot_name+'latent_umap.html'))\n",
    "\n",
    "    # Spherical plots\n",
    "    if config.model == 'HyperSphericalVAE' and config.latent_dim == 3:\n",
    "        import cartopy\n",
    "        import geopandas\n",
    "        from shapely.geometry import Point\n",
    "        import plotly.express as px\n",
    "\n",
    "        sphere = geopandas.GeoSeries(latent_df.apply(Point, axis=1), crs=cartopy.crs.Geocentric())\n",
    "        projected = sphere.to_crs(cartopy.crs.Mollweide())\n",
    "        data = pd.DataFrame({'x': projected.x,\n",
    "                             'y': projected.y,\n",
    "                             'Treatment': y_val['Treatment'],\n",
    "                             'Culture': y_val['Culture']})\n",
    "        # 2d projection plot\n",
    "        sns.scatterplot(x=\"x\", y=\"y\",\n",
    "                   data=data.head(10000),\n",
    "                   hue='Treatment',  # color by cluster\n",
    "                   legend=True,\n",
    "                   alpha=0.5)\n",
    "        plt.axis('equal')\n",
    "        plt.savefig(os.path.join(save_dir, plot_name+'latent_projection.png'))\n",
    "        plt.clf()\n",
    "        # 3d point cloud plot\n",
    "        plot_data = pd.concat([latent_df, y_val], axis=1).head(10000)\n",
    "        fig = px.scatter_3d(plot_data, x='VAE1', y='VAE2', z='VAE3', color='Treatment')\n",
    "        fig.update_traces(marker_size=2)\n",
    "        fig.write_html(os.path.join(save_dir, plot_name+'latent_point_cloud.html'))"
   ],
   "metadata": {
    "collapsed": false
   }
  },
  {
   "cell_type": "code",
   "execution_count": 44,
   "outputs": [
    {
     "data": {
      "text/plain": "          index treatment cell_line  time  cellID  fileID\n0        855587      full    MCF10F   0.0   28353    2000\n1        364135      iPKC    HBL100  60.0    3115    1531\n2        356676     iPI3K     OCUBM   0.0    4744    2464\n3        248118      iMEK    HBL100  40.0    4960    1513\n4        142322      iMEK     EVSAT   0.0     898    1892\n...         ...       ...       ...   ...     ...     ...\n2204463  224723      iMEK     184A1  13.0    2845    2676\n2204464  121261       EGF    CAL851  60.0      36    1451\n2204465  350172      iPKC     CAL51   0.0    6718    1217\n2204466  350589      iPKC    MCF10F  17.0    2249     395\n2204467  157893     iEGFR    HBL100   9.0    1818    1515\n\n[2204468 rows x 6 columns]",
      "text/html": "<div>\n<style scoped>\n    .dataframe tbody tr th:only-of-type {\n        vertical-align: middle;\n    }\n\n    .dataframe tbody tr th {\n        vertical-align: top;\n    }\n\n    .dataframe thead th {\n        text-align: right;\n    }\n</style>\n<table border=\"1\" class=\"dataframe\">\n  <thead>\n    <tr style=\"text-align: right;\">\n      <th></th>\n      <th>index</th>\n      <th>treatment</th>\n      <th>cell_line</th>\n      <th>time</th>\n      <th>cellID</th>\n      <th>fileID</th>\n    </tr>\n  </thead>\n  <tbody>\n    <tr>\n      <th>0</th>\n      <td>855587</td>\n      <td>full</td>\n      <td>MCF10F</td>\n      <td>0.0</td>\n      <td>28353</td>\n      <td>2000</td>\n    </tr>\n    <tr>\n      <th>1</th>\n      <td>364135</td>\n      <td>iPKC</td>\n      <td>HBL100</td>\n      <td>60.0</td>\n      <td>3115</td>\n      <td>1531</td>\n    </tr>\n    <tr>\n      <th>2</th>\n      <td>356676</td>\n      <td>iPI3K</td>\n      <td>OCUBM</td>\n      <td>0.0</td>\n      <td>4744</td>\n      <td>2464</td>\n    </tr>\n    <tr>\n      <th>3</th>\n      <td>248118</td>\n      <td>iMEK</td>\n      <td>HBL100</td>\n      <td>40.0</td>\n      <td>4960</td>\n      <td>1513</td>\n    </tr>\n    <tr>\n      <th>4</th>\n      <td>142322</td>\n      <td>iMEK</td>\n      <td>EVSAT</td>\n      <td>0.0</td>\n      <td>898</td>\n      <td>1892</td>\n    </tr>\n    <tr>\n      <th>...</th>\n      <td>...</td>\n      <td>...</td>\n      <td>...</td>\n      <td>...</td>\n      <td>...</td>\n      <td>...</td>\n    </tr>\n    <tr>\n      <th>2204463</th>\n      <td>224723</td>\n      <td>iMEK</td>\n      <td>184A1</td>\n      <td>13.0</td>\n      <td>2845</td>\n      <td>2676</td>\n    </tr>\n    <tr>\n      <th>2204464</th>\n      <td>121261</td>\n      <td>EGF</td>\n      <td>CAL851</td>\n      <td>60.0</td>\n      <td>36</td>\n      <td>1451</td>\n    </tr>\n    <tr>\n      <th>2204465</th>\n      <td>350172</td>\n      <td>iPKC</td>\n      <td>CAL51</td>\n      <td>0.0</td>\n      <td>6718</td>\n      <td>1217</td>\n    </tr>\n    <tr>\n      <th>2204466</th>\n      <td>350589</td>\n      <td>iPKC</td>\n      <td>MCF10F</td>\n      <td>17.0</td>\n      <td>2249</td>\n      <td>395</td>\n    </tr>\n    <tr>\n      <th>2204467</th>\n      <td>157893</td>\n      <td>iEGFR</td>\n      <td>HBL100</td>\n      <td>9.0</td>\n      <td>1818</td>\n      <td>1515</td>\n    </tr>\n  </tbody>\n</table>\n<p>2204468 rows × 6 columns</p>\n</div>"
     },
     "execution_count": 44,
     "metadata": {},
     "output_type": "execute_result"
    }
   ],
   "source": [
    "from datasets import ChallengeDataset\n",
    "\n",
    "dataset = ChallengeDataset(data_dir='/data/PycharmProjects/cytof_benchmark/data/breast_cancer_challenge')\n",
    "\n",
    "X_val, y_val = dataset.val\n",
    "X_val_batches = torch.split(torch.Tensor(X_val).to('cuda'), split_size_or_sections=32*1024)\n",
    "y_val"
   ],
   "metadata": {
    "collapsed": false
   }
  },
  {
   "cell_type": "code",
   "execution_count": 45,
   "outputs": [
    {
     "data": {
      "text/plain": "{'HyperSphericalVAE': '/home/egor/Desktop/ray_tune/pbt_bench/HyperSphericalVAE/ChallengeDataset/model.pth',\n 'DBetaVAE': '/home/egor/Desktop/ray_tune/pbt_bench/DBetaVAE/ChallengeDataset/model.pth',\n 'BetaVAE': '/home/egor/Desktop/ray_tune/pbt_bench/BetaVAE/ChallengeDataset/model.pth',\n 'WAE_MMD': '/home/egor/Desktop/ray_tune/pbt_bench/WAE_MMD/ChallengeDataset/model.pth'}"
     },
     "execution_count": 45,
     "metadata": {},
     "output_type": "execute_result"
    }
   ],
   "source": [
    "challenge_models = checkpoint_dict['ChallengeDataset']\n",
    "challenge_models"
   ],
   "metadata": {
    "collapsed": false
   }
  },
  {
   "cell_type": "code",
   "execution_count": 47,
   "outputs": [
    {
     "name": "stderr",
     "output_type": "stream",
     "text": [
      "/data/PycharmProjects/cytof_benchmark/venv/lib/python3.10/site-packages/torch/distributions/distribution.py:45: UserWarning:\n",
      "\n",
      "<class 'models.hyperspherical_vae_extra.distributions.hyperspherical_uniform.HypersphericalUniform'> does not define `arg_constraints`. Please set `arg_constraints = {}` or initialize the distribution with `validate_args=False` to turn off validation.\n",
      "\n",
      "/data/PycharmProjects/cytof_benchmark/venv/lib/python3.10/site-packages/umap/spectral.py:342: UserWarning:\n",
      "\n",
      "Exited at iteration 20 with accuracies \n",
      "[0.01132264 0.0113911  0.01136983]\n",
      "not reaching the requested tolerance 1e-08.\n",
      "\n",
      "/data/PycharmProjects/cytof_benchmark/venv/lib/python3.10/site-packages/bokeh/io/saving.py:142: UserWarning:\n",
      "\n",
      "save() called but no resources were supplied and output_file(...) was never called, defaulting to resources.CDN\n",
      "\n",
      "/data/PycharmProjects/cytof_benchmark/venv/lib/python3.10/site-packages/bokeh/io/saving.py:154: UserWarning:\n",
      "\n",
      "save() called but no title was supplied and output_file(...) was never called, using default title 'Bokeh Plot'\n",
      "\n",
      "/data/PycharmProjects/cytof_benchmark/venv/lib/python3.10/site-packages/pandas/core/dtypes/cast.py:127: ShapelyDeprecationWarning:\n",
      "\n",
      "The array interface is deprecated and will no longer work in Shapely 2.0. Convert the '.coords' to a numpy array instead.\n",
      "\n"
     ]
    },
    {
     "data": {
      "text/plain": "<Figure size 1200x1200 with 0 Axes>"
     },
     "metadata": {},
     "output_type": "display_data"
    }
   ],
   "source": [
    "for config, model_name in zip(configs,model_names):\n",
    "    with config.unlocked():\n",
    "        config.in_features = 37\n",
    "    model_class = getattr(models, model_name)\n",
    "    model = model_class(config).to('cuda')\n",
    "\n",
    "    plot_name = 'ChallengeDataset/{}_dim{}'.format(model_name,config.latent_dim)\n",
    "\n",
    "    checkpoint = torch.load(challenge_models[model_name])\n",
    "    model.load_state_dict(checkpoint['model'])\n",
    "    latent_vals = []\n",
    "    with torch.no_grad():\n",
    "        for X_batch in X_val_batches:\n",
    "            latent_val_batch = model.latent(X_batch).to('cpu')\n",
    "            latent_vals.append(latent_val_batch)\n",
    "\n",
    "    latent_val = torch.cat(latent_vals)\n",
    "    latent_df = pd.DataFrame(latent_val.numpy(), columns=[\"VAE{}\".format(i) for i in range(1, latent_val.shape[1] + 1)])\n",
    "\n",
    "    sns.set(rc={'figure.figsize':(12,12)})\n",
    "    dot_plot = sns.scatterplot(x=\"VAE1\", y=\"VAE2\",\n",
    "                            data=pd.concat([latent_df, y_val], axis=1).head(100000),\n",
    "                          hue='cell_line',\n",
    "                          legend=True,\n",
    "                          alpha=0.5)\n",
    "    plt.savefig(os.path.join(save_dir, plot_name+'_cell_line_latent.png'))\n",
    "    plt.clf()\n",
    "\n",
    "    sns.set(rc={'figure.figsize':(12,12)})\n",
    "    dot_plot = sns.scatterplot(x=\"VAE1\", y=\"VAE2\",\n",
    "                            data=pd.concat([latent_df, y_val], axis=1).head(100000),\n",
    "                          hue='treatment',\n",
    "                          legend=True,\n",
    "                          alpha=0.5)\n",
    "    plt.savefig(os.path.join(save_dir, plot_name+'_treatment_latent.png'))\n",
    "    plt.clf()\n",
    "\n",
    "    # UMAP plot\n",
    "    if config.latent_dim > 2:\n",
    "        import umap\n",
    "        import umap.plot\n",
    "        from bokeh.io import save\n",
    "\n",
    "        mapper = umap.UMAP(low_memory=False,n_jobs=64).fit(latent_df)\n",
    "        umap_points = 10000\n",
    "        mapper.embedding_ = mapper.embedding_[:umap_points]\n",
    "\n",
    "        p = umap.plot.interactive(mapper,\n",
    "                                  labels=y_val['cell_line'].head(umap_points),\n",
    "                                  hover_data=y_val.head(umap_points),\n",
    "                                  point_size=2,\n",
    "                                  interactive_text_search=True,\n",
    "                                  interactive_text_search_columns=['cell_line', \"treatment\"])\n",
    "        save(p, filename=os.path.join(save_dir, plot_name+'latent_umap.html'))\n",
    "\n",
    "    # Spherical plots\n",
    "    if config.model == 'HyperSphericalVAE' and config.latent_dim == 3:\n",
    "        import cartopy\n",
    "        import geopandas\n",
    "        from shapely.geometry import Point\n",
    "        import plotly.express as px\n",
    "\n",
    "        sphere = geopandas.GeoSeries(latent_df.apply(Point, axis=1), crs=cartopy.crs.Geocentric())\n",
    "        projected = sphere.to_crs(cartopy.crs.Mollweide())\n",
    "        data = pd.DataFrame({'x': projected.x,\n",
    "                             'y': projected.y,\n",
    "                             'treatment': y_val['treatment'],\n",
    "                             'cell_line': y_val['cell_line']})\n",
    "        # 2d projection plot\n",
    "        sns.scatterplot(x=\"x\", y=\"y\",\n",
    "                   data=data.head(10000),\n",
    "                   hue='cell_line',  # color by cluster\n",
    "                   legend=True,\n",
    "                   alpha=0.5)\n",
    "        plt.axis('equal')\n",
    "        plt.savefig(os.path.join(save_dir, plot_name+'latent_projection.png'))\n",
    "        plt.clf()\n",
    "        # 3d point cloud plot\n",
    "        plot_data = pd.concat([latent_df, y_val], axis=1).head(10000)\n",
    "        fig = px.scatter_3d(plot_data, x='VAE1', y='VAE2', z='VAE3', color='cell_line')\n",
    "        fig.update_traces(marker_size=2)\n",
    "        fig.write_html(os.path.join(save_dir, plot_name+'latent_point_cloud.html'))"
   ],
   "metadata": {
    "collapsed": false
   }
  },
  {
   "cell_type": "code",
   "execution_count": null,
   "outputs": [],
   "source": [],
   "metadata": {
    "collapsed": false
   }
  }
 ],
 "metadata": {
  "kernelspec": {
   "display_name": "Python 3",
   "language": "python",
   "name": "python3"
  },
  "language_info": {
   "codemirror_mode": {
    "name": "ipython",
    "version": 2
   },
   "file_extension": ".py",
   "mimetype": "text/x-python",
   "name": "python",
   "nbconvert_exporter": "python",
   "pygments_lexer": "ipython2",
   "version": "2.7.6"
  }
 },
 "nbformat": 4,
 "nbformat_minor": 0
}
