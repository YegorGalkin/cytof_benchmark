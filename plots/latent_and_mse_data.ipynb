{
 "cells": [
  {
   "cell_type": "code",
   "execution_count": 1,
   "metadata": {
    "collapsed": true
   },
   "outputs": [],
   "source": [
    "import sys\n",
    "if \"..\" not in sys.path:\n",
    "    sys.path.insert(0, \"..\")"
   ]
  },
  {
   "cell_type": "code",
   "execution_count": 8,
   "outputs": [],
   "source": [
    "from configs.pbt import beta_vae_pbt,dbeta_vae_pbt,wae_pbt,hs_vae_pbt\n",
    "\n",
    "model_configs = {\n",
    "    \"BetaVAE\":beta_vae_pbt.get_config(),\n",
    "    \"DBetaVAE\":dbeta_vae_pbt.get_config(),\n",
    "    \"WAE_MMD\":wae_pbt.get_config(),\n",
    "    \"HyperSphericalVAE\":hs_vae_pbt.get_config(),\n",
    "}\n",
    "\n",
    "dataset_dirs = {\n",
    "    'OrganoidDataset':'/data/PycharmProjects/cytof_benchmark/data/organoids',\n",
    "    'CafDataset':'/data/PycharmProjects/cytof_benchmark/data/caf',\n",
    "    'ChallengeDataset':'/data/PycharmProjects/cytof_benchmark/data/breast_cancer_challenge',\n",
    "}"
   ],
   "metadata": {
    "collapsed": false
   }
  },
  {
   "cell_type": "code",
   "execution_count": 9,
   "outputs": [],
   "source": [
    "import glob\n",
    "bench_dir = \"/home/egor/Desktop/ray_tune/pbt_bench/\"\n",
    "checkpoint_files = glob.glob(bench_dir + \"*/*/*/model.pth\")"
   ],
   "metadata": {
    "collapsed": false
   }
  },
  {
   "cell_type": "code",
   "execution_count": 10,
   "outputs": [
    {
     "data": {
      "text/plain": "['/home/egor/Desktop/ray_tune/pbt_bench/dim5/HyperSphericalVAE/ChallengeDataset/model.pth',\n '/home/egor/Desktop/ray_tune/pbt_bench/dim5/HyperSphericalVAE/CafDataset/model.pth',\n '/home/egor/Desktop/ray_tune/pbt_bench/dim5/HyperSphericalVAE/OrganoidDataset/model.pth',\n '/home/egor/Desktop/ray_tune/pbt_bench/dim5/DBetaVAE/ChallengeDataset/model.pth',\n '/home/egor/Desktop/ray_tune/pbt_bench/dim5/DBetaVAE/CafDataset/model.pth',\n '/home/egor/Desktop/ray_tune/pbt_bench/dim5/DBetaVAE/OrganoidDataset/model.pth',\n '/home/egor/Desktop/ray_tune/pbt_bench/dim5/BetaVAE/ChallengeDataset/model.pth',\n '/home/egor/Desktop/ray_tune/pbt_bench/dim5/BetaVAE/CafDataset/model.pth',\n '/home/egor/Desktop/ray_tune/pbt_bench/dim5/BetaVAE/OrganoidDataset/model.pth',\n '/home/egor/Desktop/ray_tune/pbt_bench/dim5/WAE_MMD/ChallengeDataset/model.pth',\n '/home/egor/Desktop/ray_tune/pbt_bench/dim5/WAE_MMD/CafDataset/model.pth',\n '/home/egor/Desktop/ray_tune/pbt_bench/dim5/WAE_MMD/OrganoidDataset/model.pth',\n '/home/egor/Desktop/ray_tune/pbt_bench/dim3/HyperSphericalVAE/ChallengeDataset/model.pth',\n '/home/egor/Desktop/ray_tune/pbt_bench/dim3/HyperSphericalVAE/CafDataset/model.pth',\n '/home/egor/Desktop/ray_tune/pbt_bench/dim3/HyperSphericalVAE/OrganoidDataset/model.pth',\n '/home/egor/Desktop/ray_tune/pbt_bench/dim3/DBetaVAE/ChallengeDataset/model.pth',\n '/home/egor/Desktop/ray_tune/pbt_bench/dim3/DBetaVAE/CafDataset/model.pth',\n '/home/egor/Desktop/ray_tune/pbt_bench/dim3/DBetaVAE/OrganoidDataset/model.pth',\n '/home/egor/Desktop/ray_tune/pbt_bench/dim3/BetaVAE/ChallengeDataset/model.pth',\n '/home/egor/Desktop/ray_tune/pbt_bench/dim3/BetaVAE/CafDataset/model.pth',\n '/home/egor/Desktop/ray_tune/pbt_bench/dim3/BetaVAE/OrganoidDataset/model.pth',\n '/home/egor/Desktop/ray_tune/pbt_bench/dim3/WAE_MMD/ChallengeDataset/model.pth',\n '/home/egor/Desktop/ray_tune/pbt_bench/dim3/WAE_MMD/CafDataset/model.pth',\n '/home/egor/Desktop/ray_tune/pbt_bench/dim3/WAE_MMD/OrganoidDataset/model.pth',\n '/home/egor/Desktop/ray_tune/pbt_bench/dim2/HyperSphericalVAE/ChallengeDataset/model.pth',\n '/home/egor/Desktop/ray_tune/pbt_bench/dim2/HyperSphericalVAE/CafDataset/model.pth',\n '/home/egor/Desktop/ray_tune/pbt_bench/dim2/HyperSphericalVAE/OrganoidDataset/model.pth',\n '/home/egor/Desktop/ray_tune/pbt_bench/dim2/DBetaVAE/ChallengeDataset/model.pth',\n '/home/egor/Desktop/ray_tune/pbt_bench/dim2/DBetaVAE/CafDataset/model.pth',\n '/home/egor/Desktop/ray_tune/pbt_bench/dim2/DBetaVAE/OrganoidDataset/model.pth',\n '/home/egor/Desktop/ray_tune/pbt_bench/dim2/BetaVAE/ChallengeDataset/model.pth',\n '/home/egor/Desktop/ray_tune/pbt_bench/dim2/BetaVAE/CafDataset/model.pth',\n '/home/egor/Desktop/ray_tune/pbt_bench/dim2/BetaVAE/OrganoidDataset/model.pth',\n '/home/egor/Desktop/ray_tune/pbt_bench/dim2/WAE_MMD/ChallengeDataset/model.pth',\n '/home/egor/Desktop/ray_tune/pbt_bench/dim2/WAE_MMD/CafDataset/model.pth',\n '/home/egor/Desktop/ray_tune/pbt_bench/dim2/WAE_MMD/OrganoidDataset/model.pth']"
     },
     "execution_count": 10,
     "metadata": {},
     "output_type": "execute_result"
    }
   ],
   "source": [
    "checkpoint_files"
   ],
   "metadata": {
    "collapsed": false
   }
  },
  {
   "cell_type": "code",
   "execution_count": 11,
   "outputs": [],
   "source": [
    "checkpoint_list = list()\n",
    "for checkpoint_file in checkpoint_files:\n",
    "    dataset = checkpoint_file.split('/')[-2]\n",
    "    model = checkpoint_file.split('/')[-3]\n",
    "    dim = checkpoint_file.split('/')[-4]\n",
    "    checkpoint_list.append((dataset,model,dim,checkpoint_file))"
   ],
   "metadata": {
    "collapsed": false
   }
  },
  {
   "cell_type": "code",
   "execution_count": 12,
   "outputs": [
    {
     "data": {
      "text/plain": "[('ChallengeDataset',\n  'HyperSphericalVAE',\n  'dim5',\n  '/home/egor/Desktop/ray_tune/pbt_bench/dim5/HyperSphericalVAE/ChallengeDataset/model.pth'),\n ('CafDataset',\n  'HyperSphericalVAE',\n  'dim5',\n  '/home/egor/Desktop/ray_tune/pbt_bench/dim5/HyperSphericalVAE/CafDataset/model.pth'),\n ('OrganoidDataset',\n  'HyperSphericalVAE',\n  'dim5',\n  '/home/egor/Desktop/ray_tune/pbt_bench/dim5/HyperSphericalVAE/OrganoidDataset/model.pth'),\n ('ChallengeDataset',\n  'DBetaVAE',\n  'dim5',\n  '/home/egor/Desktop/ray_tune/pbt_bench/dim5/DBetaVAE/ChallengeDataset/model.pth'),\n ('CafDataset',\n  'DBetaVAE',\n  'dim5',\n  '/home/egor/Desktop/ray_tune/pbt_bench/dim5/DBetaVAE/CafDataset/model.pth'),\n ('OrganoidDataset',\n  'DBetaVAE',\n  'dim5',\n  '/home/egor/Desktop/ray_tune/pbt_bench/dim5/DBetaVAE/OrganoidDataset/model.pth'),\n ('ChallengeDataset',\n  'BetaVAE',\n  'dim5',\n  '/home/egor/Desktop/ray_tune/pbt_bench/dim5/BetaVAE/ChallengeDataset/model.pth'),\n ('CafDataset',\n  'BetaVAE',\n  'dim5',\n  '/home/egor/Desktop/ray_tune/pbt_bench/dim5/BetaVAE/CafDataset/model.pth'),\n ('OrganoidDataset',\n  'BetaVAE',\n  'dim5',\n  '/home/egor/Desktop/ray_tune/pbt_bench/dim5/BetaVAE/OrganoidDataset/model.pth'),\n ('ChallengeDataset',\n  'WAE_MMD',\n  'dim5',\n  '/home/egor/Desktop/ray_tune/pbt_bench/dim5/WAE_MMD/ChallengeDataset/model.pth'),\n ('CafDataset',\n  'WAE_MMD',\n  'dim5',\n  '/home/egor/Desktop/ray_tune/pbt_bench/dim5/WAE_MMD/CafDataset/model.pth'),\n ('OrganoidDataset',\n  'WAE_MMD',\n  'dim5',\n  '/home/egor/Desktop/ray_tune/pbt_bench/dim5/WAE_MMD/OrganoidDataset/model.pth'),\n ('ChallengeDataset',\n  'HyperSphericalVAE',\n  'dim3',\n  '/home/egor/Desktop/ray_tune/pbt_bench/dim3/HyperSphericalVAE/ChallengeDataset/model.pth'),\n ('CafDataset',\n  'HyperSphericalVAE',\n  'dim3',\n  '/home/egor/Desktop/ray_tune/pbt_bench/dim3/HyperSphericalVAE/CafDataset/model.pth'),\n ('OrganoidDataset',\n  'HyperSphericalVAE',\n  'dim3',\n  '/home/egor/Desktop/ray_tune/pbt_bench/dim3/HyperSphericalVAE/OrganoidDataset/model.pth'),\n ('ChallengeDataset',\n  'DBetaVAE',\n  'dim3',\n  '/home/egor/Desktop/ray_tune/pbt_bench/dim3/DBetaVAE/ChallengeDataset/model.pth'),\n ('CafDataset',\n  'DBetaVAE',\n  'dim3',\n  '/home/egor/Desktop/ray_tune/pbt_bench/dim3/DBetaVAE/CafDataset/model.pth'),\n ('OrganoidDataset',\n  'DBetaVAE',\n  'dim3',\n  '/home/egor/Desktop/ray_tune/pbt_bench/dim3/DBetaVAE/OrganoidDataset/model.pth'),\n ('ChallengeDataset',\n  'BetaVAE',\n  'dim3',\n  '/home/egor/Desktop/ray_tune/pbt_bench/dim3/BetaVAE/ChallengeDataset/model.pth'),\n ('CafDataset',\n  'BetaVAE',\n  'dim3',\n  '/home/egor/Desktop/ray_tune/pbt_bench/dim3/BetaVAE/CafDataset/model.pth'),\n ('OrganoidDataset',\n  'BetaVAE',\n  'dim3',\n  '/home/egor/Desktop/ray_tune/pbt_bench/dim3/BetaVAE/OrganoidDataset/model.pth'),\n ('ChallengeDataset',\n  'WAE_MMD',\n  'dim3',\n  '/home/egor/Desktop/ray_tune/pbt_bench/dim3/WAE_MMD/ChallengeDataset/model.pth'),\n ('CafDataset',\n  'WAE_MMD',\n  'dim3',\n  '/home/egor/Desktop/ray_tune/pbt_bench/dim3/WAE_MMD/CafDataset/model.pth'),\n ('OrganoidDataset',\n  'WAE_MMD',\n  'dim3',\n  '/home/egor/Desktop/ray_tune/pbt_bench/dim3/WAE_MMD/OrganoidDataset/model.pth'),\n ('ChallengeDataset',\n  'HyperSphericalVAE',\n  'dim2',\n  '/home/egor/Desktop/ray_tune/pbt_bench/dim2/HyperSphericalVAE/ChallengeDataset/model.pth'),\n ('CafDataset',\n  'HyperSphericalVAE',\n  'dim2',\n  '/home/egor/Desktop/ray_tune/pbt_bench/dim2/HyperSphericalVAE/CafDataset/model.pth'),\n ('OrganoidDataset',\n  'HyperSphericalVAE',\n  'dim2',\n  '/home/egor/Desktop/ray_tune/pbt_bench/dim2/HyperSphericalVAE/OrganoidDataset/model.pth'),\n ('ChallengeDataset',\n  'DBetaVAE',\n  'dim2',\n  '/home/egor/Desktop/ray_tune/pbt_bench/dim2/DBetaVAE/ChallengeDataset/model.pth'),\n ('CafDataset',\n  'DBetaVAE',\n  'dim2',\n  '/home/egor/Desktop/ray_tune/pbt_bench/dim2/DBetaVAE/CafDataset/model.pth'),\n ('OrganoidDataset',\n  'DBetaVAE',\n  'dim2',\n  '/home/egor/Desktop/ray_tune/pbt_bench/dim2/DBetaVAE/OrganoidDataset/model.pth'),\n ('ChallengeDataset',\n  'BetaVAE',\n  'dim2',\n  '/home/egor/Desktop/ray_tune/pbt_bench/dim2/BetaVAE/ChallengeDataset/model.pth'),\n ('CafDataset',\n  'BetaVAE',\n  'dim2',\n  '/home/egor/Desktop/ray_tune/pbt_bench/dim2/BetaVAE/CafDataset/model.pth'),\n ('OrganoidDataset',\n  'BetaVAE',\n  'dim2',\n  '/home/egor/Desktop/ray_tune/pbt_bench/dim2/BetaVAE/OrganoidDataset/model.pth'),\n ('ChallengeDataset',\n  'WAE_MMD',\n  'dim2',\n  '/home/egor/Desktop/ray_tune/pbt_bench/dim2/WAE_MMD/ChallengeDataset/model.pth'),\n ('CafDataset',\n  'WAE_MMD',\n  'dim2',\n  '/home/egor/Desktop/ray_tune/pbt_bench/dim2/WAE_MMD/CafDataset/model.pth'),\n ('OrganoidDataset',\n  'WAE_MMD',\n  'dim2',\n  '/home/egor/Desktop/ray_tune/pbt_bench/dim2/WAE_MMD/OrganoidDataset/model.pth')]"
     },
     "execution_count": 12,
     "metadata": {},
     "output_type": "execute_result"
    }
   ],
   "source": [
    "checkpoint_list"
   ],
   "metadata": {
    "collapsed": false
   }
  },
  {
   "cell_type": "code",
   "execution_count": 19,
   "outputs": [
    {
     "name": "stderr",
     "output_type": "stream",
     "text": [
      "  0%|          | 0/36 [00:00<?, ?it/s]/data/PycharmProjects/cytof_benchmark/venv/lib/python3.10/site-packages/torch/distributions/distribution.py:45: UserWarning: <class 'models.hyperspherical_vae_extra.distributions.hyperspherical_uniform.HypersphericalUniform'> does not define `arg_constraints`. Please set `arg_constraints = {}` or initialize the distribution with `validate_args=False` to turn off validation.\n",
      "  warnings.warn(f'{self.__class__} does not define `arg_constraints`. ' +\n",
      "/data/PycharmProjects/cytof_benchmark/venv/lib/python3.10/site-packages/torch/distributions/distribution.py:45: UserWarning: <class 'models.hyperspherical_vae_extra.distributions.hyperspherical_uniform.HypersphericalUniform'> does not define `arg_constraints`. Please set `arg_constraints = {}` or initialize the distribution with `validate_args=False` to turn off validation.\n",
      "  warnings.warn(f'{self.__class__} does not define `arg_constraints`. ' +\n",
      "/data/PycharmProjects/cytof_benchmark/venv/lib/python3.10/site-packages/torch/distributions/distribution.py:45: UserWarning: <class 'models.hyperspherical_vae_extra.distributions.hyperspherical_uniform.HypersphericalUniform'> does not define `arg_constraints`. Please set `arg_constraints = {}` or initialize the distribution with `validate_args=False` to turn off validation.\n",
      "  warnings.warn(f'{self.__class__} does not define `arg_constraints`. ' +\n",
      "  3%|▎         | 1/36 [04:26<2:35:24, 266.41s/it]/data/PycharmProjects/cytof_benchmark/venv/lib/python3.10/site-packages/torch/distributions/distribution.py:45: UserWarning: <class 'models.hyperspherical_vae_extra.distributions.hyperspherical_uniform.HypersphericalUniform'> does not define `arg_constraints`. Please set `arg_constraints = {}` or initialize the distribution with `validate_args=False` to turn off validation.\n",
      "  warnings.warn(f'{self.__class__} does not define `arg_constraints`. ' +\n",
      "/data/PycharmProjects/cytof_benchmark/venv/lib/python3.10/site-packages/torch/distributions/distribution.py:45: UserWarning: <class 'models.hyperspherical_vae_extra.distributions.hyperspherical_uniform.HypersphericalUniform'> does not define `arg_constraints`. Please set `arg_constraints = {}` or initialize the distribution with `validate_args=False` to turn off validation.\n",
      "  warnings.warn(f'{self.__class__} does not define `arg_constraints`. ' +\n",
      "/data/PycharmProjects/cytof_benchmark/venv/lib/python3.10/site-packages/torch/distributions/distribution.py:45: UserWarning: <class 'models.hyperspherical_vae_extra.distributions.hyperspherical_uniform.HypersphericalUniform'> does not define `arg_constraints`. Please set `arg_constraints = {}` or initialize the distribution with `validate_args=False` to turn off validation.\n",
      "  warnings.warn(f'{self.__class__} does not define `arg_constraints`. ' +\n",
      "  6%|▌         | 2/36 [14:31<4:23:58, 465.85s/it]/data/PycharmProjects/cytof_benchmark/venv/lib/python3.10/site-packages/torch/distributions/distribution.py:45: UserWarning: <class 'models.hyperspherical_vae_extra.distributions.hyperspherical_uniform.HypersphericalUniform'> does not define `arg_constraints`. Please set `arg_constraints = {}` or initialize the distribution with `validate_args=False` to turn off validation.\n",
      "  warnings.warn(f'{self.__class__} does not define `arg_constraints`. ' +\n",
      "/data/PycharmProjects/cytof_benchmark/venv/lib/python3.10/site-packages/torch/distributions/distribution.py:45: UserWarning: <class 'models.hyperspherical_vae_extra.distributions.hyperspherical_uniform.HypersphericalUniform'> does not define `arg_constraints`. Please set `arg_constraints = {}` or initialize the distribution with `validate_args=False` to turn off validation.\n",
      "  warnings.warn(f'{self.__class__} does not define `arg_constraints`. ' +\n",
      "/data/PycharmProjects/cytof_benchmark/venv/lib/python3.10/site-packages/torch/distributions/distribution.py:45: UserWarning: <class 'models.hyperspherical_vae_extra.distributions.hyperspherical_uniform.HypersphericalUniform'> does not define `arg_constraints`. Please set `arg_constraints = {}` or initialize the distribution with `validate_args=False` to turn off validation.\n",
      "  warnings.warn(f'{self.__class__} does not define `arg_constraints`. ' +\n",
      " 33%|███▎      | 12/36 [55:44<1:36:15, 240.64s/it]/data/PycharmProjects/cytof_benchmark/venv/lib/python3.10/site-packages/torch/distributions/distribution.py:45: UserWarning: <class 'models.hyperspherical_vae_extra.distributions.hyperspherical_uniform.HypersphericalUniform'> does not define `arg_constraints`. Please set `arg_constraints = {}` or initialize the distribution with `validate_args=False` to turn off validation.\n",
      "  warnings.warn(f'{self.__class__} does not define `arg_constraints`. ' +\n",
      "/data/PycharmProjects/cytof_benchmark/venv/lib/python3.10/site-packages/torch/distributions/distribution.py:45: UserWarning: <class 'models.hyperspherical_vae_extra.distributions.hyperspherical_uniform.HypersphericalUniform'> does not define `arg_constraints`. Please set `arg_constraints = {}` or initialize the distribution with `validate_args=False` to turn off validation.\n",
      "  warnings.warn(f'{self.__class__} does not define `arg_constraints`. ' +\n",
      "/data/PycharmProjects/cytof_benchmark/venv/lib/python3.10/site-packages/torch/distributions/distribution.py:45: UserWarning: <class 'models.hyperspherical_vae_extra.distributions.hyperspherical_uniform.HypersphericalUniform'> does not define `arg_constraints`. Please set `arg_constraints = {}` or initialize the distribution with `validate_args=False` to turn off validation.\n",
      "  warnings.warn(f'{self.__class__} does not define `arg_constraints`. ' +\n",
      " 36%|███▌      | 13/36 [1:00:00<1:33:57, 245.10s/it]/data/PycharmProjects/cytof_benchmark/venv/lib/python3.10/site-packages/torch/distributions/distribution.py:45: UserWarning: <class 'models.hyperspherical_vae_extra.distributions.hyperspherical_uniform.HypersphericalUniform'> does not define `arg_constraints`. Please set `arg_constraints = {}` or initialize the distribution with `validate_args=False` to turn off validation.\n",
      "  warnings.warn(f'{self.__class__} does not define `arg_constraints`. ' +\n",
      "/data/PycharmProjects/cytof_benchmark/venv/lib/python3.10/site-packages/torch/distributions/distribution.py:45: UserWarning: <class 'models.hyperspherical_vae_extra.distributions.hyperspherical_uniform.HypersphericalUniform'> does not define `arg_constraints`. Please set `arg_constraints = {}` or initialize the distribution with `validate_args=False` to turn off validation.\n",
      "  warnings.warn(f'{self.__class__} does not define `arg_constraints`. ' +\n",
      "/data/PycharmProjects/cytof_benchmark/venv/lib/python3.10/site-packages/torch/distributions/distribution.py:45: UserWarning: <class 'models.hyperspherical_vae_extra.distributions.hyperspherical_uniform.HypersphericalUniform'> does not define `arg_constraints`. Please set `arg_constraints = {}` or initialize the distribution with `validate_args=False` to turn off validation.\n",
      "  warnings.warn(f'{self.__class__} does not define `arg_constraints`. ' +\n",
      " 39%|███▉      | 14/36 [1:09:41<2:07:10, 346.84s/it]/data/PycharmProjects/cytof_benchmark/venv/lib/python3.10/site-packages/torch/distributions/distribution.py:45: UserWarning: <class 'models.hyperspherical_vae_extra.distributions.hyperspherical_uniform.HypersphericalUniform'> does not define `arg_constraints`. Please set `arg_constraints = {}` or initialize the distribution with `validate_args=False` to turn off validation.\n",
      "  warnings.warn(f'{self.__class__} does not define `arg_constraints`. ' +\n",
      "/data/PycharmProjects/cytof_benchmark/venv/lib/python3.10/site-packages/torch/distributions/distribution.py:45: UserWarning: <class 'models.hyperspherical_vae_extra.distributions.hyperspherical_uniform.HypersphericalUniform'> does not define `arg_constraints`. Please set `arg_constraints = {}` or initialize the distribution with `validate_args=False` to turn off validation.\n",
      "  warnings.warn(f'{self.__class__} does not define `arg_constraints`. ' +\n",
      "/data/PycharmProjects/cytof_benchmark/venv/lib/python3.10/site-packages/torch/distributions/distribution.py:45: UserWarning: <class 'models.hyperspherical_vae_extra.distributions.hyperspherical_uniform.HypersphericalUniform'> does not define `arg_constraints`. Please set `arg_constraints = {}` or initialize the distribution with `validate_args=False` to turn off validation.\n",
      "  warnings.warn(f'{self.__class__} does not define `arg_constraints`. ' +\n",
      " 67%|██████▋   | 24/36 [1:49:01<46:26, 232.24s/it]  /data/PycharmProjects/cytof_benchmark/venv/lib/python3.10/site-packages/torch/distributions/distribution.py:45: UserWarning: <class 'models.hyperspherical_vae_extra.distributions.hyperspherical_uniform.HypersphericalUniform'> does not define `arg_constraints`. Please set `arg_constraints = {}` or initialize the distribution with `validate_args=False` to turn off validation.\n",
      "  warnings.warn(f'{self.__class__} does not define `arg_constraints`. ' +\n",
      "/data/PycharmProjects/cytof_benchmark/venv/lib/python3.10/site-packages/torch/distributions/distribution.py:45: UserWarning: <class 'models.hyperspherical_vae_extra.distributions.hyperspherical_uniform.HypersphericalUniform'> does not define `arg_constraints`. Please set `arg_constraints = {}` or initialize the distribution with `validate_args=False` to turn off validation.\n",
      "  warnings.warn(f'{self.__class__} does not define `arg_constraints`. ' +\n",
      "/data/PycharmProjects/cytof_benchmark/venv/lib/python3.10/site-packages/torch/distributions/distribution.py:45: UserWarning: <class 'models.hyperspherical_vae_extra.distributions.hyperspherical_uniform.HypersphericalUniform'> does not define `arg_constraints`. Please set `arg_constraints = {}` or initialize the distribution with `validate_args=False` to turn off validation.\n",
      "  warnings.warn(f'{self.__class__} does not define `arg_constraints`. ' +\n",
      " 69%|██████▉   | 25/36 [1:52:43<42:03, 229.41s/it]/data/PycharmProjects/cytof_benchmark/venv/lib/python3.10/site-packages/torch/distributions/distribution.py:45: UserWarning: <class 'models.hyperspherical_vae_extra.distributions.hyperspherical_uniform.HypersphericalUniform'> does not define `arg_constraints`. Please set `arg_constraints = {}` or initialize the distribution with `validate_args=False` to turn off validation.\n",
      "  warnings.warn(f'{self.__class__} does not define `arg_constraints`. ' +\n",
      "/data/PycharmProjects/cytof_benchmark/venv/lib/python3.10/site-packages/torch/distributions/distribution.py:45: UserWarning: <class 'models.hyperspherical_vae_extra.distributions.hyperspherical_uniform.HypersphericalUniform'> does not define `arg_constraints`. Please set `arg_constraints = {}` or initialize the distribution with `validate_args=False` to turn off validation.\n",
      "  warnings.warn(f'{self.__class__} does not define `arg_constraints`. ' +\n",
      "/data/PycharmProjects/cytof_benchmark/venv/lib/python3.10/site-packages/torch/distributions/distribution.py:45: UserWarning: <class 'models.hyperspherical_vae_extra.distributions.hyperspherical_uniform.HypersphericalUniform'> does not define `arg_constraints`. Please set `arg_constraints = {}` or initialize the distribution with `validate_args=False` to turn off validation.\n",
      "  warnings.warn(f'{self.__class__} does not define `arg_constraints`. ' +\n",
      " 72%|███████▏  | 26/36 [2:01:16<52:24, 314.49s/it]/data/PycharmProjects/cytof_benchmark/venv/lib/python3.10/site-packages/torch/distributions/distribution.py:45: UserWarning: <class 'models.hyperspherical_vae_extra.distributions.hyperspherical_uniform.HypersphericalUniform'> does not define `arg_constraints`. Please set `arg_constraints = {}` or initialize the distribution with `validate_args=False` to turn off validation.\n",
      "  warnings.warn(f'{self.__class__} does not define `arg_constraints`. ' +\n",
      "/data/PycharmProjects/cytof_benchmark/venv/lib/python3.10/site-packages/torch/distributions/distribution.py:45: UserWarning: <class 'models.hyperspherical_vae_extra.distributions.hyperspherical_uniform.HypersphericalUniform'> does not define `arg_constraints`. Please set `arg_constraints = {}` or initialize the distribution with `validate_args=False` to turn off validation.\n",
      "  warnings.warn(f'{self.__class__} does not define `arg_constraints`. ' +\n",
      "/data/PycharmProjects/cytof_benchmark/venv/lib/python3.10/site-packages/torch/distributions/distribution.py:45: UserWarning: <class 'models.hyperspherical_vae_extra.distributions.hyperspherical_uniform.HypersphericalUniform'> does not define `arg_constraints`. Please set `arg_constraints = {}` or initialize the distribution with `validate_args=False` to turn off validation.\n",
      "  warnings.warn(f'{self.__class__} does not define `arg_constraints`. ' +\n",
      "100%|██████████| 36/36 [2:39:30<00:00, 265.86s/it]\n"
     ]
    }
   ],
   "source": [
    "from pathlib import Path\n",
    "from tqdm import tqdm\n",
    "import torch\n",
    "import pandas as pd\n",
    "import datasets\n",
    "import models\n",
    "\n",
    "\n",
    "save_dir = Path('/data/PycharmProjects/cytof_benchmark/results')\n",
    "\n",
    "for dataset_name,model_name,dim_name,model_checkpoint_path in tqdm(checkpoint_list):\n",
    "    dataset_class = getattr(datasets, dataset_name)\n",
    "    dataset_dir = dataset_dirs[dataset_name]\n",
    "\n",
    "    dataset = dataset_class(data_dir=dataset_dir)\n",
    "    dataset_features = dataset.variables.shape[0]\n",
    "    latent_dim = int(dim_name[-1])\n",
    "    if model_name == 'HyperSphericalVAE':\n",
    "        latent_dim = latent_dim+1\n",
    "\n",
    "    model_class = getattr(models, model_name)\n",
    "    config = model_configs[model_name]\n",
    "    with config.unlocked():\n",
    "        config.in_features = dataset_features\n",
    "        config.latent_dim = latent_dim\n",
    "\n",
    "    model = model_class(config).to('cuda')\n",
    "    model_checkpoint = torch.load(model_checkpoint_path)\n",
    "    model.load_state_dict(model_checkpoint['model'])\n",
    "\n",
    "    splits = ['train','val', 'test']\n",
    "\n",
    "    for split in splits:\n",
    "        X,y = getattr(dataset, split)\n",
    "        X_batches = torch.split(torch.Tensor(X).to('cuda'), split_size_or_sections=32*1024)\n",
    "\n",
    "        latent_vals = []\n",
    "        decoded_batches = []\n",
    "        with torch.no_grad():\n",
    "            for X_batch in X_batches:\n",
    "                latent_val_batch = model.latent(X_batch).to('cpu')\n",
    "                latent_vals.append(latent_val_batch)\n",
    "\n",
    "                decoded_batch = model.forward(X_batch)[0].to('cpu')\n",
    "                decoded_batches.append(decoded_batch)\n",
    "\n",
    "        latent_val = torch.cat(latent_vals)\n",
    "        decoded = torch.cat(decoded_batches)\n",
    "\n",
    "        latent_df = pd.DataFrame(latent_val.numpy(), columns=[\"VAE{}\".format(i) for i in range(1, latent_val.shape[1] + 1)])\n",
    "        latent_df_file = save_dir / 'latent_data' / dim_name / model_name / dataset_name / (split+'.csv')\n",
    "        latent_df_file.parent.mkdir(parents=True, exist_ok=True)\n",
    "        latent_df.to_csv(latent_df_file)\n",
    "\n",
    "        mse_df = pd.DataFrame(((decoded-torch.Tensor(X))**2).numpy(), columns=list(dataset.variables))\n",
    "        mse_df_file = save_dir / 'mse_data' / dim_name / model_name / dataset_name / (split+'.csv')\n",
    "        mse_df_file.parent.mkdir(parents=True, exist_ok=True)\n",
    "        mse_df.to_csv(mse_df_file)"
   ],
   "metadata": {
    "collapsed": false
   }
  }
 ],
 "metadata": {
  "kernelspec": {
   "display_name": "Python 3",
   "language": "python",
   "name": "python3"
  },
  "language_info": {
   "codemirror_mode": {
    "name": "ipython",
    "version": 2
   },
   "file_extension": ".py",
   "mimetype": "text/x-python",
   "name": "python",
   "nbconvert_exporter": "python",
   "pygments_lexer": "ipython2",
   "version": "2.7.6"
  }
 },
 "nbformat": 4,
 "nbformat_minor": 0
}
